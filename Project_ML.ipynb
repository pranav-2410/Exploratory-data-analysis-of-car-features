{
  "nbformat": 4,
  "nbformat_minor": 0,
  "metadata": {
    "colab": {
      "name": "Project-ML.ipynb",
      "provenance": [],
      "collapsed_sections": [],
      "authorship_tag": "ABX9TyMcpXsksNTeRKRIvNDKQiTt",
      "include_colab_link": true
    },
    "kernelspec": {
      "name": "python3",
      "display_name": "Python 3"
    }
  },
  "cells": [
    {
      "cell_type": "markdown",
      "metadata": {
        "id": "view-in-github",
        "colab_type": "text"
      },
      "source": [
        "<a href=\"https://colab.research.google.com/github/pranav-2410/Project-ML/blob/master/Project_ML.ipynb\" target=\"_parent\"><img src=\"https://colab.research.google.com/assets/colab-badge.svg\" alt=\"Open In Colab\"/></a>"
      ]
    },
    {
      "cell_type": "markdown",
      "metadata": {
        "id": "soNj0v9A_GNu",
        "colab_type": "text"
      },
      "source": [
        "**1**. Importing the required libreries :\n"
      ]
    },
    {
      "cell_type": "code",
      "metadata": {
        "id": "rcv7mtClT-zb",
        "colab_type": "code",
        "colab": {}
      },
      "source": [
        " \n",
        "import pandas as pd\n",
        "import numpy as np\n",
        "import matplotlib.pyplot as plt"
      ],
      "execution_count": 9,
      "outputs": []
    },
    {
      "cell_type": "markdown",
      "metadata": {
        "id": "mtsHsSuZlgso",
        "colab_type": "text"
      },
      "source": [
        "**1**.1  Importing the Dataset into data\n",
        "\n",
        "\n",
        "\n"
      ]
    },
    {
      "cell_type": "code",
      "metadata": {
        "id": "XMo_19AJARnU",
        "colab_type": "code",
        "colab": {}
      },
      "source": [
        "#to import the dataset which is csv format, we use read_csv(\"file_name.csv\")\n",
        " \n",
        "data = pd.read_csv(\"data.csv\")"
      ],
      "execution_count": 10,
      "outputs": []
    },
    {
      "cell_type": "code",
      "metadata": {
        "id": "lHvJjIRlm8V9",
        "colab_type": "code",
        "colab": {
          "base_uri": "https://localhost:8080/",
          "height": 408
        },
        "outputId": "11b56014-32ed-46e4-a74c-26fc2741af95"
      },
      "source": [
        "#to get brief details about the top 5 rows we use head() function\n",
        "\n",
        "data.head(5)\n"
      ],
      "execution_count": 11,
      "outputs": [
        {
          "output_type": "execute_result",
          "data": {
            "text/html": [
              "<div>\n",
              "<style scoped>\n",
              "    .dataframe tbody tr th:only-of-type {\n",
              "        vertical-align: middle;\n",
              "    }\n",
              "\n",
              "    .dataframe tbody tr th {\n",
              "        vertical-align: top;\n",
              "    }\n",
              "\n",
              "    .dataframe thead th {\n",
              "        text-align: right;\n",
              "    }\n",
              "</style>\n",
              "<table border=\"1\" class=\"dataframe\">\n",
              "  <thead>\n",
              "    <tr style=\"text-align: right;\">\n",
              "      <th></th>\n",
              "      <th>Make</th>\n",
              "      <th>Model</th>\n",
              "      <th>Year</th>\n",
              "      <th>Engine Fuel Type</th>\n",
              "      <th>Engine HP</th>\n",
              "      <th>Engine Cylinders</th>\n",
              "      <th>Transmission Type</th>\n",
              "      <th>Driven_Wheels</th>\n",
              "      <th>Number of Doors</th>\n",
              "      <th>Market Category</th>\n",
              "      <th>Vehicle Size</th>\n",
              "      <th>Vehicle Style</th>\n",
              "      <th>highway MPG</th>\n",
              "      <th>city mpg</th>\n",
              "      <th>Popularity</th>\n",
              "      <th>MSRP</th>\n",
              "    </tr>\n",
              "  </thead>\n",
              "  <tbody>\n",
              "    <tr>\n",
              "      <th>0</th>\n",
              "      <td>BMW</td>\n",
              "      <td>1 Series M</td>\n",
              "      <td>2011</td>\n",
              "      <td>premium unleaded (required)</td>\n",
              "      <td>335.0</td>\n",
              "      <td>6.0</td>\n",
              "      <td>MANUAL</td>\n",
              "      <td>rear wheel drive</td>\n",
              "      <td>2.0</td>\n",
              "      <td>Factory Tuner,Luxury,High-Performance</td>\n",
              "      <td>Compact</td>\n",
              "      <td>Coupe</td>\n",
              "      <td>26</td>\n",
              "      <td>19</td>\n",
              "      <td>3916</td>\n",
              "      <td>46135</td>\n",
              "    </tr>\n",
              "    <tr>\n",
              "      <th>1</th>\n",
              "      <td>BMW</td>\n",
              "      <td>1 Series</td>\n",
              "      <td>2011</td>\n",
              "      <td>premium unleaded (required)</td>\n",
              "      <td>300.0</td>\n",
              "      <td>6.0</td>\n",
              "      <td>MANUAL</td>\n",
              "      <td>rear wheel drive</td>\n",
              "      <td>2.0</td>\n",
              "      <td>Luxury,Performance</td>\n",
              "      <td>Compact</td>\n",
              "      <td>Convertible</td>\n",
              "      <td>28</td>\n",
              "      <td>19</td>\n",
              "      <td>3916</td>\n",
              "      <td>40650</td>\n",
              "    </tr>\n",
              "    <tr>\n",
              "      <th>2</th>\n",
              "      <td>BMW</td>\n",
              "      <td>1 Series</td>\n",
              "      <td>2011</td>\n",
              "      <td>premium unleaded (required)</td>\n",
              "      <td>300.0</td>\n",
              "      <td>6.0</td>\n",
              "      <td>MANUAL</td>\n",
              "      <td>rear wheel drive</td>\n",
              "      <td>2.0</td>\n",
              "      <td>Luxury,High-Performance</td>\n",
              "      <td>Compact</td>\n",
              "      <td>Coupe</td>\n",
              "      <td>28</td>\n",
              "      <td>20</td>\n",
              "      <td>3916</td>\n",
              "      <td>36350</td>\n",
              "    </tr>\n",
              "    <tr>\n",
              "      <th>3</th>\n",
              "      <td>BMW</td>\n",
              "      <td>1 Series</td>\n",
              "      <td>2011</td>\n",
              "      <td>premium unleaded (required)</td>\n",
              "      <td>230.0</td>\n",
              "      <td>6.0</td>\n",
              "      <td>MANUAL</td>\n",
              "      <td>rear wheel drive</td>\n",
              "      <td>2.0</td>\n",
              "      <td>Luxury,Performance</td>\n",
              "      <td>Compact</td>\n",
              "      <td>Coupe</td>\n",
              "      <td>28</td>\n",
              "      <td>18</td>\n",
              "      <td>3916</td>\n",
              "      <td>29450</td>\n",
              "    </tr>\n",
              "    <tr>\n",
              "      <th>4</th>\n",
              "      <td>BMW</td>\n",
              "      <td>1 Series</td>\n",
              "      <td>2011</td>\n",
              "      <td>premium unleaded (required)</td>\n",
              "      <td>230.0</td>\n",
              "      <td>6.0</td>\n",
              "      <td>MANUAL</td>\n",
              "      <td>rear wheel drive</td>\n",
              "      <td>2.0</td>\n",
              "      <td>Luxury</td>\n",
              "      <td>Compact</td>\n",
              "      <td>Convertible</td>\n",
              "      <td>28</td>\n",
              "      <td>18</td>\n",
              "      <td>3916</td>\n",
              "      <td>34500</td>\n",
              "    </tr>\n",
              "  </tbody>\n",
              "</table>\n",
              "</div>"
            ],
            "text/plain": [
              "  Make       Model  Year  ... city mpg  Popularity   MSRP\n",
              "0  BMW  1 Series M  2011  ...       19        3916  46135\n",
              "1  BMW    1 Series  2011  ...       19        3916  40650\n",
              "2  BMW    1 Series  2011  ...       20        3916  36350\n",
              "3  BMW    1 Series  2011  ...       18        3916  29450\n",
              "4  BMW    1 Series  2011  ...       18        3916  34500\n",
              "\n",
              "[5 rows x 16 columns]"
            ]
          },
          "metadata": {
            "tags": []
          },
          "execution_count": 11
        }
      ]
    },
    {
      "cell_type": "code",
      "metadata": {
        "id": "Td3B8HLenq0g",
        "colab_type": "code",
        "colab": {
          "base_uri": "https://localhost:8080/",
          "height": 411
        },
        "outputId": "2a007ddb-5d2f-4561-9b67-afd7a75c2fbd"
      },
      "source": [
        "#to get the brief details about bottom 5 rows we use tail() function\n",
        "data.tail(5)"
      ],
      "execution_count": 12,
      "outputs": [
        {
          "output_type": "execute_result",
          "data": {
            "text/html": [
              "<div>\n",
              "<style scoped>\n",
              "    .dataframe tbody tr th:only-of-type {\n",
              "        vertical-align: middle;\n",
              "    }\n",
              "\n",
              "    .dataframe tbody tr th {\n",
              "        vertical-align: top;\n",
              "    }\n",
              "\n",
              "    .dataframe thead th {\n",
              "        text-align: right;\n",
              "    }\n",
              "</style>\n",
              "<table border=\"1\" class=\"dataframe\">\n",
              "  <thead>\n",
              "    <tr style=\"text-align: right;\">\n",
              "      <th></th>\n",
              "      <th>Make</th>\n",
              "      <th>Model</th>\n",
              "      <th>Year</th>\n",
              "      <th>Engine Fuel Type</th>\n",
              "      <th>Engine HP</th>\n",
              "      <th>Engine Cylinders</th>\n",
              "      <th>Transmission Type</th>\n",
              "      <th>Driven_Wheels</th>\n",
              "      <th>Number of Doors</th>\n",
              "      <th>Market Category</th>\n",
              "      <th>Vehicle Size</th>\n",
              "      <th>Vehicle Style</th>\n",
              "      <th>highway MPG</th>\n",
              "      <th>city mpg</th>\n",
              "      <th>Popularity</th>\n",
              "      <th>MSRP</th>\n",
              "    </tr>\n",
              "  </thead>\n",
              "  <tbody>\n",
              "    <tr>\n",
              "      <th>11909</th>\n",
              "      <td>Acura</td>\n",
              "      <td>ZDX</td>\n",
              "      <td>2012</td>\n",
              "      <td>premium unleaded (required)</td>\n",
              "      <td>300.0</td>\n",
              "      <td>6.0</td>\n",
              "      <td>AUTOMATIC</td>\n",
              "      <td>all wheel drive</td>\n",
              "      <td>4.0</td>\n",
              "      <td>Crossover,Hatchback,Luxury</td>\n",
              "      <td>Midsize</td>\n",
              "      <td>4dr Hatchback</td>\n",
              "      <td>23</td>\n",
              "      <td>16</td>\n",
              "      <td>204</td>\n",
              "      <td>46120</td>\n",
              "    </tr>\n",
              "    <tr>\n",
              "      <th>11910</th>\n",
              "      <td>Acura</td>\n",
              "      <td>ZDX</td>\n",
              "      <td>2012</td>\n",
              "      <td>premium unleaded (required)</td>\n",
              "      <td>300.0</td>\n",
              "      <td>6.0</td>\n",
              "      <td>AUTOMATIC</td>\n",
              "      <td>all wheel drive</td>\n",
              "      <td>4.0</td>\n",
              "      <td>Crossover,Hatchback,Luxury</td>\n",
              "      <td>Midsize</td>\n",
              "      <td>4dr Hatchback</td>\n",
              "      <td>23</td>\n",
              "      <td>16</td>\n",
              "      <td>204</td>\n",
              "      <td>56670</td>\n",
              "    </tr>\n",
              "    <tr>\n",
              "      <th>11911</th>\n",
              "      <td>Acura</td>\n",
              "      <td>ZDX</td>\n",
              "      <td>2012</td>\n",
              "      <td>premium unleaded (required)</td>\n",
              "      <td>300.0</td>\n",
              "      <td>6.0</td>\n",
              "      <td>AUTOMATIC</td>\n",
              "      <td>all wheel drive</td>\n",
              "      <td>4.0</td>\n",
              "      <td>Crossover,Hatchback,Luxury</td>\n",
              "      <td>Midsize</td>\n",
              "      <td>4dr Hatchback</td>\n",
              "      <td>23</td>\n",
              "      <td>16</td>\n",
              "      <td>204</td>\n",
              "      <td>50620</td>\n",
              "    </tr>\n",
              "    <tr>\n",
              "      <th>11912</th>\n",
              "      <td>Acura</td>\n",
              "      <td>ZDX</td>\n",
              "      <td>2013</td>\n",
              "      <td>premium unleaded (recommended)</td>\n",
              "      <td>300.0</td>\n",
              "      <td>6.0</td>\n",
              "      <td>AUTOMATIC</td>\n",
              "      <td>all wheel drive</td>\n",
              "      <td>4.0</td>\n",
              "      <td>Crossover,Hatchback,Luxury</td>\n",
              "      <td>Midsize</td>\n",
              "      <td>4dr Hatchback</td>\n",
              "      <td>23</td>\n",
              "      <td>16</td>\n",
              "      <td>204</td>\n",
              "      <td>50920</td>\n",
              "    </tr>\n",
              "    <tr>\n",
              "      <th>11913</th>\n",
              "      <td>Lincoln</td>\n",
              "      <td>Zephyr</td>\n",
              "      <td>2006</td>\n",
              "      <td>regular unleaded</td>\n",
              "      <td>221.0</td>\n",
              "      <td>6.0</td>\n",
              "      <td>AUTOMATIC</td>\n",
              "      <td>front wheel drive</td>\n",
              "      <td>4.0</td>\n",
              "      <td>Luxury</td>\n",
              "      <td>Midsize</td>\n",
              "      <td>Sedan</td>\n",
              "      <td>26</td>\n",
              "      <td>17</td>\n",
              "      <td>61</td>\n",
              "      <td>28995</td>\n",
              "    </tr>\n",
              "  </tbody>\n",
              "</table>\n",
              "</div>"
            ],
            "text/plain": [
              "          Make   Model  Year  ... city mpg  Popularity   MSRP\n",
              "11909    Acura     ZDX  2012  ...       16         204  46120\n",
              "11910    Acura     ZDX  2012  ...       16         204  56670\n",
              "11911    Acura     ZDX  2012  ...       16         204  50620\n",
              "11912    Acura     ZDX  2013  ...       16         204  50920\n",
              "11913  Lincoln  Zephyr  2006  ...       17          61  28995\n",
              "\n",
              "[5 rows x 16 columns]"
            ]
          },
          "metadata": {
            "tags": []
          },
          "execution_count": 12
        }
      ]
    },
    {
      "cell_type": "markdown",
      "metadata": {
        "id": "9rUJ8lAln0am",
        "colab_type": "text"
      },
      "source": [
        "**1**.2 Checking the *DataTypes* and *Basic Summary Statistics*"
      ]
    },
    {
      "cell_type": "code",
      "metadata": {
        "id": "XTzESPAyvrYP",
        "colab_type": "code",
        "colab": {
          "base_uri": "https://localhost:8080/",
          "height": 408
        },
        "outputId": "872b6d34-e48e-4478-e6d8-37510902faf0"
      },
      "source": [
        "#getting information about the columns regarding the dtypes and null values\n",
        "\n",
        "data.info()"
      ],
      "execution_count": 13,
      "outputs": [
        {
          "output_type": "stream",
          "text": [
            "<class 'pandas.core.frame.DataFrame'>\n",
            "RangeIndex: 11914 entries, 0 to 11913\n",
            "Data columns (total 16 columns):\n",
            " #   Column             Non-Null Count  Dtype  \n",
            "---  ------             --------------  -----  \n",
            " 0   Make               11914 non-null  object \n",
            " 1   Model              11914 non-null  object \n",
            " 2   Year               11914 non-null  int64  \n",
            " 3   Engine Fuel Type   11911 non-null  object \n",
            " 4   Engine HP          11845 non-null  float64\n",
            " 5   Engine Cylinders   11884 non-null  float64\n",
            " 6   Transmission Type  11914 non-null  object \n",
            " 7   Driven_Wheels      11914 non-null  object \n",
            " 8   Number of Doors    11908 non-null  float64\n",
            " 9   Market Category    8172 non-null   object \n",
            " 10  Vehicle Size       11914 non-null  object \n",
            " 11  Vehicle Style      11914 non-null  object \n",
            " 12  highway MPG        11914 non-null  int64  \n",
            " 13  city mpg           11914 non-null  int64  \n",
            " 14  Popularity         11914 non-null  int64  \n",
            " 15  MSRP               11914 non-null  int64  \n",
            "dtypes: float64(3), int64(5), object(8)\n",
            "memory usage: 1.5+ MB\n"
          ],
          "name": "stdout"
        }
      ]
    },
    {
      "cell_type": "code",
      "metadata": {
        "id": "ddfHrF83BWdb",
        "colab_type": "code",
        "colab": {
          "base_uri": "https://localhost:8080/",
          "height": 306
        },
        "outputId": "c4cc4677-9948-413f-dd58-2df0e1a2ba22"
      },
      "source": [
        "#checking the datatypes \n",
        "\n",
        "data.dtypes"
      ],
      "execution_count": 14,
      "outputs": [
        {
          "output_type": "execute_result",
          "data": {
            "text/plain": [
              "Make                  object\n",
              "Model                 object\n",
              "Year                   int64\n",
              "Engine Fuel Type      object\n",
              "Engine HP            float64\n",
              "Engine Cylinders     float64\n",
              "Transmission Type     object\n",
              "Driven_Wheels         object\n",
              "Number of Doors      float64\n",
              "Market Category       object\n",
              "Vehicle Size          object\n",
              "Vehicle Style         object\n",
              "highway MPG            int64\n",
              "city mpg               int64\n",
              "Popularity             int64\n",
              "MSRP                   int64\n",
              "dtype: object"
            ]
          },
          "metadata": {
            "tags": []
          },
          "execution_count": 14
        }
      ]
    },
    {
      "cell_type": "code",
      "metadata": {
        "id": "6oQikK14EGr-",
        "colab_type": "code",
        "colab": {
          "base_uri": "https://localhost:8080/",
          "height": 297
        },
        "outputId": "94d00cd9-7125-419c-af76-473e6d44148d"
      },
      "source": [
        "#statistical summary\n",
        "\n",
        "data.describe()"
      ],
      "execution_count": 15,
      "outputs": [
        {
          "output_type": "execute_result",
          "data": {
            "text/html": [
              "<div>\n",
              "<style scoped>\n",
              "    .dataframe tbody tr th:only-of-type {\n",
              "        vertical-align: middle;\n",
              "    }\n",
              "\n",
              "    .dataframe tbody tr th {\n",
              "        vertical-align: top;\n",
              "    }\n",
              "\n",
              "    .dataframe thead th {\n",
              "        text-align: right;\n",
              "    }\n",
              "</style>\n",
              "<table border=\"1\" class=\"dataframe\">\n",
              "  <thead>\n",
              "    <tr style=\"text-align: right;\">\n",
              "      <th></th>\n",
              "      <th>Year</th>\n",
              "      <th>Engine HP</th>\n",
              "      <th>Engine Cylinders</th>\n",
              "      <th>Number of Doors</th>\n",
              "      <th>highway MPG</th>\n",
              "      <th>city mpg</th>\n",
              "      <th>Popularity</th>\n",
              "      <th>MSRP</th>\n",
              "    </tr>\n",
              "  </thead>\n",
              "  <tbody>\n",
              "    <tr>\n",
              "      <th>count</th>\n",
              "      <td>11914.000000</td>\n",
              "      <td>11845.00000</td>\n",
              "      <td>11884.000000</td>\n",
              "      <td>11908.000000</td>\n",
              "      <td>11914.000000</td>\n",
              "      <td>11914.000000</td>\n",
              "      <td>11914.000000</td>\n",
              "      <td>1.191400e+04</td>\n",
              "    </tr>\n",
              "    <tr>\n",
              "      <th>mean</th>\n",
              "      <td>2010.384338</td>\n",
              "      <td>249.38607</td>\n",
              "      <td>5.628829</td>\n",
              "      <td>3.436093</td>\n",
              "      <td>26.637485</td>\n",
              "      <td>19.733255</td>\n",
              "      <td>1554.911197</td>\n",
              "      <td>4.059474e+04</td>\n",
              "    </tr>\n",
              "    <tr>\n",
              "      <th>std</th>\n",
              "      <td>7.579740</td>\n",
              "      <td>109.19187</td>\n",
              "      <td>1.780559</td>\n",
              "      <td>0.881315</td>\n",
              "      <td>8.863001</td>\n",
              "      <td>8.987798</td>\n",
              "      <td>1441.855347</td>\n",
              "      <td>6.010910e+04</td>\n",
              "    </tr>\n",
              "    <tr>\n",
              "      <th>min</th>\n",
              "      <td>1990.000000</td>\n",
              "      <td>55.00000</td>\n",
              "      <td>0.000000</td>\n",
              "      <td>2.000000</td>\n",
              "      <td>12.000000</td>\n",
              "      <td>7.000000</td>\n",
              "      <td>2.000000</td>\n",
              "      <td>2.000000e+03</td>\n",
              "    </tr>\n",
              "    <tr>\n",
              "      <th>25%</th>\n",
              "      <td>2007.000000</td>\n",
              "      <td>170.00000</td>\n",
              "      <td>4.000000</td>\n",
              "      <td>2.000000</td>\n",
              "      <td>22.000000</td>\n",
              "      <td>16.000000</td>\n",
              "      <td>549.000000</td>\n",
              "      <td>2.100000e+04</td>\n",
              "    </tr>\n",
              "    <tr>\n",
              "      <th>50%</th>\n",
              "      <td>2015.000000</td>\n",
              "      <td>227.00000</td>\n",
              "      <td>6.000000</td>\n",
              "      <td>4.000000</td>\n",
              "      <td>26.000000</td>\n",
              "      <td>18.000000</td>\n",
              "      <td>1385.000000</td>\n",
              "      <td>2.999500e+04</td>\n",
              "    </tr>\n",
              "    <tr>\n",
              "      <th>75%</th>\n",
              "      <td>2016.000000</td>\n",
              "      <td>300.00000</td>\n",
              "      <td>6.000000</td>\n",
              "      <td>4.000000</td>\n",
              "      <td>30.000000</td>\n",
              "      <td>22.000000</td>\n",
              "      <td>2009.000000</td>\n",
              "      <td>4.223125e+04</td>\n",
              "    </tr>\n",
              "    <tr>\n",
              "      <th>max</th>\n",
              "      <td>2017.000000</td>\n",
              "      <td>1001.00000</td>\n",
              "      <td>16.000000</td>\n",
              "      <td>4.000000</td>\n",
              "      <td>354.000000</td>\n",
              "      <td>137.000000</td>\n",
              "      <td>5657.000000</td>\n",
              "      <td>2.065902e+06</td>\n",
              "    </tr>\n",
              "  </tbody>\n",
              "</table>\n",
              "</div>"
            ],
            "text/plain": [
              "               Year    Engine HP  ...    Popularity          MSRP\n",
              "count  11914.000000  11845.00000  ...  11914.000000  1.191400e+04\n",
              "mean    2010.384338    249.38607  ...   1554.911197  4.059474e+04\n",
              "std        7.579740    109.19187  ...   1441.855347  6.010910e+04\n",
              "min     1990.000000     55.00000  ...      2.000000  2.000000e+03\n",
              "25%     2007.000000    170.00000  ...    549.000000  2.100000e+04\n",
              "50%     2015.000000    227.00000  ...   1385.000000  2.999500e+04\n",
              "75%     2016.000000    300.00000  ...   2009.000000  4.223125e+04\n",
              "max     2017.000000   1001.00000  ...   5657.000000  2.065902e+06\n",
              "\n",
              "[8 rows x 8 columns]"
            ]
          },
          "metadata": {
            "tags": []
          },
          "execution_count": 15
        }
      ]
    },
    {
      "cell_type": "markdown",
      "metadata": {
        "id": "jFhrRMTbtAyx",
        "colab_type": "text"
      },
      "source": [
        "**1**.3 Knowing the *Shape* of the DataSet"
      ]
    },
    {
      "cell_type": "code",
      "metadata": {
        "id": "NwnMWENpCGkf",
        "colab_type": "code",
        "colab": {
          "base_uri": "https://localhost:8080/",
          "height": 34
        },
        "outputId": "f3246a3f-6baa-48c8-eca3-7d878aa8b98d"
      },
      "source": [
        "#checking the shape \n",
        "\n",
        "data.shape"
      ],
      "execution_count": 16,
      "outputs": [
        {
          "output_type": "execute_result",
          "data": {
            "text/plain": [
              "(11914, 16)"
            ]
          },
          "metadata": {
            "tags": []
          },
          "execution_count": 16
        }
      ]
    },
    {
      "cell_type": "markdown",
      "metadata": {
        "id": "fpGRX8uYvyD9",
        "colab_type": "text"
      },
      "source": [
        "**1**.4 Checking for *Null values*"
      ]
    },
    {
      "cell_type": "code",
      "metadata": {
        "id": "Qg48mC4qCVju",
        "colab_type": "code",
        "colab": {
          "base_uri": "https://localhost:8080/",
          "height": 306
        },
        "outputId": "371c5d75-0b73-4786-c079-e792866bee36"
      },
      "source": [
        "#null values are found \n",
        "\n",
        "data.isnull().sum()"
      ],
      "execution_count": 17,
      "outputs": [
        {
          "output_type": "execute_result",
          "data": {
            "text/plain": [
              "Make                    0\n",
              "Model                   0\n",
              "Year                    0\n",
              "Engine Fuel Type        3\n",
              "Engine HP              69\n",
              "Engine Cylinders       30\n",
              "Transmission Type       0\n",
              "Driven_Wheels           0\n",
              "Number of Doors         6\n",
              "Market Category      3742\n",
              "Vehicle Size            0\n",
              "Vehicle Style           0\n",
              "highway MPG             0\n",
              "city mpg                0\n",
              "Popularity              0\n",
              "MSRP                    0\n",
              "dtype: int64"
            ]
          },
          "metadata": {
            "tags": []
          },
          "execution_count": 17
        }
      ]
    },
    {
      "cell_type": "markdown",
      "metadata": {
        "id": "dnmvW8SHxRHs",
        "colab_type": "text"
      },
      "source": [
        "**2** Dropping the less *Relevant columns*"
      ]
    },
    {
      "cell_type": "code",
      "metadata": {
        "id": "NTipDpuqDkPj",
        "colab_type": "code",
        "colab": {}
      },
      "source": [
        "#Market Category column can be dropped, as there is insufficiant data i.e having many null values\n",
        " \n",
        "data.drop(['Market Category'],axis=1,inplace=True)"
      ],
      "execution_count": 18,
      "outputs": []
    },
    {
      "cell_type": "code",
      "metadata": {
        "id": "OXev30DlyB4s",
        "colab_type": "code",
        "colab": {
          "base_uri": "https://localhost:8080/",
          "height": 323
        },
        "outputId": "0ae6f2cc-1e97-4883-b021-c18af810df41"
      },
      "source": [
        "#dataset after dropping \n",
        "data.head(5)"
      ],
      "execution_count": 19,
      "outputs": [
        {
          "output_type": "execute_result",
          "data": {
            "text/html": [
              "<div>\n",
              "<style scoped>\n",
              "    .dataframe tbody tr th:only-of-type {\n",
              "        vertical-align: middle;\n",
              "    }\n",
              "\n",
              "    .dataframe tbody tr th {\n",
              "        vertical-align: top;\n",
              "    }\n",
              "\n",
              "    .dataframe thead th {\n",
              "        text-align: right;\n",
              "    }\n",
              "</style>\n",
              "<table border=\"1\" class=\"dataframe\">\n",
              "  <thead>\n",
              "    <tr style=\"text-align: right;\">\n",
              "      <th></th>\n",
              "      <th>Make</th>\n",
              "      <th>Model</th>\n",
              "      <th>Year</th>\n",
              "      <th>Engine Fuel Type</th>\n",
              "      <th>Engine HP</th>\n",
              "      <th>Engine Cylinders</th>\n",
              "      <th>Transmission Type</th>\n",
              "      <th>Driven_Wheels</th>\n",
              "      <th>Number of Doors</th>\n",
              "      <th>Vehicle Size</th>\n",
              "      <th>Vehicle Style</th>\n",
              "      <th>highway MPG</th>\n",
              "      <th>city mpg</th>\n",
              "      <th>Popularity</th>\n",
              "      <th>MSRP</th>\n",
              "    </tr>\n",
              "  </thead>\n",
              "  <tbody>\n",
              "    <tr>\n",
              "      <th>0</th>\n",
              "      <td>BMW</td>\n",
              "      <td>1 Series M</td>\n",
              "      <td>2011</td>\n",
              "      <td>premium unleaded (required)</td>\n",
              "      <td>335.0</td>\n",
              "      <td>6.0</td>\n",
              "      <td>MANUAL</td>\n",
              "      <td>rear wheel drive</td>\n",
              "      <td>2.0</td>\n",
              "      <td>Compact</td>\n",
              "      <td>Coupe</td>\n",
              "      <td>26</td>\n",
              "      <td>19</td>\n",
              "      <td>3916</td>\n",
              "      <td>46135</td>\n",
              "    </tr>\n",
              "    <tr>\n",
              "      <th>1</th>\n",
              "      <td>BMW</td>\n",
              "      <td>1 Series</td>\n",
              "      <td>2011</td>\n",
              "      <td>premium unleaded (required)</td>\n",
              "      <td>300.0</td>\n",
              "      <td>6.0</td>\n",
              "      <td>MANUAL</td>\n",
              "      <td>rear wheel drive</td>\n",
              "      <td>2.0</td>\n",
              "      <td>Compact</td>\n",
              "      <td>Convertible</td>\n",
              "      <td>28</td>\n",
              "      <td>19</td>\n",
              "      <td>3916</td>\n",
              "      <td>40650</td>\n",
              "    </tr>\n",
              "    <tr>\n",
              "      <th>2</th>\n",
              "      <td>BMW</td>\n",
              "      <td>1 Series</td>\n",
              "      <td>2011</td>\n",
              "      <td>premium unleaded (required)</td>\n",
              "      <td>300.0</td>\n",
              "      <td>6.0</td>\n",
              "      <td>MANUAL</td>\n",
              "      <td>rear wheel drive</td>\n",
              "      <td>2.0</td>\n",
              "      <td>Compact</td>\n",
              "      <td>Coupe</td>\n",
              "      <td>28</td>\n",
              "      <td>20</td>\n",
              "      <td>3916</td>\n",
              "      <td>36350</td>\n",
              "    </tr>\n",
              "    <tr>\n",
              "      <th>3</th>\n",
              "      <td>BMW</td>\n",
              "      <td>1 Series</td>\n",
              "      <td>2011</td>\n",
              "      <td>premium unleaded (required)</td>\n",
              "      <td>230.0</td>\n",
              "      <td>6.0</td>\n",
              "      <td>MANUAL</td>\n",
              "      <td>rear wheel drive</td>\n",
              "      <td>2.0</td>\n",
              "      <td>Compact</td>\n",
              "      <td>Coupe</td>\n",
              "      <td>28</td>\n",
              "      <td>18</td>\n",
              "      <td>3916</td>\n",
              "      <td>29450</td>\n",
              "    </tr>\n",
              "    <tr>\n",
              "      <th>4</th>\n",
              "      <td>BMW</td>\n",
              "      <td>1 Series</td>\n",
              "      <td>2011</td>\n",
              "      <td>premium unleaded (required)</td>\n",
              "      <td>230.0</td>\n",
              "      <td>6.0</td>\n",
              "      <td>MANUAL</td>\n",
              "      <td>rear wheel drive</td>\n",
              "      <td>2.0</td>\n",
              "      <td>Compact</td>\n",
              "      <td>Convertible</td>\n",
              "      <td>28</td>\n",
              "      <td>18</td>\n",
              "      <td>3916</td>\n",
              "      <td>34500</td>\n",
              "    </tr>\n",
              "  </tbody>\n",
              "</table>\n",
              "</div>"
            ],
            "text/plain": [
              "  Make       Model  Year  ... city mpg  Popularity   MSRP\n",
              "0  BMW  1 Series M  2011  ...       19        3916  46135\n",
              "1  BMW    1 Series  2011  ...       19        3916  40650\n",
              "2  BMW    1 Series  2011  ...       20        3916  36350\n",
              "3  BMW    1 Series  2011  ...       18        3916  29450\n",
              "4  BMW    1 Series  2011  ...       18        3916  34500\n",
              "\n",
              "[5 rows x 15 columns]"
            ]
          },
          "metadata": {
            "tags": []
          },
          "execution_count": 19
        }
      ]
    },
    {
      "cell_type": "code",
      "metadata": {
        "id": "dARhOOBdu4xq",
        "colab_type": "code",
        "colab": {
          "base_uri": "https://localhost:8080/",
          "height": 34
        },
        "outputId": "bb2746e3-7f58-4f31-fa18-69a50f62cbbd"
      },
      "source": [
        "#shape of the dataset after dropping market category\n",
        "\n",
        "data.shape"
      ],
      "execution_count": 20,
      "outputs": [
        {
          "output_type": "execute_result",
          "data": {
            "text/plain": [
              "(11914, 15)"
            ]
          },
          "metadata": {
            "tags": []
          },
          "execution_count": 20
        }
      ]
    }
  ]
}