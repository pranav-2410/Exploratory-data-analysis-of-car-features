{
  "nbformat": 4,
  "nbformat_minor": 0,
  "metadata": {
    "colab": {
      "name": "Project-ML.ipynb",
      "provenance": [],
      "authorship_tag": "ABX9TyO34aeNo5ZW9VlGFowKnPV3",
      "include_colab_link": true
    },
    "kernelspec": {
      "name": "python3",
      "display_name": "Python 3"
    }
  },
  "cells": [
    {
      "cell_type": "markdown",
      "metadata": {
        "id": "view-in-github",
        "colab_type": "text"
      },
      "source": [
        "<a href=\"https://colab.research.google.com/github/pranav-2410/Project-ML/blob/master/Project_ML.ipynb\" target=\"_parent\"><img src=\"https://colab.research.google.com/assets/colab-badge.svg\" alt=\"Open In Colab\"/></a>"
      ]
    },
    {
      "cell_type": "code",
      "metadata": {
        "id": "rcv7mtClT-zb",
        "colab_type": "code",
        "colab": {}
      },
      "source": [
        "#importing the necessary libraries\n",
        "\n",
        "import pandas as pd\n",
        "import numpy as np"
      ],
      "execution_count": 13,
      "outputs": []
    },
    {
      "cell_type": "code",
      "metadata": {
        "id": "XMo_19AJARnU",
        "colab_type": "code",
        "colab": {}
      },
      "source": [
        "#importing dataset to data\n",
        "\n",
        "data = pd.read_csv(\"data.csv\")"
      ],
      "execution_count": 14,
      "outputs": []
    },
    {
      "cell_type": "code",
      "metadata": {
        "id": "ddfHrF83BWdb",
        "colab_type": "code",
        "colab": {}
      },
      "source": [
        "#checking the datatypes \n",
        "\n",
        "data.dtypes"
      ],
      "execution_count": null,
      "outputs": []
    },
    {
      "cell_type": "code",
      "metadata": {
        "id": "NwnMWENpCGkf",
        "colab_type": "code",
        "colab": {}
      },
      "source": [
        "#checking the shape \n",
        "\n",
        "data.shape"
      ],
      "execution_count": null,
      "outputs": []
    },
    {
      "cell_type": "code",
      "metadata": {
        "id": "Qg48mC4qCVju",
        "colab_type": "code",
        "colab": {}
      },
      "source": [
        "#checking for null values\n",
        "\n",
        "data.isnull().sum()"
      ],
      "execution_count": null,
      "outputs": []
    },
    {
      "cell_type": "code",
      "metadata": {
        "id": "6oQikK14EGr-",
        "colab_type": "code",
        "colab": {}
      },
      "source": [
        "#statistical summary\n",
        "\n",
        "data.describe()"
      ],
      "execution_count": null,
      "outputs": []
    }
  ]
}