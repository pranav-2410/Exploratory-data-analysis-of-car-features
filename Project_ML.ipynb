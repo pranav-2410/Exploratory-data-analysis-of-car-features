{
  "nbformat": 4,
  "nbformat_minor": 0,
  "metadata": {
    "colab": {
      "name": "Project-ML.ipynb",
      "provenance": [],
      "collapsed_sections": [],
      "authorship_tag": "ABX9TyM5oSROfVu+0hNUfeur3MkS",
      "include_colab_link": true
    },
    "kernelspec": {
      "name": "python3",
      "display_name": "Python 3"
    }
  },
  "cells": [
    {
      "cell_type": "markdown",
      "metadata": {
        "id": "view-in-github",
        "colab_type": "text"
      },
      "source": [
        "<a href=\"https://colab.research.google.com/github/pranav-2410/Project-ML/blob/master/Project_ML.ipynb\" target=\"_parent\"><img src=\"https://colab.research.google.com/assets/colab-badge.svg\" alt=\"Open In Colab\"/></a>"
      ]
    },
    {
      "cell_type": "markdown",
      "metadata": {
        "id": "soNj0v9A_GNu",
        "colab_type": "text"
      },
      "source": [
        "#**1**. Importing the required libreries :\n"
      ]
    },
    {
      "cell_type": "code",
      "metadata": {
        "id": "rcv7mtClT-zb",
        "colab_type": "code",
        "colab": {}
      },
      "source": [
        " \n",
        "import pandas as pd\n",
        "import numpy as np\n",
        "import matplotlib.pyplot as plt\n",
        "import seaborn as sns"
      ],
      "execution_count": 874,
      "outputs": []
    },
    {
      "cell_type": "markdown",
      "metadata": {
        "id": "mtsHsSuZlgso",
        "colab_type": "text"
      },
      "source": [
        "**1**.1  Importing the Dataset into data\n",
        "\n",
        "\n",
        "\n"
      ]
    },
    {
      "cell_type": "code",
      "metadata": {
        "id": "XMo_19AJARnU",
        "colab_type": "code",
        "colab": {}
      },
      "source": [
        "#to import the dataset which is csv format, we use read_csv(\"file_name.csv\")\n",
        " \n",
        "data = pd.read_csv(\"data2.csv\")"
      ],
      "execution_count": 875,
      "outputs": []
    },
    {
      "cell_type": "code",
      "metadata": {
        "id": "lHvJjIRlm8V9",
        "colab_type": "code",
        "colab": {
          "base_uri": "https://localhost:8080/",
          "height": 408
        },
        "outputId": "780bdfcc-bbf4-4870-e96b-b2c05d24c631"
      },
      "source": [
        "#to display the top 5 rows we use head() function\n",
        "\n",
        "data.head(5)\n"
      ],
      "execution_count": 876,
      "outputs": [
        {
          "output_type": "execute_result",
          "data": {
            "text/html": [
              "<div>\n",
              "<style scoped>\n",
              "    .dataframe tbody tr th:only-of-type {\n",
              "        vertical-align: middle;\n",
              "    }\n",
              "\n",
              "    .dataframe tbody tr th {\n",
              "        vertical-align: top;\n",
              "    }\n",
              "\n",
              "    .dataframe thead th {\n",
              "        text-align: right;\n",
              "    }\n",
              "</style>\n",
              "<table border=\"1\" class=\"dataframe\">\n",
              "  <thead>\n",
              "    <tr style=\"text-align: right;\">\n",
              "      <th></th>\n",
              "      <th>Make</th>\n",
              "      <th>Model</th>\n",
              "      <th>Year</th>\n",
              "      <th>Engine Fuel Type</th>\n",
              "      <th>Engine HP</th>\n",
              "      <th>Engine Cylinders</th>\n",
              "      <th>Transmission Type</th>\n",
              "      <th>Driven_Wheels</th>\n",
              "      <th>Number of Doors</th>\n",
              "      <th>Market Category</th>\n",
              "      <th>Vehicle Size</th>\n",
              "      <th>Vehicle Style</th>\n",
              "      <th>highway MPG</th>\n",
              "      <th>city mpg</th>\n",
              "      <th>Popularity</th>\n",
              "      <th>MSRP</th>\n",
              "    </tr>\n",
              "  </thead>\n",
              "  <tbody>\n",
              "    <tr>\n",
              "      <th>0</th>\n",
              "      <td>BMW</td>\n",
              "      <td>1 Series M</td>\n",
              "      <td>2011</td>\n",
              "      <td>premium unleaded (required)</td>\n",
              "      <td>335.0</td>\n",
              "      <td>6.0</td>\n",
              "      <td>MANUAL</td>\n",
              "      <td>rear wheel drive</td>\n",
              "      <td>2.0</td>\n",
              "      <td>Factory Tuner,Luxury,High-Performance</td>\n",
              "      <td>Compact</td>\n",
              "      <td>Coupe</td>\n",
              "      <td>26</td>\n",
              "      <td>19</td>\n",
              "      <td>3916</td>\n",
              "      <td>46135</td>\n",
              "    </tr>\n",
              "    <tr>\n",
              "      <th>1</th>\n",
              "      <td>BMW</td>\n",
              "      <td>1 Series</td>\n",
              "      <td>2011</td>\n",
              "      <td>premium unleaded (required)</td>\n",
              "      <td>300.0</td>\n",
              "      <td>6.0</td>\n",
              "      <td>MANUAL</td>\n",
              "      <td>rear wheel drive</td>\n",
              "      <td>2.0</td>\n",
              "      <td>Luxury,Performance</td>\n",
              "      <td>Compact</td>\n",
              "      <td>Convertible</td>\n",
              "      <td>28</td>\n",
              "      <td>19</td>\n",
              "      <td>3916</td>\n",
              "      <td>40650</td>\n",
              "    </tr>\n",
              "    <tr>\n",
              "      <th>2</th>\n",
              "      <td>BMW</td>\n",
              "      <td>1 Series</td>\n",
              "      <td>2011</td>\n",
              "      <td>premium unleaded (required)</td>\n",
              "      <td>300.0</td>\n",
              "      <td>6.0</td>\n",
              "      <td>MANUAL</td>\n",
              "      <td>rear wheel drive</td>\n",
              "      <td>2.0</td>\n",
              "      <td>Luxury,High-Performance</td>\n",
              "      <td>Compact</td>\n",
              "      <td>Coupe</td>\n",
              "      <td>28</td>\n",
              "      <td>20</td>\n",
              "      <td>3916</td>\n",
              "      <td>36350</td>\n",
              "    </tr>\n",
              "    <tr>\n",
              "      <th>3</th>\n",
              "      <td>BMW</td>\n",
              "      <td>1 Series</td>\n",
              "      <td>2011</td>\n",
              "      <td>premium unleaded (required)</td>\n",
              "      <td>230.0</td>\n",
              "      <td>6.0</td>\n",
              "      <td>MANUAL</td>\n",
              "      <td>rear wheel drive</td>\n",
              "      <td>2.0</td>\n",
              "      <td>Luxury,Performance</td>\n",
              "      <td>Compact</td>\n",
              "      <td>Coupe</td>\n",
              "      <td>28</td>\n",
              "      <td>18</td>\n",
              "      <td>3916</td>\n",
              "      <td>29450</td>\n",
              "    </tr>\n",
              "    <tr>\n",
              "      <th>4</th>\n",
              "      <td>BMW</td>\n",
              "      <td>1 Series</td>\n",
              "      <td>2011</td>\n",
              "      <td>premium unleaded (required)</td>\n",
              "      <td>230.0</td>\n",
              "      <td>6.0</td>\n",
              "      <td>MANUAL</td>\n",
              "      <td>rear wheel drive</td>\n",
              "      <td>2.0</td>\n",
              "      <td>Luxury</td>\n",
              "      <td>Compact</td>\n",
              "      <td>Convertible</td>\n",
              "      <td>28</td>\n",
              "      <td>18</td>\n",
              "      <td>3916</td>\n",
              "      <td>34500</td>\n",
              "    </tr>\n",
              "  </tbody>\n",
              "</table>\n",
              "</div>"
            ],
            "text/plain": [
              "  Make       Model  Year  ... city mpg  Popularity   MSRP\n",
              "0  BMW  1 Series M  2011  ...       19        3916  46135\n",
              "1  BMW    1 Series  2011  ...       19        3916  40650\n",
              "2  BMW    1 Series  2011  ...       20        3916  36350\n",
              "3  BMW    1 Series  2011  ...       18        3916  29450\n",
              "4  BMW    1 Series  2011  ...       18        3916  34500\n",
              "\n",
              "[5 rows x 16 columns]"
            ]
          },
          "metadata": {
            "tags": []
          },
          "execution_count": 876
        }
      ]
    },
    {
      "cell_type": "code",
      "metadata": {
        "id": "Td3B8HLenq0g",
        "colab_type": "code",
        "colab": {
          "base_uri": "https://localhost:8080/",
          "height": 411
        },
        "outputId": "5bca00d8-7296-4c78-b125-f2bb93bb7707"
      },
      "source": [
        "#to display the bottom 5 rows we use tail() function\n",
        "data.tail(5)"
      ],
      "execution_count": 877,
      "outputs": [
        {
          "output_type": "execute_result",
          "data": {
            "text/html": [
              "<div>\n",
              "<style scoped>\n",
              "    .dataframe tbody tr th:only-of-type {\n",
              "        vertical-align: middle;\n",
              "    }\n",
              "\n",
              "    .dataframe tbody tr th {\n",
              "        vertical-align: top;\n",
              "    }\n",
              "\n",
              "    .dataframe thead th {\n",
              "        text-align: right;\n",
              "    }\n",
              "</style>\n",
              "<table border=\"1\" class=\"dataframe\">\n",
              "  <thead>\n",
              "    <tr style=\"text-align: right;\">\n",
              "      <th></th>\n",
              "      <th>Make</th>\n",
              "      <th>Model</th>\n",
              "      <th>Year</th>\n",
              "      <th>Engine Fuel Type</th>\n",
              "      <th>Engine HP</th>\n",
              "      <th>Engine Cylinders</th>\n",
              "      <th>Transmission Type</th>\n",
              "      <th>Driven_Wheels</th>\n",
              "      <th>Number of Doors</th>\n",
              "      <th>Market Category</th>\n",
              "      <th>Vehicle Size</th>\n",
              "      <th>Vehicle Style</th>\n",
              "      <th>highway MPG</th>\n",
              "      <th>city mpg</th>\n",
              "      <th>Popularity</th>\n",
              "      <th>MSRP</th>\n",
              "    </tr>\n",
              "  </thead>\n",
              "  <tbody>\n",
              "    <tr>\n",
              "      <th>11909</th>\n",
              "      <td>Acura</td>\n",
              "      <td>ZDX</td>\n",
              "      <td>2012</td>\n",
              "      <td>premium unleaded (required)</td>\n",
              "      <td>300.0</td>\n",
              "      <td>6.0</td>\n",
              "      <td>AUTOMATIC</td>\n",
              "      <td>all wheel drive</td>\n",
              "      <td>4.0</td>\n",
              "      <td>Crossover,Hatchback,Luxury</td>\n",
              "      <td>Midsize</td>\n",
              "      <td>4dr Hatchback</td>\n",
              "      <td>23</td>\n",
              "      <td>16</td>\n",
              "      <td>204</td>\n",
              "      <td>46120</td>\n",
              "    </tr>\n",
              "    <tr>\n",
              "      <th>11910</th>\n",
              "      <td>Acura</td>\n",
              "      <td>ZDX</td>\n",
              "      <td>2012</td>\n",
              "      <td>premium unleaded (required)</td>\n",
              "      <td>300.0</td>\n",
              "      <td>6.0</td>\n",
              "      <td>AUTOMATIC</td>\n",
              "      <td>all wheel drive</td>\n",
              "      <td>4.0</td>\n",
              "      <td>Crossover,Hatchback,Luxury</td>\n",
              "      <td>Midsize</td>\n",
              "      <td>4dr Hatchback</td>\n",
              "      <td>23</td>\n",
              "      <td>16</td>\n",
              "      <td>204</td>\n",
              "      <td>56670</td>\n",
              "    </tr>\n",
              "    <tr>\n",
              "      <th>11911</th>\n",
              "      <td>Acura</td>\n",
              "      <td>ZDX</td>\n",
              "      <td>2012</td>\n",
              "      <td>premium unleaded (required)</td>\n",
              "      <td>300.0</td>\n",
              "      <td>6.0</td>\n",
              "      <td>AUTOMATIC</td>\n",
              "      <td>all wheel drive</td>\n",
              "      <td>4.0</td>\n",
              "      <td>Crossover,Hatchback,Luxury</td>\n",
              "      <td>Midsize</td>\n",
              "      <td>4dr Hatchback</td>\n",
              "      <td>23</td>\n",
              "      <td>16</td>\n",
              "      <td>204</td>\n",
              "      <td>50620</td>\n",
              "    </tr>\n",
              "    <tr>\n",
              "      <th>11912</th>\n",
              "      <td>Acura</td>\n",
              "      <td>ZDX</td>\n",
              "      <td>2013</td>\n",
              "      <td>premium unleaded (recommended)</td>\n",
              "      <td>300.0</td>\n",
              "      <td>6.0</td>\n",
              "      <td>AUTOMATIC</td>\n",
              "      <td>all wheel drive</td>\n",
              "      <td>4.0</td>\n",
              "      <td>Crossover,Hatchback,Luxury</td>\n",
              "      <td>Midsize</td>\n",
              "      <td>4dr Hatchback</td>\n",
              "      <td>23</td>\n",
              "      <td>16</td>\n",
              "      <td>204</td>\n",
              "      <td>50920</td>\n",
              "    </tr>\n",
              "    <tr>\n",
              "      <th>11913</th>\n",
              "      <td>Lincoln</td>\n",
              "      <td>Zephyr</td>\n",
              "      <td>2006</td>\n",
              "      <td>regular unleaded</td>\n",
              "      <td>221.0</td>\n",
              "      <td>6.0</td>\n",
              "      <td>AUTOMATIC</td>\n",
              "      <td>front wheel drive</td>\n",
              "      <td>4.0</td>\n",
              "      <td>Luxury</td>\n",
              "      <td>Midsize</td>\n",
              "      <td>Sedan</td>\n",
              "      <td>26</td>\n",
              "      <td>17</td>\n",
              "      <td>61</td>\n",
              "      <td>28995</td>\n",
              "    </tr>\n",
              "  </tbody>\n",
              "</table>\n",
              "</div>"
            ],
            "text/plain": [
              "          Make   Model  Year  ... city mpg  Popularity   MSRP\n",
              "11909    Acura     ZDX  2012  ...       16         204  46120\n",
              "11910    Acura     ZDX  2012  ...       16         204  56670\n",
              "11911    Acura     ZDX  2012  ...       16         204  50620\n",
              "11912    Acura     ZDX  2013  ...       16         204  50920\n",
              "11913  Lincoln  Zephyr  2006  ...       17          61  28995\n",
              "\n",
              "[5 rows x 16 columns]"
            ]
          },
          "metadata": {
            "tags": []
          },
          "execution_count": 877
        }
      ]
    },
    {
      "cell_type": "markdown",
      "metadata": {
        "id": "9rUJ8lAln0am",
        "colab_type": "text"
      },
      "source": [
        "**1**.2 Checking the *DataTypes* and *Basic Summary Statistics*"
      ]
    },
    {
      "cell_type": "code",
      "metadata": {
        "id": "XTzESPAyvrYP",
        "colab_type": "code",
        "colab": {
          "base_uri": "https://localhost:8080/",
          "height": 408
        },
        "outputId": "6fb912f5-e19d-434f-ff69-9a71e6e86675"
      },
      "source": [
        "#getting information about the columns regarding the dtypes and null values\n",
        "\n",
        "data.info()"
      ],
      "execution_count": 878,
      "outputs": [
        {
          "output_type": "stream",
          "text": [
            "<class 'pandas.core.frame.DataFrame'>\n",
            "RangeIndex: 11914 entries, 0 to 11913\n",
            "Data columns (total 16 columns):\n",
            " #   Column             Non-Null Count  Dtype  \n",
            "---  ------             --------------  -----  \n",
            " 0   Make               11914 non-null  object \n",
            " 1   Model              11914 non-null  object \n",
            " 2   Year               11914 non-null  int64  \n",
            " 3   Engine Fuel Type   11911 non-null  object \n",
            " 4   Engine HP          11845 non-null  float64\n",
            " 5   Engine Cylinders   11884 non-null  float64\n",
            " 6   Transmission Type  11914 non-null  object \n",
            " 7   Driven_Wheels      11914 non-null  object \n",
            " 8   Number of Doors    11908 non-null  float64\n",
            " 9   Market Category    8172 non-null   object \n",
            " 10  Vehicle Size       11914 non-null  object \n",
            " 11  Vehicle Style      11914 non-null  object \n",
            " 12  highway MPG        11914 non-null  int64  \n",
            " 13  city mpg           11914 non-null  int64  \n",
            " 14  Popularity         11914 non-null  int64  \n",
            " 15  MSRP               11914 non-null  int64  \n",
            "dtypes: float64(3), int64(5), object(8)\n",
            "memory usage: 1.5+ MB\n"
          ],
          "name": "stdout"
        }
      ]
    },
    {
      "cell_type": "code",
      "metadata": {
        "id": "ddfHrF83BWdb",
        "colab_type": "code",
        "colab": {
          "base_uri": "https://localhost:8080/",
          "height": 306
        },
        "outputId": "23d2590b-9a0d-4ab9-89b3-e3547535d5b4"
      },
      "source": [
        "#checking the datatypes \n",
        "\n",
        "data.dtypes"
      ],
      "execution_count": 879,
      "outputs": [
        {
          "output_type": "execute_result",
          "data": {
            "text/plain": [
              "Make                  object\n",
              "Model                 object\n",
              "Year                   int64\n",
              "Engine Fuel Type      object\n",
              "Engine HP            float64\n",
              "Engine Cylinders     float64\n",
              "Transmission Type     object\n",
              "Driven_Wheels         object\n",
              "Number of Doors      float64\n",
              "Market Category       object\n",
              "Vehicle Size          object\n",
              "Vehicle Style         object\n",
              "highway MPG            int64\n",
              "city mpg               int64\n",
              "Popularity             int64\n",
              "MSRP                   int64\n",
              "dtype: object"
            ]
          },
          "metadata": {
            "tags": []
          },
          "execution_count": 879
        }
      ]
    },
    {
      "cell_type": "code",
      "metadata": {
        "id": "6oQikK14EGr-",
        "colab_type": "code",
        "colab": {
          "base_uri": "https://localhost:8080/",
          "height": 297
        },
        "outputId": "d8cb48eb-9529-42c3-a9d1-fb10dedc7b04"
      },
      "source": [
        "#statistical summary\n",
        "\n",
        "data.describe()"
      ],
      "execution_count": 880,
      "outputs": [
        {
          "output_type": "execute_result",
          "data": {
            "text/html": [
              "<div>\n",
              "<style scoped>\n",
              "    .dataframe tbody tr th:only-of-type {\n",
              "        vertical-align: middle;\n",
              "    }\n",
              "\n",
              "    .dataframe tbody tr th {\n",
              "        vertical-align: top;\n",
              "    }\n",
              "\n",
              "    .dataframe thead th {\n",
              "        text-align: right;\n",
              "    }\n",
              "</style>\n",
              "<table border=\"1\" class=\"dataframe\">\n",
              "  <thead>\n",
              "    <tr style=\"text-align: right;\">\n",
              "      <th></th>\n",
              "      <th>Year</th>\n",
              "      <th>Engine HP</th>\n",
              "      <th>Engine Cylinders</th>\n",
              "      <th>Number of Doors</th>\n",
              "      <th>highway MPG</th>\n",
              "      <th>city mpg</th>\n",
              "      <th>Popularity</th>\n",
              "      <th>MSRP</th>\n",
              "    </tr>\n",
              "  </thead>\n",
              "  <tbody>\n",
              "    <tr>\n",
              "      <th>count</th>\n",
              "      <td>11914.000000</td>\n",
              "      <td>11845.00000</td>\n",
              "      <td>11884.000000</td>\n",
              "      <td>11908.000000</td>\n",
              "      <td>11914.000000</td>\n",
              "      <td>11914.000000</td>\n",
              "      <td>11914.000000</td>\n",
              "      <td>1.191400e+04</td>\n",
              "    </tr>\n",
              "    <tr>\n",
              "      <th>mean</th>\n",
              "      <td>2010.384338</td>\n",
              "      <td>249.38607</td>\n",
              "      <td>5.628829</td>\n",
              "      <td>3.436093</td>\n",
              "      <td>26.637485</td>\n",
              "      <td>19.733255</td>\n",
              "      <td>1554.911197</td>\n",
              "      <td>4.059474e+04</td>\n",
              "    </tr>\n",
              "    <tr>\n",
              "      <th>std</th>\n",
              "      <td>7.579740</td>\n",
              "      <td>109.19187</td>\n",
              "      <td>1.780559</td>\n",
              "      <td>0.881315</td>\n",
              "      <td>8.863001</td>\n",
              "      <td>8.987798</td>\n",
              "      <td>1441.855347</td>\n",
              "      <td>6.010910e+04</td>\n",
              "    </tr>\n",
              "    <tr>\n",
              "      <th>min</th>\n",
              "      <td>1990.000000</td>\n",
              "      <td>55.00000</td>\n",
              "      <td>0.000000</td>\n",
              "      <td>2.000000</td>\n",
              "      <td>12.000000</td>\n",
              "      <td>7.000000</td>\n",
              "      <td>2.000000</td>\n",
              "      <td>2.000000e+03</td>\n",
              "    </tr>\n",
              "    <tr>\n",
              "      <th>25%</th>\n",
              "      <td>2007.000000</td>\n",
              "      <td>170.00000</td>\n",
              "      <td>4.000000</td>\n",
              "      <td>2.000000</td>\n",
              "      <td>22.000000</td>\n",
              "      <td>16.000000</td>\n",
              "      <td>549.000000</td>\n",
              "      <td>2.100000e+04</td>\n",
              "    </tr>\n",
              "    <tr>\n",
              "      <th>50%</th>\n",
              "      <td>2015.000000</td>\n",
              "      <td>227.00000</td>\n",
              "      <td>6.000000</td>\n",
              "      <td>4.000000</td>\n",
              "      <td>26.000000</td>\n",
              "      <td>18.000000</td>\n",
              "      <td>1385.000000</td>\n",
              "      <td>2.999500e+04</td>\n",
              "    </tr>\n",
              "    <tr>\n",
              "      <th>75%</th>\n",
              "      <td>2016.000000</td>\n",
              "      <td>300.00000</td>\n",
              "      <td>6.000000</td>\n",
              "      <td>4.000000</td>\n",
              "      <td>30.000000</td>\n",
              "      <td>22.000000</td>\n",
              "      <td>2009.000000</td>\n",
              "      <td>4.223125e+04</td>\n",
              "    </tr>\n",
              "    <tr>\n",
              "      <th>max</th>\n",
              "      <td>2017.000000</td>\n",
              "      <td>1001.00000</td>\n",
              "      <td>16.000000</td>\n",
              "      <td>4.000000</td>\n",
              "      <td>354.000000</td>\n",
              "      <td>137.000000</td>\n",
              "      <td>5657.000000</td>\n",
              "      <td>2.065902e+06</td>\n",
              "    </tr>\n",
              "  </tbody>\n",
              "</table>\n",
              "</div>"
            ],
            "text/plain": [
              "               Year    Engine HP  ...    Popularity          MSRP\n",
              "count  11914.000000  11845.00000  ...  11914.000000  1.191400e+04\n",
              "mean    2010.384338    249.38607  ...   1554.911197  4.059474e+04\n",
              "std        7.579740    109.19187  ...   1441.855347  6.010910e+04\n",
              "min     1990.000000     55.00000  ...      2.000000  2.000000e+03\n",
              "25%     2007.000000    170.00000  ...    549.000000  2.100000e+04\n",
              "50%     2015.000000    227.00000  ...   1385.000000  2.999500e+04\n",
              "75%     2016.000000    300.00000  ...   2009.000000  4.223125e+04\n",
              "max     2017.000000   1001.00000  ...   5657.000000  2.065902e+06\n",
              "\n",
              "[8 rows x 8 columns]"
            ]
          },
          "metadata": {
            "tags": []
          },
          "execution_count": 880
        }
      ]
    },
    {
      "cell_type": "markdown",
      "metadata": {
        "id": "jFhrRMTbtAyx",
        "colab_type": "text"
      },
      "source": [
        "**1**.3 Knowing the *Shape* of the DataSet"
      ]
    },
    {
      "cell_type": "code",
      "metadata": {
        "id": "NwnMWENpCGkf",
        "colab_type": "code",
        "colab": {
          "base_uri": "https://localhost:8080/",
          "height": 34
        },
        "outputId": "4cf00de8-3b76-462a-973c-6bf20a9aa5b7"
      },
      "source": [
        "#checking the shape \n",
        "\n",
        "data.shape"
      ],
      "execution_count": 881,
      "outputs": [
        {
          "output_type": "execute_result",
          "data": {
            "text/plain": [
              "(11914, 16)"
            ]
          },
          "metadata": {
            "tags": []
          },
          "execution_count": 881
        }
      ]
    },
    {
      "cell_type": "markdown",
      "metadata": {
        "id": "fpGRX8uYvyD9",
        "colab_type": "text"
      },
      "source": [
        "**1**.4 Checking for *Null values*"
      ]
    },
    {
      "cell_type": "code",
      "metadata": {
        "id": "Qg48mC4qCVju",
        "colab_type": "code",
        "colab": {
          "base_uri": "https://localhost:8080/",
          "height": 306
        },
        "outputId": "fb94c2b7-7d2c-4cb9-de57-c41113e34e6a"
      },
      "source": [
        "#null values are found \n",
        "\n",
        "data.isnull().sum()"
      ],
      "execution_count": 882,
      "outputs": [
        {
          "output_type": "execute_result",
          "data": {
            "text/plain": [
              "Make                    0\n",
              "Model                   0\n",
              "Year                    0\n",
              "Engine Fuel Type        3\n",
              "Engine HP              69\n",
              "Engine Cylinders       30\n",
              "Transmission Type       0\n",
              "Driven_Wheels           0\n",
              "Number of Doors         6\n",
              "Market Category      3742\n",
              "Vehicle Size            0\n",
              "Vehicle Style           0\n",
              "highway MPG             0\n",
              "city mpg                0\n",
              "Popularity              0\n",
              "MSRP                    0\n",
              "dtype: int64"
            ]
          },
          "metadata": {
            "tags": []
          },
          "execution_count": 882
        }
      ]
    },
    {
      "cell_type": "markdown",
      "metadata": {
        "id": "dnmvW8SHxRHs",
        "colab_type": "text"
      },
      "source": [
        "#**2** Dropping the less **Relevant columns**"
      ]
    },
    {
      "cell_type": "code",
      "metadata": {
        "id": "NTipDpuqDkPj",
        "colab_type": "code",
        "colab": {}
      },
      "source": [
        "#Market Category column can be dropped, as there is insufficiant data i.e having many null values\n",
        " \n",
        "data.drop(['Market Category','Number of Doors'],axis=1,inplace=True)"
      ],
      "execution_count": 883,
      "outputs": []
    },
    {
      "cell_type": "code",
      "metadata": {
        "id": "OXev30DlyB4s",
        "colab_type": "code",
        "colab": {
          "base_uri": "https://localhost:8080/",
          "height": 306
        },
        "outputId": "e2eddabf-f576-4681-cbb9-6e4d4e2449cf"
      },
      "source": [
        "#dataset after dropping \n",
        "data.head(5)"
      ],
      "execution_count": 884,
      "outputs": [
        {
          "output_type": "execute_result",
          "data": {
            "text/html": [
              "<div>\n",
              "<style scoped>\n",
              "    .dataframe tbody tr th:only-of-type {\n",
              "        vertical-align: middle;\n",
              "    }\n",
              "\n",
              "    .dataframe tbody tr th {\n",
              "        vertical-align: top;\n",
              "    }\n",
              "\n",
              "    .dataframe thead th {\n",
              "        text-align: right;\n",
              "    }\n",
              "</style>\n",
              "<table border=\"1\" class=\"dataframe\">\n",
              "  <thead>\n",
              "    <tr style=\"text-align: right;\">\n",
              "      <th></th>\n",
              "      <th>Make</th>\n",
              "      <th>Model</th>\n",
              "      <th>Year</th>\n",
              "      <th>Engine Fuel Type</th>\n",
              "      <th>Engine HP</th>\n",
              "      <th>Engine Cylinders</th>\n",
              "      <th>Transmission Type</th>\n",
              "      <th>Driven_Wheels</th>\n",
              "      <th>Vehicle Size</th>\n",
              "      <th>Vehicle Style</th>\n",
              "      <th>highway MPG</th>\n",
              "      <th>city mpg</th>\n",
              "      <th>Popularity</th>\n",
              "      <th>MSRP</th>\n",
              "    </tr>\n",
              "  </thead>\n",
              "  <tbody>\n",
              "    <tr>\n",
              "      <th>0</th>\n",
              "      <td>BMW</td>\n",
              "      <td>1 Series M</td>\n",
              "      <td>2011</td>\n",
              "      <td>premium unleaded (required)</td>\n",
              "      <td>335.0</td>\n",
              "      <td>6.0</td>\n",
              "      <td>MANUAL</td>\n",
              "      <td>rear wheel drive</td>\n",
              "      <td>Compact</td>\n",
              "      <td>Coupe</td>\n",
              "      <td>26</td>\n",
              "      <td>19</td>\n",
              "      <td>3916</td>\n",
              "      <td>46135</td>\n",
              "    </tr>\n",
              "    <tr>\n",
              "      <th>1</th>\n",
              "      <td>BMW</td>\n",
              "      <td>1 Series</td>\n",
              "      <td>2011</td>\n",
              "      <td>premium unleaded (required)</td>\n",
              "      <td>300.0</td>\n",
              "      <td>6.0</td>\n",
              "      <td>MANUAL</td>\n",
              "      <td>rear wheel drive</td>\n",
              "      <td>Compact</td>\n",
              "      <td>Convertible</td>\n",
              "      <td>28</td>\n",
              "      <td>19</td>\n",
              "      <td>3916</td>\n",
              "      <td>40650</td>\n",
              "    </tr>\n",
              "    <tr>\n",
              "      <th>2</th>\n",
              "      <td>BMW</td>\n",
              "      <td>1 Series</td>\n",
              "      <td>2011</td>\n",
              "      <td>premium unleaded (required)</td>\n",
              "      <td>300.0</td>\n",
              "      <td>6.0</td>\n",
              "      <td>MANUAL</td>\n",
              "      <td>rear wheel drive</td>\n",
              "      <td>Compact</td>\n",
              "      <td>Coupe</td>\n",
              "      <td>28</td>\n",
              "      <td>20</td>\n",
              "      <td>3916</td>\n",
              "      <td>36350</td>\n",
              "    </tr>\n",
              "    <tr>\n",
              "      <th>3</th>\n",
              "      <td>BMW</td>\n",
              "      <td>1 Series</td>\n",
              "      <td>2011</td>\n",
              "      <td>premium unleaded (required)</td>\n",
              "      <td>230.0</td>\n",
              "      <td>6.0</td>\n",
              "      <td>MANUAL</td>\n",
              "      <td>rear wheel drive</td>\n",
              "      <td>Compact</td>\n",
              "      <td>Coupe</td>\n",
              "      <td>28</td>\n",
              "      <td>18</td>\n",
              "      <td>3916</td>\n",
              "      <td>29450</td>\n",
              "    </tr>\n",
              "    <tr>\n",
              "      <th>4</th>\n",
              "      <td>BMW</td>\n",
              "      <td>1 Series</td>\n",
              "      <td>2011</td>\n",
              "      <td>premium unleaded (required)</td>\n",
              "      <td>230.0</td>\n",
              "      <td>6.0</td>\n",
              "      <td>MANUAL</td>\n",
              "      <td>rear wheel drive</td>\n",
              "      <td>Compact</td>\n",
              "      <td>Convertible</td>\n",
              "      <td>28</td>\n",
              "      <td>18</td>\n",
              "      <td>3916</td>\n",
              "      <td>34500</td>\n",
              "    </tr>\n",
              "  </tbody>\n",
              "</table>\n",
              "</div>"
            ],
            "text/plain": [
              "  Make       Model  Year  ... city mpg  Popularity   MSRP\n",
              "0  BMW  1 Series M  2011  ...       19        3916  46135\n",
              "1  BMW    1 Series  2011  ...       19        3916  40650\n",
              "2  BMW    1 Series  2011  ...       20        3916  36350\n",
              "3  BMW    1 Series  2011  ...       18        3916  29450\n",
              "4  BMW    1 Series  2011  ...       18        3916  34500\n",
              "\n",
              "[5 rows x 14 columns]"
            ]
          },
          "metadata": {
            "tags": []
          },
          "execution_count": 884
        }
      ]
    },
    {
      "cell_type": "code",
      "metadata": {
        "id": "dARhOOBdu4xq",
        "colab_type": "code",
        "colab": {
          "base_uri": "https://localhost:8080/",
          "height": 34
        },
        "outputId": "557d65bf-c639-4017-a0ae-5429167db75f"
      },
      "source": [
        "#shape of the dataset after dropping market category\n",
        "\n",
        "data.shape"
      ],
      "execution_count": 885,
      "outputs": [
        {
          "output_type": "execute_result",
          "data": {
            "text/plain": [
              "(11914, 14)"
            ]
          },
          "metadata": {
            "tags": []
          },
          "execution_count": 885
        }
      ]
    },
    {
      "cell_type": "markdown",
      "metadata": {
        "id": "BFw4hCsl6Wtu",
        "colab_type": "text"
      },
      "source": [
        "#**3**  **Renaming** the columns "
      ]
    },
    {
      "cell_type": "code",
      "metadata": {
        "id": "is5i-r8YzBXk",
        "colab_type": "code",
        "colab": {
          "base_uri": "https://localhost:8080/",
          "height": 204
        },
        "outputId": "e67be205-d101-4085-a958-ef234c3edf2f"
      },
      "source": [
        "#renaming can to done using rename() function\n",
        "#renaming is done to\n",
        "data.rename(columns= {\"Engine HP\": \"HP\", \"Engine Cylinders\": \"Cylinders\", \"Transmission Type\": \"Transmission\",\n",
        "                      \"Driven_Wheels\": \"Drive Mode\", \"highway MPG\": \"MPG-H\", \"city mpg\": \"MPG-C\", \"MSRP\": \"Price\"}, inplace= True)\n",
        "\n",
        "data.head(5)"
      ],
      "execution_count": 886,
      "outputs": [
        {
          "output_type": "execute_result",
          "data": {
            "text/html": [
              "<div>\n",
              "<style scoped>\n",
              "    .dataframe tbody tr th:only-of-type {\n",
              "        vertical-align: middle;\n",
              "    }\n",
              "\n",
              "    .dataframe tbody tr th {\n",
              "        vertical-align: top;\n",
              "    }\n",
              "\n",
              "    .dataframe thead th {\n",
              "        text-align: right;\n",
              "    }\n",
              "</style>\n",
              "<table border=\"1\" class=\"dataframe\">\n",
              "  <thead>\n",
              "    <tr style=\"text-align: right;\">\n",
              "      <th></th>\n",
              "      <th>Make</th>\n",
              "      <th>Model</th>\n",
              "      <th>Year</th>\n",
              "      <th>Engine Fuel Type</th>\n",
              "      <th>HP</th>\n",
              "      <th>Cylinders</th>\n",
              "      <th>Transmission</th>\n",
              "      <th>Drive Mode</th>\n",
              "      <th>Vehicle Size</th>\n",
              "      <th>Vehicle Style</th>\n",
              "      <th>MPG-H</th>\n",
              "      <th>MPG-C</th>\n",
              "      <th>Popularity</th>\n",
              "      <th>Price</th>\n",
              "    </tr>\n",
              "  </thead>\n",
              "  <tbody>\n",
              "    <tr>\n",
              "      <th>0</th>\n",
              "      <td>BMW</td>\n",
              "      <td>1 Series M</td>\n",
              "      <td>2011</td>\n",
              "      <td>premium unleaded (required)</td>\n",
              "      <td>335.0</td>\n",
              "      <td>6.0</td>\n",
              "      <td>MANUAL</td>\n",
              "      <td>rear wheel drive</td>\n",
              "      <td>Compact</td>\n",
              "      <td>Coupe</td>\n",
              "      <td>26</td>\n",
              "      <td>19</td>\n",
              "      <td>3916</td>\n",
              "      <td>46135</td>\n",
              "    </tr>\n",
              "    <tr>\n",
              "      <th>1</th>\n",
              "      <td>BMW</td>\n",
              "      <td>1 Series</td>\n",
              "      <td>2011</td>\n",
              "      <td>premium unleaded (required)</td>\n",
              "      <td>300.0</td>\n",
              "      <td>6.0</td>\n",
              "      <td>MANUAL</td>\n",
              "      <td>rear wheel drive</td>\n",
              "      <td>Compact</td>\n",
              "      <td>Convertible</td>\n",
              "      <td>28</td>\n",
              "      <td>19</td>\n",
              "      <td>3916</td>\n",
              "      <td>40650</td>\n",
              "    </tr>\n",
              "    <tr>\n",
              "      <th>2</th>\n",
              "      <td>BMW</td>\n",
              "      <td>1 Series</td>\n",
              "      <td>2011</td>\n",
              "      <td>premium unleaded (required)</td>\n",
              "      <td>300.0</td>\n",
              "      <td>6.0</td>\n",
              "      <td>MANUAL</td>\n",
              "      <td>rear wheel drive</td>\n",
              "      <td>Compact</td>\n",
              "      <td>Coupe</td>\n",
              "      <td>28</td>\n",
              "      <td>20</td>\n",
              "      <td>3916</td>\n",
              "      <td>36350</td>\n",
              "    </tr>\n",
              "    <tr>\n",
              "      <th>3</th>\n",
              "      <td>BMW</td>\n",
              "      <td>1 Series</td>\n",
              "      <td>2011</td>\n",
              "      <td>premium unleaded (required)</td>\n",
              "      <td>230.0</td>\n",
              "      <td>6.0</td>\n",
              "      <td>MANUAL</td>\n",
              "      <td>rear wheel drive</td>\n",
              "      <td>Compact</td>\n",
              "      <td>Coupe</td>\n",
              "      <td>28</td>\n",
              "      <td>18</td>\n",
              "      <td>3916</td>\n",
              "      <td>29450</td>\n",
              "    </tr>\n",
              "    <tr>\n",
              "      <th>4</th>\n",
              "      <td>BMW</td>\n",
              "      <td>1 Series</td>\n",
              "      <td>2011</td>\n",
              "      <td>premium unleaded (required)</td>\n",
              "      <td>230.0</td>\n",
              "      <td>6.0</td>\n",
              "      <td>MANUAL</td>\n",
              "      <td>rear wheel drive</td>\n",
              "      <td>Compact</td>\n",
              "      <td>Convertible</td>\n",
              "      <td>28</td>\n",
              "      <td>18</td>\n",
              "      <td>3916</td>\n",
              "      <td>34500</td>\n",
              "    </tr>\n",
              "  </tbody>\n",
              "</table>\n",
              "</div>"
            ],
            "text/plain": [
              "  Make       Model  Year  ... MPG-C  Popularity  Price\n",
              "0  BMW  1 Series M  2011  ...    19        3916  46135\n",
              "1  BMW    1 Series  2011  ...    19        3916  40650\n",
              "2  BMW    1 Series  2011  ...    20        3916  36350\n",
              "3  BMW    1 Series  2011  ...    18        3916  29450\n",
              "4  BMW    1 Series  2011  ...    18        3916  34500\n",
              "\n",
              "[5 rows x 14 columns]"
            ]
          },
          "metadata": {
            "tags": []
          },
          "execution_count": 886
        }
      ]
    },
    {
      "cell_type": "markdown",
      "metadata": {
        "id": "vyjTpLboagkN",
        "colab_type": "text"
      },
      "source": [
        "#**4**.   **Checking** and dropping of **Duplicate Rows** and **Null Values** "
      ]
    },
    {
      "cell_type": "code",
      "metadata": {
        "id": "ULezbZXZRtUo",
        "colab_type": "code",
        "colab": {
          "base_uri": "https://localhost:8080/",
          "height": 34
        },
        "outputId": "7a23a0d6-2807-4fb4-dd8f-82719c4be530"
      },
      "source": [
        "#to get the shape of duplicated data\n",
        "duplicatedRows = data[data.duplicated()]\n",
        "duplicatedRows.shape"
      ],
      "execution_count": 887,
      "outputs": [
        {
          "output_type": "execute_result",
          "data": {
            "text/plain": [
              "(721, 14)"
            ]
          },
          "metadata": {
            "tags": []
          },
          "execution_count": 887
        }
      ]
    },
    {
      "cell_type": "code",
      "metadata": {
        "id": "GrRQ23U9lm-A",
        "colab_type": "code",
        "colab": {
          "base_uri": "https://localhost:8080/",
          "height": 34
        },
        "outputId": "3d1f1a75-f9cd-4a87-df38-dac76a021f4d"
      },
      "source": [
        "#the total number of duplicate rows can be known using duplicated() function\n",
        "data.duplicated().sum()\n"
      ],
      "execution_count": 888,
      "outputs": [
        {
          "output_type": "execute_result",
          "data": {
            "text/plain": [
              "721"
            ]
          },
          "metadata": {
            "tags": []
          },
          "execution_count": 888
        }
      ]
    },
    {
      "cell_type": "markdown",
      "metadata": {
        "id": "F-RbHpBjThYd",
        "colab_type": "text"
      },
      "source": [
        "**4**.1 *Dropping* the *Duplicated Rows*"
      ]
    },
    {
      "cell_type": "code",
      "metadata": {
        "id": "lCT0NYvMgwn5",
        "colab_type": "code",
        "colab": {
          "base_uri": "https://localhost:8080/",
          "height": 34
        },
        "outputId": "93ecc492-20c4-46b2-ead2-aebd4d928389"
      },
      "source": [
        "#shape of dataset before dropping the duplicates\n",
        "data.shape"
      ],
      "execution_count": 889,
      "outputs": [
        {
          "output_type": "execute_result",
          "data": {
            "text/plain": [
              "(11914, 14)"
            ]
          },
          "metadata": {
            "tags": []
          },
          "execution_count": 889
        }
      ]
    },
    {
      "cell_type": "code",
      "metadata": {
        "id": "syeXx3o7Xm3d",
        "colab_type": "code",
        "colab": {
          "base_uri": "https://localhost:8080/",
          "height": 204
        },
        "outputId": "387fae2e-a6e7-464c-a9bf-85be12a5c51b"
      },
      "source": [
        "#dropping the duplicate rows\n",
        "data=data.drop_duplicates()\n",
        "\n",
        "data.head(5)"
      ],
      "execution_count": 890,
      "outputs": [
        {
          "output_type": "execute_result",
          "data": {
            "text/html": [
              "<div>\n",
              "<style scoped>\n",
              "    .dataframe tbody tr th:only-of-type {\n",
              "        vertical-align: middle;\n",
              "    }\n",
              "\n",
              "    .dataframe tbody tr th {\n",
              "        vertical-align: top;\n",
              "    }\n",
              "\n",
              "    .dataframe thead th {\n",
              "        text-align: right;\n",
              "    }\n",
              "</style>\n",
              "<table border=\"1\" class=\"dataframe\">\n",
              "  <thead>\n",
              "    <tr style=\"text-align: right;\">\n",
              "      <th></th>\n",
              "      <th>Make</th>\n",
              "      <th>Model</th>\n",
              "      <th>Year</th>\n",
              "      <th>Engine Fuel Type</th>\n",
              "      <th>HP</th>\n",
              "      <th>Cylinders</th>\n",
              "      <th>Transmission</th>\n",
              "      <th>Drive Mode</th>\n",
              "      <th>Vehicle Size</th>\n",
              "      <th>Vehicle Style</th>\n",
              "      <th>MPG-H</th>\n",
              "      <th>MPG-C</th>\n",
              "      <th>Popularity</th>\n",
              "      <th>Price</th>\n",
              "    </tr>\n",
              "  </thead>\n",
              "  <tbody>\n",
              "    <tr>\n",
              "      <th>0</th>\n",
              "      <td>BMW</td>\n",
              "      <td>1 Series M</td>\n",
              "      <td>2011</td>\n",
              "      <td>premium unleaded (required)</td>\n",
              "      <td>335.0</td>\n",
              "      <td>6.0</td>\n",
              "      <td>MANUAL</td>\n",
              "      <td>rear wheel drive</td>\n",
              "      <td>Compact</td>\n",
              "      <td>Coupe</td>\n",
              "      <td>26</td>\n",
              "      <td>19</td>\n",
              "      <td>3916</td>\n",
              "      <td>46135</td>\n",
              "    </tr>\n",
              "    <tr>\n",
              "      <th>1</th>\n",
              "      <td>BMW</td>\n",
              "      <td>1 Series</td>\n",
              "      <td>2011</td>\n",
              "      <td>premium unleaded (required)</td>\n",
              "      <td>300.0</td>\n",
              "      <td>6.0</td>\n",
              "      <td>MANUAL</td>\n",
              "      <td>rear wheel drive</td>\n",
              "      <td>Compact</td>\n",
              "      <td>Convertible</td>\n",
              "      <td>28</td>\n",
              "      <td>19</td>\n",
              "      <td>3916</td>\n",
              "      <td>40650</td>\n",
              "    </tr>\n",
              "    <tr>\n",
              "      <th>2</th>\n",
              "      <td>BMW</td>\n",
              "      <td>1 Series</td>\n",
              "      <td>2011</td>\n",
              "      <td>premium unleaded (required)</td>\n",
              "      <td>300.0</td>\n",
              "      <td>6.0</td>\n",
              "      <td>MANUAL</td>\n",
              "      <td>rear wheel drive</td>\n",
              "      <td>Compact</td>\n",
              "      <td>Coupe</td>\n",
              "      <td>28</td>\n",
              "      <td>20</td>\n",
              "      <td>3916</td>\n",
              "      <td>36350</td>\n",
              "    </tr>\n",
              "    <tr>\n",
              "      <th>3</th>\n",
              "      <td>BMW</td>\n",
              "      <td>1 Series</td>\n",
              "      <td>2011</td>\n",
              "      <td>premium unleaded (required)</td>\n",
              "      <td>230.0</td>\n",
              "      <td>6.0</td>\n",
              "      <td>MANUAL</td>\n",
              "      <td>rear wheel drive</td>\n",
              "      <td>Compact</td>\n",
              "      <td>Coupe</td>\n",
              "      <td>28</td>\n",
              "      <td>18</td>\n",
              "      <td>3916</td>\n",
              "      <td>29450</td>\n",
              "    </tr>\n",
              "    <tr>\n",
              "      <th>4</th>\n",
              "      <td>BMW</td>\n",
              "      <td>1 Series</td>\n",
              "      <td>2011</td>\n",
              "      <td>premium unleaded (required)</td>\n",
              "      <td>230.0</td>\n",
              "      <td>6.0</td>\n",
              "      <td>MANUAL</td>\n",
              "      <td>rear wheel drive</td>\n",
              "      <td>Compact</td>\n",
              "      <td>Convertible</td>\n",
              "      <td>28</td>\n",
              "      <td>18</td>\n",
              "      <td>3916</td>\n",
              "      <td>34500</td>\n",
              "    </tr>\n",
              "  </tbody>\n",
              "</table>\n",
              "</div>"
            ],
            "text/plain": [
              "  Make       Model  Year  ... MPG-C  Popularity  Price\n",
              "0  BMW  1 Series M  2011  ...    19        3916  46135\n",
              "1  BMW    1 Series  2011  ...    19        3916  40650\n",
              "2  BMW    1 Series  2011  ...    20        3916  36350\n",
              "3  BMW    1 Series  2011  ...    18        3916  29450\n",
              "4  BMW    1 Series  2011  ...    18        3916  34500\n",
              "\n",
              "[5 rows x 14 columns]"
            ]
          },
          "metadata": {
            "tags": []
          },
          "execution_count": 890
        }
      ]
    },
    {
      "cell_type": "code",
      "metadata": {
        "id": "ink25W16g8wP",
        "colab_type": "code",
        "colab": {
          "base_uri": "https://localhost:8080/",
          "height": 34
        },
        "outputId": "d828cdfd-61f3-4a53-8358-63295c25fa00"
      },
      "source": [
        "#shape of dataset after dropping the duplicates\n",
        "data.shape"
      ],
      "execution_count": 891,
      "outputs": [
        {
          "output_type": "execute_result",
          "data": {
            "text/plain": [
              "(11193, 14)"
            ]
          },
          "metadata": {
            "tags": []
          },
          "execution_count": 891
        }
      ]
    },
    {
      "cell_type": "markdown",
      "metadata": {
        "id": "nr55MV4h0auC",
        "colab_type": "text"
      },
      "source": [
        "**4**.2 Checking for *Null Values* and  *Missing Values* "
      ]
    },
    {
      "cell_type": "code",
      "metadata": {
        "id": "NVepR8di0ZaC",
        "colab_type": "code",
        "colab": {
          "base_uri": "https://localhost:8080/",
          "height": 272
        },
        "outputId": "0713dc9c-5dff-46c5-99f1-b94e1e9caaa0"
      },
      "source": [
        "#to know the null or missing data we use the function isnull()\n",
        "data.isnull().sum()"
      ],
      "execution_count": 892,
      "outputs": [
        {
          "output_type": "execute_result",
          "data": {
            "text/plain": [
              "Make                 0\n",
              "Model                0\n",
              "Year                 0\n",
              "Engine Fuel Type     3\n",
              "HP                  69\n",
              "Cylinders           30\n",
              "Transmission         0\n",
              "Drive Mode           0\n",
              "Vehicle Size         0\n",
              "Vehicle Style        0\n",
              "MPG-H                0\n",
              "MPG-C                0\n",
              "Popularity           0\n",
              "Price                0\n",
              "dtype: int64"
            ]
          },
          "metadata": {
            "tags": []
          },
          "execution_count": 892
        }
      ]
    },
    {
      "cell_type": "markdown",
      "metadata": {
        "id": "l_WxZgqm3bsh",
        "colab_type": "text"
      },
      "source": [
        "````\n",
        "As there are only few number of missing data, we could drop the missing data\n",
        "````"
      ]
    },
    {
      "cell_type": "markdown",
      "metadata": {
        "id": "tYBmtqlHMESo",
        "colab_type": "text"
      },
      "source": [
        "**4**.3 Dropping of  *Missing Data* "
      ]
    },
    {
      "cell_type": "code",
      "metadata": {
        "id": "o7p7Bb6lPobt",
        "colab_type": "code",
        "colab": {
          "base_uri": "https://localhost:8080/",
          "height": 34
        },
        "outputId": "bef3539f-b315-4998-c67d-5a92e0c90ea3"
      },
      "source": [
        "#shape of the dataset before dropping the missing values\n",
        "data.shape"
      ],
      "execution_count": 893,
      "outputs": [
        {
          "output_type": "execute_result",
          "data": {
            "text/plain": [
              "(11193, 14)"
            ]
          },
          "metadata": {
            "tags": []
          },
          "execution_count": 893
        }
      ]
    },
    {
      "cell_type": "code",
      "metadata": {
        "id": "kIiX1nT61TY9",
        "colab_type": "code",
        "colab": {}
      },
      "source": [
        "#to drop the missing or null values we use \n",
        "data = data.dropna()\n"
      ],
      "execution_count": 894,
      "outputs": []
    },
    {
      "cell_type": "code",
      "metadata": {
        "id": "2X9XgGU5P7cs",
        "colab_type": "code",
        "colab": {
          "base_uri": "https://localhost:8080/",
          "height": 34
        },
        "outputId": "7b990209-5f49-4bc7-fb94-605b8dd9fbf7"
      },
      "source": [
        "#shape of the dataset after dropping the missing data\n",
        "data.shape"
      ],
      "execution_count": 895,
      "outputs": [
        {
          "output_type": "execute_result",
          "data": {
            "text/plain": [
              "(11092, 14)"
            ]
          },
          "metadata": {
            "tags": []
          },
          "execution_count": 895
        }
      ]
    },
    {
      "cell_type": "code",
      "metadata": {
        "id": "EX9_xqy4S11Y",
        "colab_type": "code",
        "colab": {
          "base_uri": "https://localhost:8080/",
          "height": 272
        },
        "outputId": "7c818bc0-7b5b-4d75-90be-6e8f40955d65"
      },
      "source": [
        "#checking the number of missing values\n",
        "data.isnull().sum()"
      ],
      "execution_count": 896,
      "outputs": [
        {
          "output_type": "execute_result",
          "data": {
            "text/plain": [
              "Make                0\n",
              "Model               0\n",
              "Year                0\n",
              "Engine Fuel Type    0\n",
              "HP                  0\n",
              "Cylinders           0\n",
              "Transmission        0\n",
              "Drive Mode          0\n",
              "Vehicle Size        0\n",
              "Vehicle Style       0\n",
              "MPG-H               0\n",
              "MPG-C               0\n",
              "Popularity          0\n",
              "Price               0\n",
              "dtype: int64"
            ]
          },
          "metadata": {
            "tags": []
          },
          "execution_count": 896
        }
      ]
    },
    {
      "cell_type": "markdown",
      "metadata": {
        "id": "XaAqxhokU-GR",
        "colab_type": "text"
      },
      "source": [
        "#**5**. Plotting **Graphs** for various columns   to check for **Outliers**\n"
      ]
    },
    {
      "cell_type": "code",
      "metadata": {
        "id": "8wDeoKWiVVGL",
        "colab_type": "code",
        "colab": {
          "base_uri": "https://localhost:8080/",
          "height": 296
        },
        "outputId": "56386f07-c9a9-4673-dafe-3da38cda0b5f"
      },
      "source": [
        "sns.boxplot(x= data[\"Price\"])\n"
      ],
      "execution_count": 897,
      "outputs": [
        {
          "output_type": "execute_result",
          "data": {
            "text/plain": [
              "<matplotlib.axes._subplots.AxesSubplot at 0x7f8941cc9da0>"
            ]
          },
          "metadata": {
            "tags": []
          },
          "execution_count": 897
        },
        {
          "output_type": "display_data",
          "data": {
            "image/png": "[encoded data removed]",
            "text/plain": [
              "<Figure size 432x288 with 1 Axes>"
            ]
          },
          "metadata": {
            "tags": [],
            "needs_background": "light"
          }
        }
      ]
    },
    {
      "cell_type": "code",
      "metadata": {
        "id": "IjgtFEs3Tfst",
        "colab_type": "code",
        "colab": {
          "base_uri": "https://localhost:8080/",
          "height": 296
        },
        "outputId": "20494f8d-7b7d-4eab-fd3a-5f70020dc14d"
      },
      "source": [
        "sns.boxplot(x=data[\"HP\"])"
      ],
      "execution_count": 898,
      "outputs": [
        {
          "output_type": "execute_result",
          "data": {
            "text/plain": [
              "<matplotlib.axes._subplots.AxesSubplot at 0x7f8941b740b8>"
            ]
          },
          "metadata": {
            "tags": []
          },
          "execution_count": 898
        },
        {
          "output_type": "display_data",
          "data": {
            "image/png": "[encoded data removed]",
            "text/plain": [
              "<Figure size 432x288 with 1 Axes>"
            ]
          },
          "metadata": {
            "tags": [],
            "needs_background": "light"
          }
        }
      ]
    },
    {
      "cell_type": "code",
      "metadata": {
        "id": "P_El826ETzKm",
        "colab_type": "code",
        "colab": {
          "base_uri": "https://localhost:8080/",
          "height": 296
        },
        "outputId": "fc1a8add-010d-4060-e8d3-da2908ee14c6"
      },
      "source": [
        "sns.boxplot(x=data[\"Popularity\"])             #the number of outliers here are less\n"
      ],
      "execution_count": 899,
      "outputs": [
        {
          "output_type": "execute_result",
          "data": {
            "text/plain": [
              "<matplotlib.axes._subplots.AxesSubplot at 0x7f8941ad4978>"
            ]
          },
          "metadata": {
            "tags": []
          },
          "execution_count": 899
        },
        {
          "output_type": "display_data",
          "data": {
            "image/png": "[encoded data removed]",
            "text/plain": [
              "<Figure size 432x288 with 1 Axes>"
            ]
          },
          "metadata": {
            "tags": [],
            "needs_background": "light"
          }
        }
      ]
    },
    {
      "cell_type": "code",
      "metadata": {
        "id": "pU_2iOiNVH2N",
        "colab_type": "code",
        "colab": {
          "base_uri": "https://localhost:8080/",
          "height": 296
        },
        "outputId": "44cf056f-1679-442a-945a-34f044417e0a"
      },
      "source": [
        "sns.boxplot(x=data[\"Cylinders\"])"
      ],
      "execution_count": 900,
      "outputs": [
        {
          "output_type": "execute_result",
          "data": {
            "text/plain": [
              "<matplotlib.axes._subplots.AxesSubplot at 0x7f8941aa8a20>"
            ]
          },
          "metadata": {
            "tags": []
          },
          "execution_count": 900
        },
        {
          "output_type": "display_data",
          "data": {
            "image/png": "[encoded data removed]",
            "text/plain": [
              "<Figure size 432x288 with 1 Axes>"
            ]
          },
          "metadata": {
            "tags": [],
            "needs_background": "light"
          }
        }
      ]
    },
    {
      "cell_type": "markdown",
      "metadata": {
        "id": "9cFmtEgki0EU",
        "colab_type": "text"
      },
      "source": [
        "**5**.1 **Removing** the **Outliers**\n",
        "\n",
        "```\n",
        "*The outliers can be removed using Inter Quartile Range(IQR)\n",
        "\n",
        "```"
      ]
    },
    {
      "cell_type": "code",
      "metadata": {
        "id": "lU4PAngQiM-w",
        "colab_type": "code",
        "colab": {
          "base_uri": "https://localhost:8080/",
          "height": 153
        },
        "outputId": "467990ac-93e7-484b-ac5b-cf646f6abdcf"
      },
      "source": [
        "Q1 = data.quantile(0.25)\n",
        "Q3 = data.quantile(0.75)\n",
        "\n",
        "IQR = Q3 - Q1               \n",
        "IQR"
      ],
      "execution_count": 901,
      "outputs": [
        {
          "output_type": "execute_result",
          "data": {
            "text/plain": [
              "Year              9.00\n",
              "HP              131.00\n",
              "Cylinders         2.00\n",
              "MPG-H             8.00\n",
              "MPG-C             6.00\n",
              "Popularity     1460.00\n",
              "Price         21491.25\n",
              "dtype: float64"
            ]
          },
          "metadata": {
            "tags": []
          },
          "execution_count": 901
        }
      ]
    },
    {
      "cell_type": "markdown",
      "metadata": {
        "id": "QmbETGvMssrS",
        "colab_type": "text"
      },
      "source": [
        "```\n",
        "*For finding out the Outlier using IQR we have to define a multiplier\n",
        " which is 1.5 ideally that will decide how far below Q1 and above Q3 will be considered as an Outlier\n",
        " *Any value below Q1-1.5*IQR or above Q3+1.5*IQR is an Outlier\n",
        " ```"
      ]
    },
    {
      "cell_type": "code",
      "metadata": {
        "id": "KR_XXulkuUfD",
        "colab_type": "code",
        "colab": {
          "base_uri": "https://localhost:8080/",
          "height": 34
        },
        "outputId": "8c452f80-83f3-4492-ad47-58f82b8e5cfe"
      },
      "source": [
        "#shape of dataset before removing the outliers\n",
        "data.shape"
      ],
      "execution_count": 902,
      "outputs": [
        {
          "output_type": "execute_result",
          "data": {
            "text/plain": [
              "(11092, 14)"
            ]
          },
          "metadata": {
            "tags": []
          },
          "execution_count": 902
        }
      ]
    },
    {
      "cell_type": "code",
      "metadata": {
        "id": "gG69k3Kbs1kc",
        "colab_type": "code",
        "colab": {
          "base_uri": "https://localhost:8080/",
          "height": 34
        },
        "outputId": "2691a34e-3e78-42f5-f1c2-5955c8cb44be"
      },
      "source": [
        "data = data[~((data < (Q1 - 1.5 * IQR)) |(data > (Q3 + 1.5 * IQR))).any(axis=1)]\n",
        "\n",
        "#shape of dataset after removing the outliers\n",
        "data.shape"
      ],
      "execution_count": 903,
      "outputs": [
        {
          "output_type": "execute_result",
          "data": {
            "text/plain": [
              "(8608, 14)"
            ]
          },
          "metadata": {
            "tags": []
          },
          "execution_count": 903
        }
      ]
    },
    {
      "cell_type": "markdown",
      "metadata": {
        "id": "ocrX_VgYEd-r",
        "colab_type": "text"
      },
      "source": [
        "#**6**. Most **Represented**  and the **Average Price** of Car Brand\n"
      ]
    },
    {
      "cell_type": "markdown",
      "metadata": {
        "id": "85tj5KYX3gIn",
        "colab_type": "text"
      },
      "source": [
        "**6**.1 Most Represented Car Brands"
      ]
    },
    {
      "cell_type": "code",
      "metadata": {
        "id": "IaTZS-igElz7",
        "colab_type": "code",
        "colab": {
          "base_uri": "https://localhost:8080/",
          "height": 341
        },
        "outputId": "93465fb0-19d0-48d0-c3c4-95c63e2d663a"
      },
      "source": [
        "# Percentage of car per brand\n",
        "counts = data['Make'].value_counts()*100/sum(data['Make'].value_counts())\n",
        "\n",
        "# Top 10 car brands\n",
        "top_brands = counts.index[:10]\n",
        "    \n",
        "# Plotting\n",
        "plt.figure(figsize=(18,5))                                  \t                       #we adjust the graph size according to our convience, as done\n",
        "plt.barh(top_brands,width=counts[:10])   \n",
        "plt.title('Top 10 Represented Car Brands', weight= 'bold', fontsize= 20)             #we give the title of the graph as \"Top 10 Represented car brands\"\n",
        "plt.show()                         "
      ],
      "execution_count": 904,
      "outputs": [
        {
          "output_type": "display_data",
          "data": {
            "image/png": "[encoded data removed]",
            "text/plain": [
              "<Figure size 1296x360 with 1 Axes>"
            ]
          },
          "metadata": {
            "tags": [],
            "needs_background": "light"
          }
        }
      ]
    },
    {
      "cell_type": "markdown",
      "metadata": {
        "id": "Iv7Wuyu9eQzr",
        "colab_type": "text"
      },
      "source": [
        "From the graph, it is clearly given the top 10 car brands\n",
        "\n"
      ]
    },
    {
      "cell_type": "markdown",
      "metadata": {
        "id": "jxIj0saKiFod",
        "colab_type": "text"
      },
      "source": [
        "**6**.2 **Average Price** among the top car brands"
      ]
    },
    {
      "cell_type": "code",
      "metadata": {
        "id": "Q5XoflLacZH6",
        "colab_type": "code",
        "colab": {
          "base_uri": "https://localhost:8080/",
          "height": 204
        },
        "outputId": "7e1761d6-e6bb-41ca-8e68-f49880b7f654"
      },
      "source": [
        "avgPrices = data[['Make','Price']].loc[                                    #The loc() function is used to access a group of rows and columns using label's\n",
        "               (data['Make'] == 'Chevrolet')|\n",
        "               (data['Make'] == 'Toyota')|\n",
        "               (data['Make'] == 'Volkswagen')|\n",
        "               (data['Make'] == 'Nissan')|\n",
        "               (data['Make'] == 'GMC')|\n",
        "               (data['Make'] == 'Dodge')|\n",
        "               (data['Make'] == 'Mazda')|\n",
        "               (data['Make'] == 'Honda')|\n",
        "               (data['Make'] == 'Suzuki')|\n",
        "               (data['Make'] == 'infiniti')].groupby('Make').mean()       #groupby() function is used to split the data into groups  \n",
        "                                                                          #To get the mean or average of the data we use mean() function\n",
        "print(avgPrices)"
      ],
      "execution_count": 905,
      "outputs": [
        {
          "output_type": "stream",
          "text": [
            "                   Price\n",
            "Make                    \n",
            "Chevrolet   28188.626459\n",
            "Dodge       26076.722353\n",
            "GMC         33261.400853\n",
            "Honda       27381.364611\n",
            "Mazda       20495.820106\n",
            "Nissan      28352.543860\n",
            "Suzuki      18164.098214\n",
            "Toyota      29011.750397\n",
            "Volkswagen  29032.817476\n"
          ],
          "name": "stdout"
        }
      ]
    },
    {
      "cell_type": "markdown",
      "metadata": {
        "id": "h2l_VknG2CK_",
        "colab_type": "text"
      },
      "source": [
        "# **7**.  Plotting of **Correlation Matrix** "
      ]
    },
    {
      "cell_type": "markdown",
      "metadata": {
        "id": "iIEb3DrnF_9E",
        "colab_type": "text"
      },
      "source": [
        "A correlation matrix is a table showing **correlation coefficients** between variables. Each cell in the table shows the correlation between **two variables**"
      ]
    },
    {
      "cell_type": "code",
      "metadata": {
        "id": "KqdMhYsVFBVL",
        "colab_type": "code",
        "colab": {
          "base_uri": "https://localhost:8080/",
          "height": 266
        },
        "outputId": "cd743fd8-eeed-49b7-90dc-3705978120cf"
      },
      "source": [
        "#We use corr() function to get the correlation matrix for the datset\n",
        "\n",
        "data.corr()"
      ],
      "execution_count": 906,
      "outputs": [
        {
          "output_type": "execute_result",
          "data": {
            "text/html": [
              "<div>\n",
              "<style scoped>\n",
              "    .dataframe tbody tr th:only-of-type {\n",
              "        vertical-align: middle;\n",
              "    }\n",
              "\n",
              "    .dataframe tbody tr th {\n",
              "        vertical-align: top;\n",
              "    }\n",
              "\n",
              "    .dataframe thead th {\n",
              "        text-align: right;\n",
              "    }\n",
              "</style>\n",
              "<table border=\"1\" class=\"dataframe\">\n",
              "  <thead>\n",
              "    <tr style=\"text-align: right;\">\n",
              "      <th></th>\n",
              "      <th>Year</th>\n",
              "      <th>HP</th>\n",
              "      <th>Cylinders</th>\n",
              "      <th>MPG-H</th>\n",
              "      <th>MPG-C</th>\n",
              "      <th>Popularity</th>\n",
              "      <th>Price</th>\n",
              "    </tr>\n",
              "  </thead>\n",
              "  <tbody>\n",
              "    <tr>\n",
              "      <th>Year</th>\n",
              "      <td>1.000000</td>\n",
              "      <td>0.330540</td>\n",
              "      <td>-0.094397</td>\n",
              "      <td>0.359829</td>\n",
              "      <td>0.323613</td>\n",
              "      <td>0.204453</td>\n",
              "      <td>0.591644</td>\n",
              "    </tr>\n",
              "    <tr>\n",
              "      <th>HP</th>\n",
              "      <td>0.330540</td>\n",
              "      <td>1.000000</td>\n",
              "      <td>0.741031</td>\n",
              "      <td>-0.465311</td>\n",
              "      <td>-0.563362</td>\n",
              "      <td>0.105691</td>\n",
              "      <td>0.743497</td>\n",
              "    </tr>\n",
              "    <tr>\n",
              "      <th>Cylinders</th>\n",
              "      <td>-0.094397</td>\n",
              "      <td>0.741031</td>\n",
              "      <td>1.000000</td>\n",
              "      <td>-0.697884</td>\n",
              "      <td>-0.750850</td>\n",
              "      <td>0.025803</td>\n",
              "      <td>0.392174</td>\n",
              "    </tr>\n",
              "    <tr>\n",
              "      <th>MPG-H</th>\n",
              "      <td>0.359829</td>\n",
              "      <td>-0.465311</td>\n",
              "      <td>-0.697884</td>\n",
              "      <td>1.000000</td>\n",
              "      <td>0.937936</td>\n",
              "      <td>0.080857</td>\n",
              "      <td>-0.127772</td>\n",
              "    </tr>\n",
              "    <tr>\n",
              "      <th>MPG-C</th>\n",
              "      <td>0.323613</td>\n",
              "      <td>-0.563362</td>\n",
              "      <td>-0.750850</td>\n",
              "      <td>0.937936</td>\n",
              "      <td>1.000000</td>\n",
              "      <td>0.070320</td>\n",
              "      <td>-0.202410</td>\n",
              "    </tr>\n",
              "    <tr>\n",
              "      <th>Popularity</th>\n",
              "      <td>0.204453</td>\n",
              "      <td>0.105691</td>\n",
              "      <td>0.025803</td>\n",
              "      <td>0.080857</td>\n",
              "      <td>0.070320</td>\n",
              "      <td>1.000000</td>\n",
              "      <td>0.116684</td>\n",
              "    </tr>\n",
              "    <tr>\n",
              "      <th>Price</th>\n",
              "      <td>0.591644</td>\n",
              "      <td>0.743497</td>\n",
              "      <td>0.392174</td>\n",
              "      <td>-0.127772</td>\n",
              "      <td>-0.202410</td>\n",
              "      <td>0.116684</td>\n",
              "      <td>1.000000</td>\n",
              "    </tr>\n",
              "  </tbody>\n",
              "</table>\n",
              "</div>"
            ],
            "text/plain": [
              "                Year        HP  Cylinders  ...     MPG-C  Popularity     Price\n",
              "Year        1.000000  0.330540  -0.094397  ...  0.323613    0.204453  0.591644\n",
              "HP          0.330540  1.000000   0.741031  ... -0.563362    0.105691  0.743497\n",
              "Cylinders  -0.094397  0.741031   1.000000  ... -0.750850    0.025803  0.392174\n",
              "MPG-H       0.359829 -0.465311  -0.697884  ...  0.937936    0.080857 -0.127772\n",
              "MPG-C       0.323613 -0.563362  -0.750850  ...  1.000000    0.070320 -0.202410\n",
              "Popularity  0.204453  0.105691   0.025803  ...  0.070320    1.000000  0.116684\n",
              "Price       0.591644  0.743497   0.392174  ... -0.202410    0.116684  1.000000\n",
              "\n",
              "[7 rows x 7 columns]"
            ]
          },
          "metadata": {
            "tags": []
          },
          "execution_count": 906
        }
      ]
    },
    {
      "cell_type": "markdown",
      "metadata": {
        "id": "6dZD5Y_fJDB_",
        "colab_type": "text"
      },
      "source": [
        "**Analysing the correlation matrix**:"
      ]
    },
    {
      "cell_type": "markdown",
      "metadata": {
        "id": "jHR9Hv0hJTD-",
        "colab_type": "text"
      },
      "source": [
        "\n",
        "\n",
        "1.   **HIGH CORRELATION:** \n",
        "                       Cylinders     &   Horse Power\n",
        "                       Price         &   Horse Power\n",
        "                       Highway MPG   &   City MPG\n",
        "                       \n",
        "\n",
        "\n",
        "2.   **HIGH ANTICORRELATION**\n",
        "                      Cylinders   &    City MPG\n",
        "                      Horse Power &    Highway MPG\n",
        "\n",
        "                       \n",
        "\n"
      ]
    },
    {
      "cell_type": "markdown",
      "metadata": {
        "id": "lXUD_X9cUAlT",
        "colab_type": "text"
      },
      "source": [
        "As the number of **Cylinders** increases, the **Horse Power** of the car increases\n",
        "And beacuse of this the **Price** also increases.\n",
        "By this we can  conclude that **Cylinders** and **Price** are also in correlation"
      ]
    },
    {
      "cell_type": "markdown",
      "metadata": {
        "id": "7iHv3OAUxd-5",
        "colab_type": "text"
      },
      "source": [
        "As the **Cylinders** increases, the fuel counsumed per mile i.e **MPG**  decreases"
      ]
    },
    {
      "cell_type": "markdown",
      "metadata": {
        "id": "q_CaK_DRHTKA",
        "colab_type": "text"
      },
      "source": [
        "There are different ways for visualizing a correlation matrix  :\n",
        "\n",
        "1.   Heatmap\n",
        "2.   Scatter plots\n"
      ]
    },
    {
      "cell_type": "markdown",
      "metadata": {
        "id": "KRqoRf47IiOi",
        "colab_type": "text"
      },
      "source": [
        "**Heatmap**"
      ]
    },
    {
      "cell_type": "code",
      "metadata": {
        "id": "JJk05ZeO2UFF",
        "colab_type": "code",
        "colab": {
          "base_uri": "https://localhost:8080/",
          "height": 508
        },
        "outputId": "6501d60c-88ba-470c-8d7d-5c75a73be922"
      },
      "source": [
        "corrMatrix = data.corr()\n",
        "plt.subplots(figsize = (13,8))                                                    #setting up the size\n",
        "sns.heatmap(corrMatrix, annot=True)                                              \n",
        "plt.title(\"CORRELATION MATRIX\", weight = 'bold', fontsize= 25, loc= 'left' )      #giving title to the plot\n",
        "plt.show()"
      ],
      "execution_count": 907,
      "outputs": [
        {
          "output_type": "display_data",
          "data": {
            "image/png": "[encoded data removed]",
            "text/plain": [
              "<Figure size 936x576 with 2 Axes>"
            ]
          },
          "metadata": {
            "tags": [],
            "needs_background": "light"
          }
        }
      ]
    },
    {
      "cell_type": "markdown",
      "metadata": {
        "id": "muIVDwgAwwMG",
        "colab_type": "text"
      },
      "source": [
        "# **8**. Plotting Graphs "
      ]
    },
    {
      "cell_type": "markdown",
      "metadata": {
        "id": "roydt8yNInfl",
        "colab_type": "text"
      },
      "source": [
        "**Scatter Plot**"
      ]
    },
    {
      "cell_type": "markdown",
      "metadata": {
        "id": "tHXyEtFf2OKk",
        "colab_type": "text"
      },
      "source": [
        "A scatter plot is a diagram where each value in the data set is represented by a dot .Scatter plots are used to find the correlation between two variables. Here the scatter plots are plotted between Horsepower and Price \n",
        "\n"
      ]
    },
    {
      "cell_type": "code",
      "metadata": {
        "id": "XyuJjrGt461h",
        "colab_type": "code",
        "colab": {
          "base_uri": "https://localhost:8080/",
          "height": 480
        },
        "outputId": "05831db7-3785-44af-f3c5-3c3d29bbfb39"
      },
      "source": [
        "#scatter plotted between Horse Power and Price\n",
        "\n",
        "plt.subplots(figsize=(14,7))\n",
        "plt.scatter(data['HP'],  data['Price'])\n",
        "plt.xlabel('HP')\n",
        "plt.ylabel('Price')\n",
        "plt.title(\"SCATTER PLOT \", weight= 'bold', fontsize=20, loc='left')\n"
      ],
      "execution_count": 908,
      "outputs": [
        {
          "output_type": "execute_result",
          "data": {
            "text/plain": [
              "Text(0.0, 1.0, 'SCATTER PLOT ')"
            ]
          },
          "metadata": {
            "tags": []
          },
          "execution_count": 908
        },
        {
          "output_type": "display_data",
          "data": {
            "image/png": "[encoded data removed]",
            "text/plain": [
              "<Figure size 1008x504 with 1 Axes>"
            ]
          },
          "metadata": {
            "tags": [],
            "needs_background": "light"
          }
        }
      ]
    },
    {
      "cell_type": "markdown",
      "metadata": {
        "id": "XKpCLjh_FTws",
        "colab_type": "text"
      },
      "source": [
        " It is clearly seen that, as the Horse Power increases the Price of the car also increases"
      ]
    },
    {
      "cell_type": "markdown",
      "metadata": {
        "id": "bMVJ2ALjxuIu",
        "colab_type": "text"
      },
      "source": [
        "**BAR GRAPHS**"
      ]
    },
    {
      "cell_type": "markdown",
      "metadata": {
        "id": "6XVwhrRWx0TW",
        "colab_type": "text"
      },
      "source": [
        "Bar graphs are easy to understand even by the common people, and that is main motive. So Bar graphs are most desired type"
      ]
    },
    {
      "cell_type": "code",
      "metadata": {
        "id": "Hnt0J2NXy9yV",
        "colab_type": "code",
        "colab": {
          "base_uri": "https://localhost:8080/",
          "height": 296
        },
        "outputId": "01c811c8-8e40-43d4-97f0-bd2e1ceaea17"
      },
      "source": [
        "#bar graph plotted between  Year and  Price\n",
        "sns.barplot(data['Year'], data['Price'])"
      ],
      "execution_count": 909,
      "outputs": [
        {
          "output_type": "execute_result",
          "data": {
            "text/plain": [
              "<matplotlib.axes._subplots.AxesSubplot at 0x7f894186ecf8>"
            ]
          },
          "metadata": {
            "tags": []
          },
          "execution_count": 909
        },
        {
          "output_type": "display_data",
          "data": {
            "image/png": "[encoded data removed]",
            "text/plain": [
              "<Figure size 432x288 with 1 Axes>"
            ]
          },
          "metadata": {
            "tags": [],
            "needs_background": "light"
          }
        }
      ]
    },
    {
      "cell_type": "markdown",
      "metadata": {
        "id": "q34ybz282LtV",
        "colab_type": "text"
      },
      "source": [
        "It is clear that, the cost of cars is increasing as time passes\n",
        "i.e The Price increases as Years is passing"
      ]
    },
    {
      "cell_type": "code",
      "metadata": {
        "id": "Gu9ndST3_YML",
        "colab_type": "code",
        "colab": {
          "base_uri": "https://localhost:8080/",
          "height": 296
        },
        "outputId": "aa7c0ab3-fa1f-4acc-b614-9ec68056c595"
      },
      "source": [
        "#plot between Popularity and Price\n",
        "\n",
        "sns.barplot(data['Popularity'], data['Price'])"
      ],
      "execution_count": 910,
      "outputs": [
        {
          "output_type": "execute_result",
          "data": {
            "text/plain": [
              "<matplotlib.axes._subplots.AxesSubplot at 0x7f894173f470>"
            ]
          },
          "metadata": {
            "tags": []
          },
          "execution_count": 910
        },
        {
          "output_type": "display_data",
          "data": {
            "image/png": "[encoded data removed]",
            "text/plain": [
              "<Figure size 432x288 with 1 Axes>"
            ]
          },
          "metadata": {
            "tags": [],
            "needs_background": "light"
          }
        }
      ]
    },
    {
      "cell_type": "markdown",
      "metadata": {
        "id": "PG_0SmxAClal",
        "colab_type": "text"
      },
      "source": [
        "Here there is variation in the trend , and there is little correlation between Popularity and Price"
      ]
    },
    {
      "cell_type": "code",
      "metadata": {
        "id": "xFUnYU4H8RUf",
        "colab_type": "code",
        "colab": {}
      },
      "source": [
        "#Creating a price range:\n",
        "\n",
        "#A new column by name price range is created\n",
        "data['price_range'] = pd.cut(data['Price'],[0,20000,40000,60000,80000,100000,600000], \n",
        "                                labels = ['<20K','20-39K','40-59K','60-79K','80-99K','>100K'], include_lowest = True)     #setting the range\n",
        "data['price_range'] = data['price_range'].astype(object)"
      ],
      "execution_count": 911,
      "outputs": []
    },
    {
      "cell_type": "code",
      "metadata": {
        "id": "-obJKyzj953N",
        "colab_type": "code",
        "colab": {
          "base_uri": "https://localhost:8080/",
          "height": 484
        },
        "outputId": "58d91e36-d481-4983-bb3a-c1f03bf3cf27"
      },
      "source": [
        "(data['price_range'].value_counts() / len(data) *100).plot.bar(figsize=(14,7))\n",
        "plt.title(\"Price Range Bar Diagram\")\n",
        "plt.ylabel('Percentage Of Vehicles')\n",
        "plt.xlabel('Price Range');"
      ],
      "execution_count": 912,
      "outputs": [
        {
          "output_type": "display_data",
          "data": {
            "image/png": "[encoded data removed]",
            "text/plain": [
              "<Figure size 1008x504 with 1 Axes>"
            ]
          },
          "metadata": {
            "tags": [],
            "needs_background": "light"
          }
        }
      ]
    },
    {
      "cell_type": "code",
      "metadata": {
        "id": "7d7z2XTHSxDv",
        "colab_type": "code",
        "colab": {}
      },
      "source": [
        "data.drop(['price_range'],axis=1,inplace=True)"
      ],
      "execution_count": 913,
      "outputs": []
    },
    {
      "cell_type": "markdown",
      "metadata": {
        "id": "CS7DvpQK6ZEO",
        "colab_type": "text"
      },
      "source": [
        "**LINE PLOTS**"
      ]
    },
    {
      "cell_type": "markdown",
      "metadata": {
        "id": "eN5eKCLW6fea",
        "colab_type": "text"
      },
      "source": [
        "Line graphs can give a quick analysis of data. You're able to quickly tell the range, minimum/maximum. "
      ]
    },
    {
      "cell_type": "code",
      "metadata": {
        "id": "EnXmum066We_",
        "colab_type": "code",
        "colab": {
          "base_uri": "https://localhost:8080/",
          "height": 296
        },
        "outputId": "63603a79-0de1-48aa-a01a-3de9e9c850a1"
      },
      "source": [
        "#line graph between Cylinders and Price\n",
        "\n",
        "sns.lineplot(data['Cylinders'], data['Price'])"
      ],
      "execution_count": 914,
      "outputs": [
        {
          "output_type": "execute_result",
          "data": {
            "text/plain": [
              "<matplotlib.axes._subplots.AxesSubplot at 0x7f89415e5ac8>"
            ]
          },
          "metadata": {
            "tags": []
          },
          "execution_count": 914
        },
        {
          "output_type": "display_data",
          "data": {
            "image/png": "[encoded data removed]",
            "text/plain": [
              "<Figure size 432x288 with 1 Axes>"
            ]
          },
          "metadata": {
            "tags": [],
            "needs_background": "light"
          }
        }
      ]
    },
    {
      "cell_type": "markdown",
      "metadata": {
        "id": "MeJ4XPBb8DPU",
        "colab_type": "text"
      },
      "source": [
        "Here also there is an increasing trend seen, as the cylinders increases the is an increase in the Price of the car"
      ]
    },
    {
      "cell_type": "code",
      "metadata": {
        "id": "HopKX6PM8a8K",
        "colab_type": "code",
        "colab": {
          "base_uri": "https://localhost:8080/",
          "height": 296
        },
        "outputId": "bd569b4a-2a1f-4965-aa44-3a5e968b5460"
      },
      "source": [
        "#plot between MPG-H\tand Price\n",
        "\n",
        "sns.lineplot(data['MPG-H'], data['Price'])"
      ],
      "execution_count": 915,
      "outputs": [
        {
          "output_type": "execute_result",
          "data": {
            "text/plain": [
              "<matplotlib.axes._subplots.AxesSubplot at 0x7f894150a0f0>"
            ]
          },
          "metadata": {
            "tags": []
          },
          "execution_count": 915
        },
        {
          "output_type": "display_data",
          "data": {
            "image/png": "[encoded data removed]",
            "text/plain": [
              "<Figure size 432x288 with 1 Axes>"
            ]
          },
          "metadata": {
            "tags": [],
            "needs_background": "light"
          }
        }
      ]
    },
    {
      "cell_type": "markdown",
      "metadata": {
        "id": "4I-IOi5w9VgB",
        "colab_type": "text"
      },
      "source": [
        "Here, we see a lot of variation in the trend, and there is a decrease in the Price as there is an increase in the Highway MPG"
      ]
    },
    {
      "cell_type": "code",
      "metadata": {
        "id": "zGLtDUhhDBgs",
        "colab_type": "code",
        "colab": {
          "base_uri": "https://localhost:8080/",
          "height": 296
        },
        "outputId": "23251b77-373a-4f93-a26a-c47d6e5c30fb"
      },
      "source": [
        "#plot between MPG-C\tand Price\n",
        "\n",
        "sns.lineplot(data['MPG-C'], data['Price'])"
      ],
      "execution_count": 916,
      "outputs": [
        {
          "output_type": "execute_result",
          "data": {
            "text/plain": [
              "<matplotlib.axes._subplots.AxesSubplot at 0x7f89414c0b00>"
            ]
          },
          "metadata": {
            "tags": []
          },
          "execution_count": 916
        },
        {
          "output_type": "display_data",
          "data": {
            "image/png": "[encoded data removed]",
            "text/plain": [
              "<Figure size 432x288 with 1 Axes>"
            ]
          },
          "metadata": {
            "tags": [],
            "needs_background": "light"
          }
        }
      ]
    },
    {
      "cell_type": "markdown",
      "metadata": {
        "id": "j2zrO0TpDWpe",
        "colab_type": "text"
      },
      "source": [
        "Here we can see a negative trend i.e as the City MPG increases the Price decreases"
      ]
    },
    {
      "cell_type": "markdown",
      "metadata": {
        "id": "pp2rbPfL_cBt",
        "colab_type": "text"
      },
      "source": [
        "**CONCLUSION:**\n",
        "> Price of the car increases when:\n",
        "              >>Horse Power increases\n",
        "              >>As Years are passing\n",
        "              >>Cylinders increases\n",
        "              >>Highway and City MPG decreases\n",
        "                      "
      ]
    },
    {
      "cell_type": "markdown",
      "metadata": {
        "id": "jvfn1TQWFGmB",
        "colab_type": "text"
      },
      "source": [
        "# **9**. Building a Machine Learning Model"
      ]
    },
    {
      "cell_type": "code",
      "metadata": {
        "id": "iKCiXOMib6FD",
        "colab_type": "code",
        "colab": {}
      },
      "source": [
        "#importing the required libreries \n",
        "from sklearn.preprocessing import StandardScaler            #It basically helps to normalise the data within a particular range\n",
        "\n",
        "from sklearn.model_selection import train_test_split        #It is used to splot the data into train and test set     \n",
        "\n",
        "from sklearn.preprocessing import LabelEncoder              #It can also be used to transform non-numerical labels to numerical labels\n",
        "\n",
        "from sklearn.preprocessing import OneHotEncoder             #Used to Encode categorical features as a one-hot numeric array\n",
        "\n",
        "from sklearn.linear_model import LinearRegression           #It is used to perform the regression task\n",
        "\n",
        "from sklearn import metrics                                 #It is used for analysing the result parameter"
      ],
      "execution_count": 917,
      "outputs": []
    },
    {
      "cell_type": "markdown",
      "metadata": {
        "id": "LPaoXUfzObFt",
        "colab_type": "text"
      },
      "source": [
        "**Encoading:**"
      ]
    },
    {
      "cell_type": "code",
      "metadata": {
        "id": "f5Ip3ovqWDAm",
        "colab_type": "code",
        "colab": {
          "base_uri": "https://localhost:8080/",
          "height": 68
        },
        "outputId": "fd215d00-e1be-4953-c383-3c0a154144c0"
      },
      "source": [
        "from numpy import array\n",
        "from numpy import argmax\n",
        "p = data.select_dtypes(exclude=[np.number]).columns\n",
        "p"
      ],
      "execution_count": 918,
      "outputs": [
        {
          "output_type": "execute_result",
          "data": {
            "text/plain": [
              "Index(['Make', 'Model', 'Engine Fuel Type', 'Transmission', 'Drive Mode',\n",
              "       'Vehicle Size', 'Vehicle Style'],\n",
              "      dtype='object')"
            ]
          },
          "metadata": {
            "tags": []
          },
          "execution_count": 918
        }
      ]
    },
    {
      "cell_type": "code",
      "metadata": {
        "id": "GjVTHtovOamx",
        "colab_type": "code",
        "colab": {
          "base_uri": "https://localhost:8080/",
          "height": 204
        },
        "outputId": "0f66ac89-935d-49c0-f019-8516b3153fe9"
      },
      "source": [
        "label_encoder = LabelEncoder()\n",
        "for i in p:\n",
        "  data[i] = label_encoader.fit_transform(data[i])\n",
        "\n",
        "data.head(5)"
      ],
      "execution_count": 919,
      "outputs": [
        {
          "output_type": "execute_result",
          "data": {
            "text/html": [
              "<div>\n",
              "<style scoped>\n",
              "    .dataframe tbody tr th:only-of-type {\n",
              "        vertical-align: middle;\n",
              "    }\n",
              "\n",
              "    .dataframe tbody tr th {\n",
              "        vertical-align: top;\n",
              "    }\n",
              "\n",
              "    .dataframe thead th {\n",
              "        text-align: right;\n",
              "    }\n",
              "</style>\n",
              "<table border=\"1\" class=\"dataframe\">\n",
              "  <thead>\n",
              "    <tr style=\"text-align: right;\">\n",
              "      <th></th>\n",
              "      <th>Make</th>\n",
              "      <th>Model</th>\n",
              "      <th>Year</th>\n",
              "      <th>Engine Fuel Type</th>\n",
              "      <th>HP</th>\n",
              "      <th>Cylinders</th>\n",
              "      <th>Transmission</th>\n",
              "      <th>Drive Mode</th>\n",
              "      <th>Vehicle Size</th>\n",
              "      <th>Vehicle Style</th>\n",
              "      <th>MPG-H</th>\n",
              "      <th>MPG-C</th>\n",
              "      <th>Popularity</th>\n",
              "      <th>Price</th>\n",
              "    </tr>\n",
              "  </thead>\n",
              "  <tbody>\n",
              "    <tr>\n",
              "      <th>0</th>\n",
              "      <td>3</td>\n",
              "      <td>1</td>\n",
              "      <td>2011</td>\n",
              "      <td>6</td>\n",
              "      <td>335.0</td>\n",
              "      <td>6.0</td>\n",
              "      <td>2</td>\n",
              "      <td>3</td>\n",
              "      <td>0</td>\n",
              "      <td>8</td>\n",
              "      <td>26</td>\n",
              "      <td>19</td>\n",
              "      <td>3916</td>\n",
              "      <td>46135</td>\n",
              "    </tr>\n",
              "    <tr>\n",
              "      <th>1</th>\n",
              "      <td>3</td>\n",
              "      <td>0</td>\n",
              "      <td>2011</td>\n",
              "      <td>6</td>\n",
              "      <td>300.0</td>\n",
              "      <td>6.0</td>\n",
              "      <td>2</td>\n",
              "      <td>3</td>\n",
              "      <td>0</td>\n",
              "      <td>6</td>\n",
              "      <td>28</td>\n",
              "      <td>19</td>\n",
              "      <td>3916</td>\n",
              "      <td>40650</td>\n",
              "    </tr>\n",
              "    <tr>\n",
              "      <th>2</th>\n",
              "      <td>3</td>\n",
              "      <td>0</td>\n",
              "      <td>2011</td>\n",
              "      <td>6</td>\n",
              "      <td>300.0</td>\n",
              "      <td>6.0</td>\n",
              "      <td>2</td>\n",
              "      <td>3</td>\n",
              "      <td>0</td>\n",
              "      <td>8</td>\n",
              "      <td>28</td>\n",
              "      <td>20</td>\n",
              "      <td>3916</td>\n",
              "      <td>36350</td>\n",
              "    </tr>\n",
              "    <tr>\n",
              "      <th>3</th>\n",
              "      <td>3</td>\n",
              "      <td>0</td>\n",
              "      <td>2011</td>\n",
              "      <td>6</td>\n",
              "      <td>230.0</td>\n",
              "      <td>6.0</td>\n",
              "      <td>2</td>\n",
              "      <td>3</td>\n",
              "      <td>0</td>\n",
              "      <td>8</td>\n",
              "      <td>28</td>\n",
              "      <td>18</td>\n",
              "      <td>3916</td>\n",
              "      <td>29450</td>\n",
              "    </tr>\n",
              "    <tr>\n",
              "      <th>4</th>\n",
              "      <td>3</td>\n",
              "      <td>0</td>\n",
              "      <td>2011</td>\n",
              "      <td>6</td>\n",
              "      <td>230.0</td>\n",
              "      <td>6.0</td>\n",
              "      <td>2</td>\n",
              "      <td>3</td>\n",
              "      <td>0</td>\n",
              "      <td>6</td>\n",
              "      <td>28</td>\n",
              "      <td>18</td>\n",
              "      <td>3916</td>\n",
              "      <td>34500</td>\n",
              "    </tr>\n",
              "  </tbody>\n",
              "</table>\n",
              "</div>"
            ],
            "text/plain": [
              "   Make  Model  Year  Engine Fuel Type  ...  MPG-H  MPG-C  Popularity  Price\n",
              "0     3      1  2011                 6  ...     26     19        3916  46135\n",
              "1     3      0  2011                 6  ...     28     19        3916  40650\n",
              "2     3      0  2011                 6  ...     28     20        3916  36350\n",
              "3     3      0  2011                 6  ...     28     18        3916  29450\n",
              "4     3      0  2011                 6  ...     28     18        3916  34500\n",
              "\n",
              "[5 rows x 14 columns]"
            ]
          },
          "metadata": {
            "tags": []
          },
          "execution_count": 919
        }
      ]
    },
    {
      "cell_type": "code",
      "metadata": {
        "id": "Uo2bDp1XcQ0n",
        "colab_type": "code",
        "colab": {
          "base_uri": "https://localhost:8080/",
          "height": 374
        },
        "outputId": "587d300a-5788-49cd-b400-e72ba11525e8"
      },
      "source": [
        "data.info()"
      ],
      "execution_count": 920,
      "outputs": [
        {
          "output_type": "stream",
          "text": [
            "<class 'pandas.core.frame.DataFrame'>\n",
            "Int64Index: 8608 entries, 0 to 11913\n",
            "Data columns (total 14 columns):\n",
            " #   Column            Non-Null Count  Dtype  \n",
            "---  ------            --------------  -----  \n",
            " 0   Make              8608 non-null   int64  \n",
            " 1   Model             8608 non-null   int64  \n",
            " 2   Year              8608 non-null   int64  \n",
            " 3   Engine Fuel Type  8608 non-null   int64  \n",
            " 4   HP                8608 non-null   float64\n",
            " 5   Cylinders         8608 non-null   float64\n",
            " 6   Transmission      8608 non-null   int64  \n",
            " 7   Drive Mode        8608 non-null   int64  \n",
            " 8   Vehicle Size      8608 non-null   int64  \n",
            " 9   Vehicle Style     8608 non-null   int64  \n",
            " 10  MPG-H             8608 non-null   int64  \n",
            " 11  MPG-C             8608 non-null   int64  \n",
            " 12  Popularity        8608 non-null   int64  \n",
            " 13  Price             8608 non-null   int64  \n",
            "dtypes: float64(2), int64(12)\n",
            "memory usage: 1.3 MB\n"
          ],
          "name": "stdout"
        }
      ]
    },
    {
      "cell_type": "code",
      "metadata": {
        "id": "MnYrxiwi6L2p",
        "colab_type": "code",
        "colab": {}
      },
      "source": [
        "X = data[['Popularity', 'Year', 'HP', 'Cylinders', 'MPG-H', 'MPG-C',\n",
        "          'Vehicle Style','Vehicle Size','Drive Mode', 'Transmission','Engine Fuel Type','Model','Make' ]].values\n",
        "y = data['Price'].values"
      ],
      "execution_count": 921,
      "outputs": []
    },
    {
      "cell_type": "markdown",
      "metadata": {
        "id": "obfAywliefdY",
        "colab_type": "text"
      },
      "source": [
        "**Feature Scaling** is a technique to standardize the independent features present in the data in a fixed range"
      ]
    },
    {
      "cell_type": "code",
      "metadata": {
        "id": "dSD-g9cn7zo3",
        "colab_type": "code",
        "colab": {}
      },
      "source": [
        "# Feature Scaling:\n",
        "\n",
        "#std_X = StandardScaler()                           #StandardScaler() function Standardize features by removing the mean and scaling to unit variance\n",
        "#std_y = StandardScaler()\n",
        "#X = std_X.fit_transform(X)                         \n",
        "#y = std_y.fit_transform(y.reshape(-1,1))   \n",
        "       "
      ],
      "execution_count": 922,
      "outputs": []
    },
    {
      "cell_type": "markdown",
      "metadata": {
        "id": "hK7ahfmJg8Zu",
        "colab_type": "text"
      },
      "source": [
        "**9**.1 Splitting The Data:"
      ]
    },
    {
      "cell_type": "code",
      "metadata": {
        "id": "274i_VVDcXZ7",
        "colab_type": "code",
        "colab": {
          "base_uri": "https://localhost:8080/",
          "height": 51
        },
        "outputId": "ba60bbfe-a22f-4ca3-bd2f-e1a3319f54d7"
      },
      "source": [
        "X_train, X_test, y_train, y_test = train_test_split (X,y, test_size= 0.2, random_state= 0 )       #test size is taken as 20%\n",
        "\n",
        "print(X_train.shape, y_train.shape)                                           #checking the shape of training and testing set         \n",
        "print(X_test.shape, y_test.shape)                      "
      ],
      "execution_count": 923,
      "outputs": [
        {
          "output_type": "stream",
          "text": [
            "(6886, 13) (6886,)\n",
            "(1722, 13) (1722,)\n"
          ],
          "name": "stdout"
        }
      ]
    },
    {
      "cell_type": "markdown",
      "metadata": {
        "id": "pTj7UMfQhl-s",
        "colab_type": "text"
      },
      "source": [
        "**9**.2 Building a Machine Learning Model:"
      ]
    },
    {
      "cell_type": "markdown",
      "metadata": {
        "id": "hGsZbIrBl59p",
        "colab_type": "text"
      },
      "source": [
        "If response variable is affected by more than one predictor variable, for such cases, the Multiple Linear Regression algorithm is used. Here the Price is effected by many other variables like HP, Cylinders....etc"
      ]
    },
    {
      "cell_type": "code",
      "metadata": {
        "id": "qf-xrzcUhyjc",
        "colab_type": "code",
        "colab": {
          "base_uri": "https://localhost:8080/",
          "height": 34
        },
        "outputId": "171683ce-ca1d-461b-fa7e-d123ef82e328"
      },
      "source": [
        "#Fitting Multiple Linear Regression to the Training set\n",
        "model = LinearRegression()\n",
        "model.fit(X_train,y_train)"
      ],
      "execution_count": 924,
      "outputs": [
        {
          "output_type": "execute_result",
          "data": {
            "text/plain": [
              "LinearRegression(copy_X=True, fit_intercept=True, n_jobs=None, normalize=False)"
            ]
          },
          "metadata": {
            "tags": []
          },
          "execution_count": 924
        }
      ]
    },
    {
      "cell_type": "code",
      "metadata": {
        "id": "9wl9EFdfqe13",
        "colab_type": "code",
        "colab": {
          "base_uri": "https://localhost:8080/",
          "height": 445
        },
        "outputId": "a23c391f-f2bd-4cc7-95a3-c93486981c61"
      },
      "source": [
        "# Predicting the Test set results\n",
        "y_pred = model.predict(X_test)\n",
        "fig,ax = plt.subplots(figsize=(15,7))\n",
        "plt.scatter(y_test,y_pred)            #plotting graph between the test set and predicted set\n"
      ],
      "execution_count": 925,
      "outputs": [
        {
          "output_type": "execute_result",
          "data": {
            "text/plain": [
              "<matplotlib.collections.PathCollection at 0x7f8941532c18>"
            ]
          },
          "metadata": {
            "tags": []
          },
          "execution_count": 925
        },
        {
          "output_type": "display_data",
          "data": {
            "image/png": "[encoded data removed]",
            "text/plain": [
              "<Figure size 1080x504 with 1 Axes>"
            ]
          },
          "metadata": {
            "tags": [],
            "needs_background": "light"
          }
        }
      ]
    },
    {
      "cell_type": "code",
      "metadata": {
        "id": "8g05qhTuuwzi",
        "colab_type": "code",
        "colab": {
          "base_uri": "https://localhost:8080/",
          "height": 402
        },
        "outputId": "8cf42bd6-5995-47c6-e9c0-6468c779e998"
      },
      "source": [
        "fig, ax = plt.subplots(figsize=(12,6))\n",
        "sns.distplot(y_test - y_pred, bins=50)"
      ],
      "execution_count": 926,
      "outputs": [
        {
          "output_type": "execute_result",
          "data": {
            "text/plain": [
              "<matplotlib.axes._subplots.AxesSubplot at 0x7f89414049b0>"
            ]
          },
          "metadata": {
            "tags": []
          },
          "execution_count": 926
        },
        {
          "output_type": "display_data",
          "data": {
            "image/png": "[encoded data removed]",
            "text/plain": [
              "<Figure size 864x432 with 1 Axes>"
            ]
          },
          "metadata": {
            "tags": [],
            "needs_background": "light"
          }
        }
      ]
    },
    {
      "cell_type": "markdown",
      "metadata": {
        "id": "GKOEo9ZbwcEY",
        "colab_type": "text"
      },
      "source": [
        "R-Squared value helps us to predict how effective out algorithm is.\n",
        "R-Squared is a statistical measure of fit that indicates how much variation of a dependent variable is explained by the independent variable(s) in a regression model."
      ]
    },
    {
      "cell_type": "code",
      "metadata": {
        "id": "y1_0-37YwcwV",
        "colab_type": "code",
        "colab": {
          "base_uri": "https://localhost:8080/",
          "height": 85
        },
        "outputId": "7c6687bb-cf00-4c24-ca90-8f12f4c69c7a"
      },
      "source": [
        "#Analysing the result parameter\n",
        "from sklearn.metrics import mean_squared_error \n",
        "\n",
        "print('R2 Score:', metrics.r2_score(y_test, y_pred))\n",
        "print('Mean Absolute Error:', metrics.mean_absolute_error(y_test, y_pred))  \n",
        "print('Mean Squared Error:', mean_squared_error(y_test, y_pred))\n",
        "print('Root Mean Squared Error:', np.sqrt(metrics.mean_squared_error(y_test, y_pred)))\n"
      ],
      "execution_count": 928,
      "outputs": [
        {
          "output_type": "stream",
          "text": [
            "R2 Score: 0.6798953801128843\n",
            "Mean Absolute Error: 6424.16313950179\n",
            "Mean Squared Error: 69821359.33002262\n",
            "Root Mean Squared Error: 8355.917623458397\n"
          ],
          "name": "stdout"
        }
      ]
    },
    {
      "cell_type": "markdown",
      "metadata": {
        "id": "McfGoWSp0PFa",
        "colab_type": "text"
      },
      "source": [
        "# **10**. Spot Checking Algorithms"
      ]
    }
  ]
}