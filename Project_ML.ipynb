{
  "nbformat": 4,
  "nbformat_minor": 0,
  "metadata": {
    "colab": {
      "name": "Project-ML.ipynb",
      "provenance": [],
      "collapsed_sections": [],
      "authorship_tag": "ABX9TyPLpp/CBMPJvvkTtYhjsePV",
      "include_colab_link": true
    },
    "kernelspec": {
      "name": "python3",
      "display_name": "Python 3"
    }
  },
  "cells": [
    {
      "cell_type": "markdown",
      "metadata": {
        "id": "view-in-github",
        "colab_type": "text"
      },
      "source": [
        "<a href=\"https://colab.research.google.com/github/pranav-2410/Project-ML/blob/master/Project_ML.ipynb\" target=\"_parent\"><img src=\"https://colab.research.google.com/assets/colab-badge.svg\" alt=\"Open In Colab\"/></a>"
      ]
    },
    {
      "cell_type": "markdown",
      "metadata": {
        "id": "EnOW_wxbZYx2",
        "colab_type": "text"
      },
      "source": [
        "# **INTRODUCTION:**"
      ]
    },
    {
      "cell_type": "markdown",
      "metadata": {
        "id": "1u2xeRBPZo79",
        "colab_type": "text"
      },
      "source": [
        "**Exploratory Data Analysis**:\n",
        "\n",
        "EDA -  It is a way of visualizing, summarizing and interpreting the information that is hidden in rows and column format. Plotting in EDA consists of Histograms, Box plot, Scatter plot and many more. It often takes much time to explore the data. Through the process of EDA, we understand the problem better and try to uncover hidden insights\n",
        "\n"
      ]
    },
    {
      "cell_type": "markdown",
      "metadata": {
        "id": "4TBmxv14dJJQ",
        "colab_type": "text"
      },
      "source": [
        "Here, we will explore the power of EDA using a dataset. The dataset is on cars and its prices,horse power, cylinders etc and perform Exploratory data\n",
        "analysis on how the different features of a car and its price are related."
      ]
    },
    {
      "cell_type": "markdown",
      "metadata": {
        "id": "soNj0v9A_GNu",
        "colab_type": "text"
      },
      "source": [
        "#**1**. Importing the required libraries :\n"
      ]
    },
    {
      "cell_type": "code",
      "metadata": {
        "id": "rcv7mtClT-zb",
        "colab_type": "code",
        "colab": {}
      },
      "source": [
        " \n",
        "import pandas as pd\n",
        "import numpy as np\n",
        "import matplotlib.pyplot as plt\n",
        "import seaborn as sns"
      ],
      "execution_count": null,
      "outputs": []
    },
    {
      "cell_type": "markdown",
      "metadata": {
        "id": "mtsHsSuZlgso",
        "colab_type": "text"
      },
      "source": [
        "**1**.1  **Importing the Dataset into data**\n",
        "\n",
        "\n",
        "\n"
      ]
    },
    {
      "cell_type": "code",
      "metadata": {
        "id": "XMo_19AJARnU",
        "colab_type": "code",
        "colab": {}
      },
      "source": [
        "#to import the dataset which is csv format, we use read_csv(\"file_name.csv\")\n",
        " \n",
        "data = pd.read_csv(\"data2.csv\")"
      ],
      "execution_count": null,
      "outputs": []
    },
    {
      "cell_type": "code",
      "metadata": {
        "id": "lHvJjIRlm8V9",
        "colab_type": "code",
        "colab": {
          "base_uri": "https://localhost:8080/"
        },
        "outputId": "74582541-3295-4fce-f803-e389ab7c5055"
      },
      "source": [
        "#to display the top 5 rows we use head() function\n",
        "\n",
        "data.head(5)\n"
      ],
      "execution_count": null,
      "outputs": [
        {
          "output_type": "execute_result",
          "data": {
            "text/html": [
              "<div>\n",
              "<style scoped>\n",
              "    .dataframe tbody tr th:only-of-type {\n",
              "        vertical-align: middle;\n",
              "    }\n",
              "\n",
              "    .dataframe tbody tr th {\n",
              "        vertical-align: top;\n",
              "    }\n",
              "\n",
              "    .dataframe thead th {\n",
              "        text-align: right;\n",
              "    }\n",
              "</style>\n",
              "<table border=\"1\" class=\"dataframe\">\n",
              "  <thead>\n",
              "    <tr style=\"text-align: right;\">\n",
              "      <th></th>\n",
              "      <th>Make</th>\n",
              "      <th>Model</th>\n",
              "      <th>Year</th>\n",
              "      <th>Engine Fuel Type</th>\n",
              "      <th>Engine HP</th>\n",
              "      <th>Engine Cylinders</th>\n",
              "      <th>Transmission Type</th>\n",
              "      <th>Driven_Wheels</th>\n",
              "      <th>Number of Doors</th>\n",
              "      <th>Market Category</th>\n",
              "      <th>Vehicle Size</th>\n",
              "      <th>Vehicle Style</th>\n",
              "      <th>highway MPG</th>\n",
              "      <th>city mpg</th>\n",
              "      <th>Popularity</th>\n",
              "      <th>MSRP</th>\n",
              "    </tr>\n",
              "  </thead>\n",
              "  <tbody>\n",
              "    <tr>\n",
              "      <th>0</th>\n",
              "      <td>BMW</td>\n",
              "      <td>1 Series M</td>\n",
              "      <td>2011</td>\n",
              "      <td>premium unleaded (required)</td>\n",
              "      <td>335.0</td>\n",
              "      <td>6.0</td>\n",
              "      <td>MANUAL</td>\n",
              "      <td>rear wheel drive</td>\n",
              "      <td>2.0</td>\n",
              "      <td>Factory Tuner,Luxury,High-Performance</td>\n",
              "      <td>Compact</td>\n",
              "      <td>Coupe</td>\n",
              "      <td>26</td>\n",
              "      <td>19</td>\n",
              "      <td>3916</td>\n",
              "      <td>46135</td>\n",
              "    </tr>\n",
              "    <tr>\n",
              "      <th>1</th>\n",
              "      <td>BMW</td>\n",
              "      <td>1 Series</td>\n",
              "      <td>2011</td>\n",
              "      <td>premium unleaded (required)</td>\n",
              "      <td>300.0</td>\n",
              "      <td>6.0</td>\n",
              "      <td>MANUAL</td>\n",
              "      <td>rear wheel drive</td>\n",
              "      <td>2.0</td>\n",
              "      <td>Luxury,Performance</td>\n",
              "      <td>Compact</td>\n",
              "      <td>Convertible</td>\n",
              "      <td>28</td>\n",
              "      <td>19</td>\n",
              "      <td>3916</td>\n",
              "      <td>40650</td>\n",
              "    </tr>\n",
              "    <tr>\n",
              "      <th>2</th>\n",
              "      <td>BMW</td>\n",
              "      <td>1 Series</td>\n",
              "      <td>2011</td>\n",
              "      <td>premium unleaded (required)</td>\n",
              "      <td>300.0</td>\n",
              "      <td>6.0</td>\n",
              "      <td>MANUAL</td>\n",
              "      <td>rear wheel drive</td>\n",
              "      <td>2.0</td>\n",
              "      <td>Luxury,High-Performance</td>\n",
              "      <td>Compact</td>\n",
              "      <td>Coupe</td>\n",
              "      <td>28</td>\n",
              "      <td>20</td>\n",
              "      <td>3916</td>\n",
              "      <td>36350</td>\n",
              "    </tr>\n",
              "    <tr>\n",
              "      <th>3</th>\n",
              "      <td>BMW</td>\n",
              "      <td>1 Series</td>\n",
              "      <td>2011</td>\n",
              "      <td>premium unleaded (required)</td>\n",
              "      <td>230.0</td>\n",
              "      <td>6.0</td>\n",
              "      <td>MANUAL</td>\n",
              "      <td>rear wheel drive</td>\n",
              "      <td>2.0</td>\n",
              "      <td>Luxury,Performance</td>\n",
              "      <td>Compact</td>\n",
              "      <td>Coupe</td>\n",
              "      <td>28</td>\n",
              "      <td>18</td>\n",
              "      <td>3916</td>\n",
              "      <td>29450</td>\n",
              "    </tr>\n",
              "    <tr>\n",
              "      <th>4</th>\n",
              "      <td>BMW</td>\n",
              "      <td>1 Series</td>\n",
              "      <td>2011</td>\n",
              "      <td>premium unleaded (required)</td>\n",
              "      <td>230.0</td>\n",
              "      <td>6.0</td>\n",
              "      <td>MANUAL</td>\n",
              "      <td>rear wheel drive</td>\n",
              "      <td>2.0</td>\n",
              "      <td>Luxury</td>\n",
              "      <td>Compact</td>\n",
              "      <td>Convertible</td>\n",
              "      <td>28</td>\n",
              "      <td>18</td>\n",
              "      <td>3916</td>\n",
              "      <td>34500</td>\n",
              "    </tr>\n",
              "  </tbody>\n",
              "</table>\n",
              "</div>"
            ],
            "text/plain": [
              "  Make       Model  Year  ... city mpg  Popularity   MSRP\n",
              "0  BMW  1 Series M  2011  ...       19        3916  46135\n",
              "1  BMW    1 Series  2011  ...       19        3916  40650\n",
              "2  BMW    1 Series  2011  ...       20        3916  36350\n",
              "3  BMW    1 Series  2011  ...       18        3916  29450\n",
              "4  BMW    1 Series  2011  ...       18        3916  34500\n",
              "\n",
              "[5 rows x 16 columns]"
            ]
          },
          "metadata": {
            "tags": []
          },
          "execution_count": 1351
        }
      ]
    },
    {
      "cell_type": "code",
      "metadata": {
        "id": "Td3B8HLenq0g",
        "colab_type": "code",
        "colab": {
          "base_uri": "https://localhost:8080/"
        },
        "outputId": "cae66276-4bbe-43a1-ad7c-190c428dee87"
      },
      "source": [
        "#to display the bottom 5 rows we use tail() function\n",
        "data.tail(5)"
      ],
      "execution_count": null,
      "outputs": [
        {
          "output_type": "execute_result",
          "data": {
            "text/html": [
              "<div>\n",
              "<style scoped>\n",
              "    .dataframe tbody tr th:only-of-type {\n",
              "        vertical-align: middle;\n",
              "    }\n",
              "\n",
              "    .dataframe tbody tr th {\n",
              "        vertical-align: top;\n",
              "    }\n",
              "\n",
              "    .dataframe thead th {\n",
              "        text-align: right;\n",
              "    }\n",
              "</style>\n",
              "<table border=\"1\" class=\"dataframe\">\n",
              "  <thead>\n",
              "    <tr style=\"text-align: right;\">\n",
              "      <th></th>\n",
              "      <th>Make</th>\n",
              "      <th>Model</th>\n",
              "      <th>Year</th>\n",
              "      <th>Engine Fuel Type</th>\n",
              "      <th>Engine HP</th>\n",
              "      <th>Engine Cylinders</th>\n",
              "      <th>Transmission Type</th>\n",
              "      <th>Driven_Wheels</th>\n",
              "      <th>Number of Doors</th>\n",
              "      <th>Market Category</th>\n",
              "      <th>Vehicle Size</th>\n",
              "      <th>Vehicle Style</th>\n",
              "      <th>highway MPG</th>\n",
              "      <th>city mpg</th>\n",
              "      <th>Popularity</th>\n",
              "      <th>MSRP</th>\n",
              "    </tr>\n",
              "  </thead>\n",
              "  <tbody>\n",
              "    <tr>\n",
              "      <th>11909</th>\n",
              "      <td>Acura</td>\n",
              "      <td>ZDX</td>\n",
              "      <td>2012</td>\n",
              "      <td>premium unleaded (required)</td>\n",
              "      <td>300.0</td>\n",
              "      <td>6.0</td>\n",
              "      <td>AUTOMATIC</td>\n",
              "      <td>all wheel drive</td>\n",
              "      <td>4.0</td>\n",
              "      <td>Crossover,Hatchback,Luxury</td>\n",
              "      <td>Midsize</td>\n",
              "      <td>4dr Hatchback</td>\n",
              "      <td>23</td>\n",
              "      <td>16</td>\n",
              "      <td>204</td>\n",
              "      <td>46120</td>\n",
              "    </tr>\n",
              "    <tr>\n",
              "      <th>11910</th>\n",
              "      <td>Acura</td>\n",
              "      <td>ZDX</td>\n",
              "      <td>2012</td>\n",
              "      <td>premium unleaded (required)</td>\n",
              "      <td>300.0</td>\n",
              "      <td>6.0</td>\n",
              "      <td>AUTOMATIC</td>\n",
              "      <td>all wheel drive</td>\n",
              "      <td>4.0</td>\n",
              "      <td>Crossover,Hatchback,Luxury</td>\n",
              "      <td>Midsize</td>\n",
              "      <td>4dr Hatchback</td>\n",
              "      <td>23</td>\n",
              "      <td>16</td>\n",
              "      <td>204</td>\n",
              "      <td>56670</td>\n",
              "    </tr>\n",
              "    <tr>\n",
              "      <th>11911</th>\n",
              "      <td>Acura</td>\n",
              "      <td>ZDX</td>\n",
              "      <td>2012</td>\n",
              "      <td>premium unleaded (required)</td>\n",
              "      <td>300.0</td>\n",
              "      <td>6.0</td>\n",
              "      <td>AUTOMATIC</td>\n",
              "      <td>all wheel drive</td>\n",
              "      <td>4.0</td>\n",
              "      <td>Crossover,Hatchback,Luxury</td>\n",
              "      <td>Midsize</td>\n",
              "      <td>4dr Hatchback</td>\n",
              "      <td>23</td>\n",
              "      <td>16</td>\n",
              "      <td>204</td>\n",
              "      <td>50620</td>\n",
              "    </tr>\n",
              "    <tr>\n",
              "      <th>11912</th>\n",
              "      <td>Acura</td>\n",
              "      <td>ZDX</td>\n",
              "      <td>2013</td>\n",
              "      <td>premium unleaded (recommended)</td>\n",
              "      <td>300.0</td>\n",
              "      <td>6.0</td>\n",
              "      <td>AUTOMATIC</td>\n",
              "      <td>all wheel drive</td>\n",
              "      <td>4.0</td>\n",
              "      <td>Crossover,Hatchback,Luxury</td>\n",
              "      <td>Midsize</td>\n",
              "      <td>4dr Hatchback</td>\n",
              "      <td>23</td>\n",
              "      <td>16</td>\n",
              "      <td>204</td>\n",
              "      <td>50920</td>\n",
              "    </tr>\n",
              "    <tr>\n",
              "      <th>11913</th>\n",
              "      <td>Lincoln</td>\n",
              "      <td>Zephyr</td>\n",
              "      <td>2006</td>\n",
              "      <td>regular unleaded</td>\n",
              "      <td>221.0</td>\n",
              "      <td>6.0</td>\n",
              "      <td>AUTOMATIC</td>\n",
              "      <td>front wheel drive</td>\n",
              "      <td>4.0</td>\n",
              "      <td>Luxury</td>\n",
              "      <td>Midsize</td>\n",
              "      <td>Sedan</td>\n",
              "      <td>26</td>\n",
              "      <td>17</td>\n",
              "      <td>61</td>\n",
              "      <td>28995</td>\n",
              "    </tr>\n",
              "  </tbody>\n",
              "</table>\n",
              "</div>"
            ],
            "text/plain": [
              "          Make   Model  Year  ... city mpg  Popularity   MSRP\n",
              "11909    Acura     ZDX  2012  ...       16         204  46120\n",
              "11910    Acura     ZDX  2012  ...       16         204  56670\n",
              "11911    Acura     ZDX  2012  ...       16         204  50620\n",
              "11912    Acura     ZDX  2013  ...       16         204  50920\n",
              "11913  Lincoln  Zephyr  2006  ...       17          61  28995\n",
              "\n",
              "[5 rows x 16 columns]"
            ]
          },
          "metadata": {
            "tags": []
          },
          "execution_count": 1352
        }
      ]
    },
    {
      "cell_type": "markdown",
      "metadata": {
        "id": "9rUJ8lAln0am",
        "colab_type": "text"
      },
      "source": [
        "**1**.2 **Checking the DataTypes and Basic Summary Statistics**"
      ]
    },
    {
      "cell_type": "code",
      "metadata": {
        "id": "XTzESPAyvrYP",
        "colab_type": "code",
        "colab": {
          "base_uri": "https://localhost:8080/"
        },
        "outputId": "547ec906-f473-4066-eebb-c720c1c18872"
      },
      "source": [
        "#getting information about the columns regarding the dtypes and null values\n",
        "\n",
        "data.info()"
      ],
      "execution_count": null,
      "outputs": [
        {
          "output_type": "stream",
          "text": [
            "<class 'pandas.core.frame.DataFrame'>\n",
            "RangeIndex: 11914 entries, 0 to 11913\n",
            "Data columns (total 16 columns):\n",
            " #   Column             Non-Null Count  Dtype  \n",
            "---  ------             --------------  -----  \n",
            " 0   Make               11914 non-null  object \n",
            " 1   Model              11914 non-null  object \n",
            " 2   Year               11914 non-null  int64  \n",
            " 3   Engine Fuel Type   11911 non-null  object \n",
            " 4   Engine HP          11845 non-null  float64\n",
            " 5   Engine Cylinders   11884 non-null  float64\n",
            " 6   Transmission Type  11914 non-null  object \n",
            " 7   Driven_Wheels      11914 non-null  object \n",
            " 8   Number of Doors    11908 non-null  float64\n",
            " 9   Market Category    8172 non-null   object \n",
            " 10  Vehicle Size       11914 non-null  object \n",
            " 11  Vehicle Style      11914 non-null  object \n",
            " 12  highway MPG        11914 non-null  int64  \n",
            " 13  city mpg           11914 non-null  int64  \n",
            " 14  Popularity         11914 non-null  int64  \n",
            " 15  MSRP               11914 non-null  int64  \n",
            "dtypes: float64(3), int64(5), object(8)\n",
            "memory usage: 1.5+ MB\n"
          ],
          "name": "stdout"
        }
      ]
    },
    {
      "cell_type": "code",
      "metadata": {
        "id": "ddfHrF83BWdb",
        "colab_type": "code",
        "colab": {
          "base_uri": "https://localhost:8080/"
        },
        "outputId": "5c22a5b8-c28a-4169-c8d5-90a27d3d0470"
      },
      "source": [
        "#checking the datatypes \n",
        "\n",
        "data.dtypes"
      ],
      "execution_count": null,
      "outputs": [
        {
          "output_type": "execute_result",
          "data": {
            "text/plain": [
              "Make                  object\n",
              "Model                 object\n",
              "Year                   int64\n",
              "Engine Fuel Type      object\n",
              "Engine HP            float64\n",
              "Engine Cylinders     float64\n",
              "Transmission Type     object\n",
              "Driven_Wheels         object\n",
              "Number of Doors      float64\n",
              "Market Category       object\n",
              "Vehicle Size          object\n",
              "Vehicle Style         object\n",
              "highway MPG            int64\n",
              "city mpg               int64\n",
              "Popularity             int64\n",
              "MSRP                   int64\n",
              "dtype: object"
            ]
          },
          "metadata": {
            "tags": []
          },
          "execution_count": 1354
        }
      ]
    },
    {
      "cell_type": "code",
      "metadata": {
        "id": "6oQikK14EGr-",
        "colab_type": "code",
        "colab": {
          "base_uri": "https://localhost:8080/"
        },
        "outputId": "f7ad117f-56c1-44c0-dcb1-5b1933f64a79"
      },
      "source": [
        "#statistical summary\n",
        "\n",
        "data.describe()"
      ],
      "execution_count": null,
      "outputs": [
        {
          "output_type": "execute_result",
          "data": {
            "text/html": [
              "<div>\n",
              "<style scoped>\n",
              "    .dataframe tbody tr th:only-of-type {\n",
              "        vertical-align: middle;\n",
              "    }\n",
              "\n",
              "    .dataframe tbody tr th {\n",
              "        vertical-align: top;\n",
              "    }\n",
              "\n",
              "    .dataframe thead th {\n",
              "        text-align: right;\n",
              "    }\n",
              "</style>\n",
              "<table border=\"1\" class=\"dataframe\">\n",
              "  <thead>\n",
              "    <tr style=\"text-align: right;\">\n",
              "      <th></th>\n",
              "      <th>Year</th>\n",
              "      <th>Engine HP</th>\n",
              "      <th>Engine Cylinders</th>\n",
              "      <th>Number of Doors</th>\n",
              "      <th>highway MPG</th>\n",
              "      <th>city mpg</th>\n",
              "      <th>Popularity</th>\n",
              "      <th>MSRP</th>\n",
              "    </tr>\n",
              "  </thead>\n",
              "  <tbody>\n",
              "    <tr>\n",
              "      <th>count</th>\n",
              "      <td>11914.000000</td>\n",
              "      <td>11845.00000</td>\n",
              "      <td>11884.000000</td>\n",
              "      <td>11908.000000</td>\n",
              "      <td>11914.000000</td>\n",
              "      <td>11914.000000</td>\n",
              "      <td>11914.000000</td>\n",
              "      <td>1.191400e+04</td>\n",
              "    </tr>\n",
              "    <tr>\n",
              "      <th>mean</th>\n",
              "      <td>2010.384338</td>\n",
              "      <td>249.38607</td>\n",
              "      <td>5.628829</td>\n",
              "      <td>3.436093</td>\n",
              "      <td>26.637485</td>\n",
              "      <td>19.733255</td>\n",
              "      <td>1554.911197</td>\n",
              "      <td>4.059474e+04</td>\n",
              "    </tr>\n",
              "    <tr>\n",
              "      <th>std</th>\n",
              "      <td>7.579740</td>\n",
              "      <td>109.19187</td>\n",
              "      <td>1.780559</td>\n",
              "      <td>0.881315</td>\n",
              "      <td>8.863001</td>\n",
              "      <td>8.987798</td>\n",
              "      <td>1441.855347</td>\n",
              "      <td>6.010910e+04</td>\n",
              "    </tr>\n",
              "    <tr>\n",
              "      <th>min</th>\n",
              "      <td>1990.000000</td>\n",
              "      <td>55.00000</td>\n",
              "      <td>0.000000</td>\n",
              "      <td>2.000000</td>\n",
              "      <td>12.000000</td>\n",
              "      <td>7.000000</td>\n",
              "      <td>2.000000</td>\n",
              "      <td>2.000000e+03</td>\n",
              "    </tr>\n",
              "    <tr>\n",
              "      <th>25%</th>\n",
              "      <td>2007.000000</td>\n",
              "      <td>170.00000</td>\n",
              "      <td>4.000000</td>\n",
              "      <td>2.000000</td>\n",
              "      <td>22.000000</td>\n",
              "      <td>16.000000</td>\n",
              "      <td>549.000000</td>\n",
              "      <td>2.100000e+04</td>\n",
              "    </tr>\n",
              "    <tr>\n",
              "      <th>50%</th>\n",
              "      <td>2015.000000</td>\n",
              "      <td>227.00000</td>\n",
              "      <td>6.000000</td>\n",
              "      <td>4.000000</td>\n",
              "      <td>26.000000</td>\n",
              "      <td>18.000000</td>\n",
              "      <td>1385.000000</td>\n",
              "      <td>2.999500e+04</td>\n",
              "    </tr>\n",
              "    <tr>\n",
              "      <th>75%</th>\n",
              "      <td>2016.000000</td>\n",
              "      <td>300.00000</td>\n",
              "      <td>6.000000</td>\n",
              "      <td>4.000000</td>\n",
              "      <td>30.000000</td>\n",
              "      <td>22.000000</td>\n",
              "      <td>2009.000000</td>\n",
              "      <td>4.223125e+04</td>\n",
              "    </tr>\n",
              "    <tr>\n",
              "      <th>max</th>\n",
              "      <td>2017.000000</td>\n",
              "      <td>1001.00000</td>\n",
              "      <td>16.000000</td>\n",
              "      <td>4.000000</td>\n",
              "      <td>354.000000</td>\n",
              "      <td>137.000000</td>\n",
              "      <td>5657.000000</td>\n",
              "      <td>2.065902e+06</td>\n",
              "    </tr>\n",
              "  </tbody>\n",
              "</table>\n",
              "</div>"
            ],
            "text/plain": [
              "               Year    Engine HP  ...    Popularity          MSRP\n",
              "count  11914.000000  11845.00000  ...  11914.000000  1.191400e+04\n",
              "mean    2010.384338    249.38607  ...   1554.911197  4.059474e+04\n",
              "std        7.579740    109.19187  ...   1441.855347  6.010910e+04\n",
              "min     1990.000000     55.00000  ...      2.000000  2.000000e+03\n",
              "25%     2007.000000    170.00000  ...    549.000000  2.100000e+04\n",
              "50%     2015.000000    227.00000  ...   1385.000000  2.999500e+04\n",
              "75%     2016.000000    300.00000  ...   2009.000000  4.223125e+04\n",
              "max     2017.000000   1001.00000  ...   5657.000000  2.065902e+06\n",
              "\n",
              "[8 rows x 8 columns]"
            ]
          },
          "metadata": {
            "tags": []
          },
          "execution_count": 1355
        }
      ]
    },
    {
      "cell_type": "markdown",
      "metadata": {
        "id": "jFhrRMTbtAyx",
        "colab_type": "text"
      },
      "source": [
        "**1**.3 **Knowing the Shape of the DataSet**"
      ]
    },
    {
      "cell_type": "code",
      "metadata": {
        "id": "NwnMWENpCGkf",
        "colab_type": "code",
        "colab": {
          "base_uri": "https://localhost:8080/"
        },
        "outputId": "a164b3f2-c4b2-4d13-b944-528258072817"
      },
      "source": [
        "#checking the shape \n",
        "\n",
        "data.shape"
      ],
      "execution_count": null,
      "outputs": [
        {
          "output_type": "execute_result",
          "data": {
            "text/plain": [
              "(11914, 16)"
            ]
          },
          "metadata": {
            "tags": []
          },
          "execution_count": 1356
        }
      ]
    },
    {
      "cell_type": "markdown",
      "metadata": {
        "id": "fpGRX8uYvyD9",
        "colab_type": "text"
      },
      "source": [
        "**1**.4 **Checking for Null values**"
      ]
    },
    {
      "cell_type": "code",
      "metadata": {
        "id": "Qg48mC4qCVju",
        "colab_type": "code",
        "colab": {
          "base_uri": "https://localhost:8080/"
        },
        "outputId": "0af809ad-dd0c-4438-c613-3c2f37430a6f"
      },
      "source": [
        "#null values are found \n",
        "\n",
        "data.isnull().sum()"
      ],
      "execution_count": null,
      "outputs": [
        {
          "output_type": "execute_result",
          "data": {
            "text/plain": [
              "Make                    0\n",
              "Model                   0\n",
              "Year                    0\n",
              "Engine Fuel Type        3\n",
              "Engine HP              69\n",
              "Engine Cylinders       30\n",
              "Transmission Type       0\n",
              "Driven_Wheels           0\n",
              "Number of Doors         6\n",
              "Market Category      3742\n",
              "Vehicle Size            0\n",
              "Vehicle Style           0\n",
              "highway MPG             0\n",
              "city mpg                0\n",
              "Popularity              0\n",
              "MSRP                    0\n",
              "dtype: int64"
            ]
          },
          "metadata": {
            "tags": []
          },
          "execution_count": 1357
        }
      ]
    },
    {
      "cell_type": "markdown",
      "metadata": {
        "id": "dnmvW8SHxRHs",
        "colab_type": "text"
      },
      "source": [
        "#**2** Dropping the less **Relevant columns**:"
      ]
    },
    {
      "cell_type": "code",
      "metadata": {
        "id": "NTipDpuqDkPj",
        "colab_type": "code",
        "colab": {}
      },
      "source": [
        "#Market Category column can be dropped, as there is insufficiant data i.e having many null values\n",
        " \n",
        "data.drop(['Market Category','Number of Doors'],axis=1,inplace=True)"
      ],
      "execution_count": null,
      "outputs": []
    },
    {
      "cell_type": "code",
      "metadata": {
        "id": "OXev30DlyB4s",
        "colab_type": "code",
        "colab": {
          "base_uri": "https://localhost:8080/"
        },
        "outputId": "91e94c18-b014-4130-aec6-04a2089ed6c6"
      },
      "source": [
        "#dataset after dropping \n",
        "data.head(5)"
      ],
      "execution_count": null,
      "outputs": [
        {
          "output_type": "execute_result",
          "data": {
            "text/html": [
              "<div>\n",
              "<style scoped>\n",
              "    .dataframe tbody tr th:only-of-type {\n",
              "        vertical-align: middle;\n",
              "    }\n",
              "\n",
              "    .dataframe tbody tr th {\n",
              "        vertical-align: top;\n",
              "    }\n",
              "\n",
              "    .dataframe thead th {\n",
              "        text-align: right;\n",
              "    }\n",
              "</style>\n",
              "<table border=\"1\" class=\"dataframe\">\n",
              "  <thead>\n",
              "    <tr style=\"text-align: right;\">\n",
              "      <th></th>\n",
              "      <th>Make</th>\n",
              "      <th>Model</th>\n",
              "      <th>Year</th>\n",
              "      <th>Engine Fuel Type</th>\n",
              "      <th>Engine HP</th>\n",
              "      <th>Engine Cylinders</th>\n",
              "      <th>Transmission Type</th>\n",
              "      <th>Driven_Wheels</th>\n",
              "      <th>Vehicle Size</th>\n",
              "      <th>Vehicle Style</th>\n",
              "      <th>highway MPG</th>\n",
              "      <th>city mpg</th>\n",
              "      <th>Popularity</th>\n",
              "      <th>MSRP</th>\n",
              "    </tr>\n",
              "  </thead>\n",
              "  <tbody>\n",
              "    <tr>\n",
              "      <th>0</th>\n",
              "      <td>BMW</td>\n",
              "      <td>1 Series M</td>\n",
              "      <td>2011</td>\n",
              "      <td>premium unleaded (required)</td>\n",
              "      <td>335.0</td>\n",
              "      <td>6.0</td>\n",
              "      <td>MANUAL</td>\n",
              "      <td>rear wheel drive</td>\n",
              "      <td>Compact</td>\n",
              "      <td>Coupe</td>\n",
              "      <td>26</td>\n",
              "      <td>19</td>\n",
              "      <td>3916</td>\n",
              "      <td>46135</td>\n",
              "    </tr>\n",
              "    <tr>\n",
              "      <th>1</th>\n",
              "      <td>BMW</td>\n",
              "      <td>1 Series</td>\n",
              "      <td>2011</td>\n",
              "      <td>premium unleaded (required)</td>\n",
              "      <td>300.0</td>\n",
              "      <td>6.0</td>\n",
              "      <td>MANUAL</td>\n",
              "      <td>rear wheel drive</td>\n",
              "      <td>Compact</td>\n",
              "      <td>Convertible</td>\n",
              "      <td>28</td>\n",
              "      <td>19</td>\n",
              "      <td>3916</td>\n",
              "      <td>40650</td>\n",
              "    </tr>\n",
              "    <tr>\n",
              "      <th>2</th>\n",
              "      <td>BMW</td>\n",
              "      <td>1 Series</td>\n",
              "      <td>2011</td>\n",
              "      <td>premium unleaded (required)</td>\n",
              "      <td>300.0</td>\n",
              "      <td>6.0</td>\n",
              "      <td>MANUAL</td>\n",
              "      <td>rear wheel drive</td>\n",
              "      <td>Compact</td>\n",
              "      <td>Coupe</td>\n",
              "      <td>28</td>\n",
              "      <td>20</td>\n",
              "      <td>3916</td>\n",
              "      <td>36350</td>\n",
              "    </tr>\n",
              "    <tr>\n",
              "      <th>3</th>\n",
              "      <td>BMW</td>\n",
              "      <td>1 Series</td>\n",
              "      <td>2011</td>\n",
              "      <td>premium unleaded (required)</td>\n",
              "      <td>230.0</td>\n",
              "      <td>6.0</td>\n",
              "      <td>MANUAL</td>\n",
              "      <td>rear wheel drive</td>\n",
              "      <td>Compact</td>\n",
              "      <td>Coupe</td>\n",
              "      <td>28</td>\n",
              "      <td>18</td>\n",
              "      <td>3916</td>\n",
              "      <td>29450</td>\n",
              "    </tr>\n",
              "    <tr>\n",
              "      <th>4</th>\n",
              "      <td>BMW</td>\n",
              "      <td>1 Series</td>\n",
              "      <td>2011</td>\n",
              "      <td>premium unleaded (required)</td>\n",
              "      <td>230.0</td>\n",
              "      <td>6.0</td>\n",
              "      <td>MANUAL</td>\n",
              "      <td>rear wheel drive</td>\n",
              "      <td>Compact</td>\n",
              "      <td>Convertible</td>\n",
              "      <td>28</td>\n",
              "      <td>18</td>\n",
              "      <td>3916</td>\n",
              "      <td>34500</td>\n",
              "    </tr>\n",
              "  </tbody>\n",
              "</table>\n",
              "</div>"
            ],
            "text/plain": [
              "  Make       Model  Year  ... city mpg  Popularity   MSRP\n",
              "0  BMW  1 Series M  2011  ...       19        3916  46135\n",
              "1  BMW    1 Series  2011  ...       19        3916  40650\n",
              "2  BMW    1 Series  2011  ...       20        3916  36350\n",
              "3  BMW    1 Series  2011  ...       18        3916  29450\n",
              "4  BMW    1 Series  2011  ...       18        3916  34500\n",
              "\n",
              "[5 rows x 14 columns]"
            ]
          },
          "metadata": {
            "tags": []
          },
          "execution_count": 1359
        }
      ]
    },
    {
      "cell_type": "code",
      "metadata": {
        "id": "dARhOOBdu4xq",
        "colab_type": "code",
        "colab": {
          "base_uri": "https://localhost:8080/"
        },
        "outputId": "2c18b0e5-dab2-4ba2-8629-87794469e415"
      },
      "source": [
        "#shape of the dataset after dropping market category\n",
        "\n",
        "data.shape"
      ],
      "execution_count": null,
      "outputs": [
        {
          "output_type": "execute_result",
          "data": {
            "text/plain": [
              "(11914, 14)"
            ]
          },
          "metadata": {
            "tags": []
          },
          "execution_count": 1360
        }
      ]
    },
    {
      "cell_type": "markdown",
      "metadata": {
        "id": "BFw4hCsl6Wtu",
        "colab_type": "text"
      },
      "source": [
        "#**3**  **Renaming** the columns :\n",
        "\n",
        "\n"
      ]
    },
    {
      "cell_type": "code",
      "metadata": {
        "id": "is5i-r8YzBXk",
        "colab_type": "code",
        "colab": {
          "base_uri": "https://localhost:8080/"
        },
        "outputId": "0670e4b9-3bae-4e86-de11-8470ffcc1e5f"
      },
      "source": [
        "#renaming can to done using rename() function\n",
        "#renaming is done to\n",
        "data.rename(columns= {\"Engine HP\": \"HP\", \"Engine Cylinders\": \"Cylinders\", \"Transmission Type\": \"Transmission\",\n",
        "                      \"Driven_Wheels\": \"Drive Mode\", \"highway MPG\": \"MPG-H\", \"city mpg\": \"MPG-C\", \"MSRP\": \"Price\"}, inplace= True)\n",
        "\n",
        "data.head(5)"
      ],
      "execution_count": null,
      "outputs": [
        {
          "output_type": "execute_result",
          "data": {
            "text/html": [
              "<div>\n",
              "<style scoped>\n",
              "    .dataframe tbody tr th:only-of-type {\n",
              "        vertical-align: middle;\n",
              "    }\n",
              "\n",
              "    .dataframe tbody tr th {\n",
              "        vertical-align: top;\n",
              "    }\n",
              "\n",
              "    .dataframe thead th {\n",
              "        text-align: right;\n",
              "    }\n",
              "</style>\n",
              "<table border=\"1\" class=\"dataframe\">\n",
              "  <thead>\n",
              "    <tr style=\"text-align: right;\">\n",
              "      <th></th>\n",
              "      <th>Make</th>\n",
              "      <th>Model</th>\n",
              "      <th>Year</th>\n",
              "      <th>Engine Fuel Type</th>\n",
              "      <th>HP</th>\n",
              "      <th>Cylinders</th>\n",
              "      <th>Transmission</th>\n",
              "      <th>Drive Mode</th>\n",
              "      <th>Vehicle Size</th>\n",
              "      <th>Vehicle Style</th>\n",
              "      <th>MPG-H</th>\n",
              "      <th>MPG-C</th>\n",
              "      <th>Popularity</th>\n",
              "      <th>Price</th>\n",
              "    </tr>\n",
              "  </thead>\n",
              "  <tbody>\n",
              "    <tr>\n",
              "      <th>0</th>\n",
              "      <td>BMW</td>\n",
              "      <td>1 Series M</td>\n",
              "      <td>2011</td>\n",
              "      <td>premium unleaded (required)</td>\n",
              "      <td>335.0</td>\n",
              "      <td>6.0</td>\n",
              "      <td>MANUAL</td>\n",
              "      <td>rear wheel drive</td>\n",
              "      <td>Compact</td>\n",
              "      <td>Coupe</td>\n",
              "      <td>26</td>\n",
              "      <td>19</td>\n",
              "      <td>3916</td>\n",
              "      <td>46135</td>\n",
              "    </tr>\n",
              "    <tr>\n",
              "      <th>1</th>\n",
              "      <td>BMW</td>\n",
              "      <td>1 Series</td>\n",
              "      <td>2011</td>\n",
              "      <td>premium unleaded (required)</td>\n",
              "      <td>300.0</td>\n",
              "      <td>6.0</td>\n",
              "      <td>MANUAL</td>\n",
              "      <td>rear wheel drive</td>\n",
              "      <td>Compact</td>\n",
              "      <td>Convertible</td>\n",
              "      <td>28</td>\n",
              "      <td>19</td>\n",
              "      <td>3916</td>\n",
              "      <td>40650</td>\n",
              "    </tr>\n",
              "    <tr>\n",
              "      <th>2</th>\n",
              "      <td>BMW</td>\n",
              "      <td>1 Series</td>\n",
              "      <td>2011</td>\n",
              "      <td>premium unleaded (required)</td>\n",
              "      <td>300.0</td>\n",
              "      <td>6.0</td>\n",
              "      <td>MANUAL</td>\n",
              "      <td>rear wheel drive</td>\n",
              "      <td>Compact</td>\n",
              "      <td>Coupe</td>\n",
              "      <td>28</td>\n",
              "      <td>20</td>\n",
              "      <td>3916</td>\n",
              "      <td>36350</td>\n",
              "    </tr>\n",
              "    <tr>\n",
              "      <th>3</th>\n",
              "      <td>BMW</td>\n",
              "      <td>1 Series</td>\n",
              "      <td>2011</td>\n",
              "      <td>premium unleaded (required)</td>\n",
              "      <td>230.0</td>\n",
              "      <td>6.0</td>\n",
              "      <td>MANUAL</td>\n",
              "      <td>rear wheel drive</td>\n",
              "      <td>Compact</td>\n",
              "      <td>Coupe</td>\n",
              "      <td>28</td>\n",
              "      <td>18</td>\n",
              "      <td>3916</td>\n",
              "      <td>29450</td>\n",
              "    </tr>\n",
              "    <tr>\n",
              "      <th>4</th>\n",
              "      <td>BMW</td>\n",
              "      <td>1 Series</td>\n",
              "      <td>2011</td>\n",
              "      <td>premium unleaded (required)</td>\n",
              "      <td>230.0</td>\n",
              "      <td>6.0</td>\n",
              "      <td>MANUAL</td>\n",
              "      <td>rear wheel drive</td>\n",
              "      <td>Compact</td>\n",
              "      <td>Convertible</td>\n",
              "      <td>28</td>\n",
              "      <td>18</td>\n",
              "      <td>3916</td>\n",
              "      <td>34500</td>\n",
              "    </tr>\n",
              "  </tbody>\n",
              "</table>\n",
              "</div>"
            ],
            "text/plain": [
              "  Make       Model  Year  ... MPG-C  Popularity  Price\n",
              "0  BMW  1 Series M  2011  ...    19        3916  46135\n",
              "1  BMW    1 Series  2011  ...    19        3916  40650\n",
              "2  BMW    1 Series  2011  ...    20        3916  36350\n",
              "3  BMW    1 Series  2011  ...    18        3916  29450\n",
              "4  BMW    1 Series  2011  ...    18        3916  34500\n",
              "\n",
              "[5 rows x 14 columns]"
            ]
          },
          "metadata": {
            "tags": []
          },
          "execution_count": 1361
        }
      ]
    },
    {
      "cell_type": "markdown",
      "metadata": {
        "id": "vyjTpLboagkN",
        "colab_type": "text"
      },
      "source": [
        "#**4**.   **Checking** and dropping of **Duplicate Rows** and **Null Values** :"
      ]
    },
    {
      "cell_type": "code",
      "metadata": {
        "id": "ULezbZXZRtUo",
        "colab_type": "code",
        "colab": {
          "base_uri": "https://localhost:8080/"
        },
        "outputId": "17765471-60fa-4f15-ce0a-57fae6bc3eb7"
      },
      "source": [
        "#to get the shape of duplicated data\n",
        "duplicatedRows = data[data.duplicated()]\n",
        "duplicatedRows.shape"
      ],
      "execution_count": null,
      "outputs": [
        {
          "output_type": "execute_result",
          "data": {
            "text/plain": [
              "(721, 14)"
            ]
          },
          "metadata": {
            "tags": []
          },
          "execution_count": 1362
        }
      ]
    },
    {
      "cell_type": "code",
      "metadata": {
        "id": "GrRQ23U9lm-A",
        "colab_type": "code",
        "colab": {
          "base_uri": "https://localhost:8080/"
        },
        "outputId": "c4b8c73a-6882-4469-a1f5-205db48dc15a"
      },
      "source": [
        "#the total number of duplicate rows can be known using duplicated() function\n",
        "data.duplicated().sum()\n"
      ],
      "execution_count": null,
      "outputs": [
        {
          "output_type": "execute_result",
          "data": {
            "text/plain": [
              "721"
            ]
          },
          "metadata": {
            "tags": []
          },
          "execution_count": 1363
        }
      ]
    },
    {
      "cell_type": "markdown",
      "metadata": {
        "id": "F-RbHpBjThYd",
        "colab_type": "text"
      },
      "source": [
        "**4**.1 **Dropping the Duplicated Rows**"
      ]
    },
    {
      "cell_type": "code",
      "metadata": {
        "id": "lCT0NYvMgwn5",
        "colab_type": "code",
        "colab": {
          "base_uri": "https://localhost:8080/"
        },
        "outputId": "8ee64752-a586-4d9b-9ac2-26355d46e7ae"
      },
      "source": [
        "#shape of dataset before dropping the duplicates\n",
        "data.shape"
      ],
      "execution_count": null,
      "outputs": [
        {
          "output_type": "execute_result",
          "data": {
            "text/plain": [
              "(11914, 14)"
            ]
          },
          "metadata": {
            "tags": []
          },
          "execution_count": 1364
        }
      ]
    },
    {
      "cell_type": "code",
      "metadata": {
        "id": "syeXx3o7Xm3d",
        "colab_type": "code",
        "colab": {
          "base_uri": "https://localhost:8080/"
        },
        "outputId": "6d2276a3-ca8d-449d-a11b-e1318135ec8d"
      },
      "source": [
        "#dropping the duplicate rows\n",
        "data=data.drop_duplicates()\n",
        "\n",
        "data.head(5)"
      ],
      "execution_count": null,
      "outputs": [
        {
          "output_type": "execute_result",
          "data": {
            "text/html": [
              "<div>\n",
              "<style scoped>\n",
              "    .dataframe tbody tr th:only-of-type {\n",
              "        vertical-align: middle;\n",
              "    }\n",
              "\n",
              "    .dataframe tbody tr th {\n",
              "        vertical-align: top;\n",
              "    }\n",
              "\n",
              "    .dataframe thead th {\n",
              "        text-align: right;\n",
              "    }\n",
              "</style>\n",
              "<table border=\"1\" class=\"dataframe\">\n",
              "  <thead>\n",
              "    <tr style=\"text-align: right;\">\n",
              "      <th></th>\n",
              "      <th>Make</th>\n",
              "      <th>Model</th>\n",
              "      <th>Year</th>\n",
              "      <th>Engine Fuel Type</th>\n",
              "      <th>HP</th>\n",
              "      <th>Cylinders</th>\n",
              "      <th>Transmission</th>\n",
              "      <th>Drive Mode</th>\n",
              "      <th>Vehicle Size</th>\n",
              "      <th>Vehicle Style</th>\n",
              "      <th>MPG-H</th>\n",
              "      <th>MPG-C</th>\n",
              "      <th>Popularity</th>\n",
              "      <th>Price</th>\n",
              "    </tr>\n",
              "  </thead>\n",
              "  <tbody>\n",
              "    <tr>\n",
              "      <th>0</th>\n",
              "      <td>BMW</td>\n",
              "      <td>1 Series M</td>\n",
              "      <td>2011</td>\n",
              "      <td>premium unleaded (required)</td>\n",
              "      <td>335.0</td>\n",
              "      <td>6.0</td>\n",
              "      <td>MANUAL</td>\n",
              "      <td>rear wheel drive</td>\n",
              "      <td>Compact</td>\n",
              "      <td>Coupe</td>\n",
              "      <td>26</td>\n",
              "      <td>19</td>\n",
              "      <td>3916</td>\n",
              "      <td>46135</td>\n",
              "    </tr>\n",
              "    <tr>\n",
              "      <th>1</th>\n",
              "      <td>BMW</td>\n",
              "      <td>1 Series</td>\n",
              "      <td>2011</td>\n",
              "      <td>premium unleaded (required)</td>\n",
              "      <td>300.0</td>\n",
              "      <td>6.0</td>\n",
              "      <td>MANUAL</td>\n",
              "      <td>rear wheel drive</td>\n",
              "      <td>Compact</td>\n",
              "      <td>Convertible</td>\n",
              "      <td>28</td>\n",
              "      <td>19</td>\n",
              "      <td>3916</td>\n",
              "      <td>40650</td>\n",
              "    </tr>\n",
              "    <tr>\n",
              "      <th>2</th>\n",
              "      <td>BMW</td>\n",
              "      <td>1 Series</td>\n",
              "      <td>2011</td>\n",
              "      <td>premium unleaded (required)</td>\n",
              "      <td>300.0</td>\n",
              "      <td>6.0</td>\n",
              "      <td>MANUAL</td>\n",
              "      <td>rear wheel drive</td>\n",
              "      <td>Compact</td>\n",
              "      <td>Coupe</td>\n",
              "      <td>28</td>\n",
              "      <td>20</td>\n",
              "      <td>3916</td>\n",
              "      <td>36350</td>\n",
              "    </tr>\n",
              "    <tr>\n",
              "      <th>3</th>\n",
              "      <td>BMW</td>\n",
              "      <td>1 Series</td>\n",
              "      <td>2011</td>\n",
              "      <td>premium unleaded (required)</td>\n",
              "      <td>230.0</td>\n",
              "      <td>6.0</td>\n",
              "      <td>MANUAL</td>\n",
              "      <td>rear wheel drive</td>\n",
              "      <td>Compact</td>\n",
              "      <td>Coupe</td>\n",
              "      <td>28</td>\n",
              "      <td>18</td>\n",
              "      <td>3916</td>\n",
              "      <td>29450</td>\n",
              "    </tr>\n",
              "    <tr>\n",
              "      <th>4</th>\n",
              "      <td>BMW</td>\n",
              "      <td>1 Series</td>\n",
              "      <td>2011</td>\n",
              "      <td>premium unleaded (required)</td>\n",
              "      <td>230.0</td>\n",
              "      <td>6.0</td>\n",
              "      <td>MANUAL</td>\n",
              "      <td>rear wheel drive</td>\n",
              "      <td>Compact</td>\n",
              "      <td>Convertible</td>\n",
              "      <td>28</td>\n",
              "      <td>18</td>\n",
              "      <td>3916</td>\n",
              "      <td>34500</td>\n",
              "    </tr>\n",
              "  </tbody>\n",
              "</table>\n",
              "</div>"
            ],
            "text/plain": [
              "  Make       Model  Year  ... MPG-C  Popularity  Price\n",
              "0  BMW  1 Series M  2011  ...    19        3916  46135\n",
              "1  BMW    1 Series  2011  ...    19        3916  40650\n",
              "2  BMW    1 Series  2011  ...    20        3916  36350\n",
              "3  BMW    1 Series  2011  ...    18        3916  29450\n",
              "4  BMW    1 Series  2011  ...    18        3916  34500\n",
              "\n",
              "[5 rows x 14 columns]"
            ]
          },
          "metadata": {
            "tags": []
          },
          "execution_count": 1365
        }
      ]
    },
    {
      "cell_type": "code",
      "metadata": {
        "id": "ink25W16g8wP",
        "colab_type": "code",
        "colab": {
          "base_uri": "https://localhost:8080/"
        },
        "outputId": "63d8c8de-f10b-4d3e-f0a9-21a893197516"
      },
      "source": [
        "#shape of dataset after dropping the duplicates\n",
        "data.shape"
      ],
      "execution_count": null,
      "outputs": [
        {
          "output_type": "execute_result",
          "data": {
            "text/plain": [
              "(11193, 14)"
            ]
          },
          "metadata": {
            "tags": []
          },
          "execution_count": 1366
        }
      ]
    },
    {
      "cell_type": "markdown",
      "metadata": {
        "id": "nr55MV4h0auC",
        "colab_type": "text"
      },
      "source": [
        "**4**.2 **Checking for Null Values and  Missing Values** "
      ]
    },
    {
      "cell_type": "code",
      "metadata": {
        "id": "NVepR8di0ZaC",
        "colab_type": "code",
        "colab": {
          "base_uri": "https://localhost:8080/"
        },
        "outputId": "da9cca00-154b-4616-a2a1-226d15e572af"
      },
      "source": [
        "#to know the null or missing data we use the function isnull()\n",
        "data.isnull().sum()"
      ],
      "execution_count": null,
      "outputs": [
        {
          "output_type": "execute_result",
          "data": {
            "text/plain": [
              "Make                 0\n",
              "Model                0\n",
              "Year                 0\n",
              "Engine Fuel Type     3\n",
              "HP                  69\n",
              "Cylinders           30\n",
              "Transmission         0\n",
              "Drive Mode           0\n",
              "Vehicle Size         0\n",
              "Vehicle Style        0\n",
              "MPG-H                0\n",
              "MPG-C                0\n",
              "Popularity           0\n",
              "Price                0\n",
              "dtype: int64"
            ]
          },
          "metadata": {
            "tags": []
          },
          "execution_count": 1367
        }
      ]
    },
    {
      "cell_type": "markdown",
      "metadata": {
        "id": "l_WxZgqm3bsh",
        "colab_type": "text"
      },
      "source": [
        "````\n",
        "As there are only few number of missing data, we could drop the missing data\n",
        "````"
      ]
    },
    {
      "cell_type": "markdown",
      "metadata": {
        "id": "tYBmtqlHMESo",
        "colab_type": "text"
      },
      "source": [
        "**4**.3 **Dropping of  Missing Data** "
      ]
    },
    {
      "cell_type": "code",
      "metadata": {
        "id": "o7p7Bb6lPobt",
        "colab_type": "code",
        "colab": {
          "base_uri": "https://localhost:8080/"
        },
        "outputId": "d0ab745f-1de5-46e5-bb20-0422b49277e2"
      },
      "source": [
        "#shape of the dataset before dropping the missing values\n",
        "data.shape"
      ],
      "execution_count": null,
      "outputs": [
        {
          "output_type": "execute_result",
          "data": {
            "text/plain": [
              "(11193, 14)"
            ]
          },
          "metadata": {
            "tags": []
          },
          "execution_count": 1368
        }
      ]
    },
    {
      "cell_type": "code",
      "metadata": {
        "id": "kIiX1nT61TY9",
        "colab_type": "code",
        "colab": {}
      },
      "source": [
        "#to drop the missing or null values we use \n",
        "data = data.dropna()\n"
      ],
      "execution_count": null,
      "outputs": []
    },
    {
      "cell_type": "code",
      "metadata": {
        "id": "2X9XgGU5P7cs",
        "colab_type": "code",
        "colab": {
          "base_uri": "https://localhost:8080/"
        },
        "outputId": "7faa427d-6111-4aac-ebda-5d4d7a70d1ed"
      },
      "source": [
        "#shape of the dataset after dropping the missing data\n",
        "data.shape"
      ],
      "execution_count": null,
      "outputs": [
        {
          "output_type": "execute_result",
          "data": {
            "text/plain": [
              "(11092, 14)"
            ]
          },
          "metadata": {
            "tags": []
          },
          "execution_count": 1370
        }
      ]
    },
    {
      "cell_type": "code",
      "metadata": {
        "id": "EX9_xqy4S11Y",
        "colab_type": "code",
        "colab": {
          "base_uri": "https://localhost:8080/"
        },
        "outputId": "76cb9f63-910e-420d-cd13-4c977766fb75"
      },
      "source": [
        "#checking the number of missing values\n",
        "data.isnull().sum()"
      ],
      "execution_count": null,
      "outputs": [
        {
          "output_type": "execute_result",
          "data": {
            "text/plain": [
              "Make                0\n",
              "Model               0\n",
              "Year                0\n",
              "Engine Fuel Type    0\n",
              "HP                  0\n",
              "Cylinders           0\n",
              "Transmission        0\n",
              "Drive Mode          0\n",
              "Vehicle Size        0\n",
              "Vehicle Style       0\n",
              "MPG-H               0\n",
              "MPG-C               0\n",
              "Popularity          0\n",
              "Price               0\n",
              "dtype: int64"
            ]
          },
          "metadata": {
            "tags": []
          },
          "execution_count": 1371
        }
      ]
    },
    {
      "cell_type": "markdown",
      "metadata": {
        "id": "XaAqxhokU-GR",
        "colab_type": "text"
      },
      "source": [
        "#**5**. Plotting **Graphs** for various columns   to check for **Outliers**:\n"
      ]
    },
    {
      "cell_type": "markdown",
      "metadata": {
        "id": "RatjU1uZKLFx",
        "colab_type": "text"
      },
      "source": [
        ">An outlier is a data point that differs significantly from other observations. An outlier may be due to variability in the measurement or it may indicate experimental error."
      ]
    },
    {
      "cell_type": "code",
      "metadata": {
        "id": "8wDeoKWiVVGL",
        "colab_type": "code",
        "colab": {
          "base_uri": "https://localhost:8080/"
        },
        "outputId": "45c802e5-83f1-46f4-bcee-1c8f69823686"
      },
      "source": [
        "sns.boxplot(x= data[\"Price\"])\n"
      ],
      "execution_count": null,
      "outputs": [
        {
          "output_type": "execute_result",
          "data": {
            "text/plain": [
              "<matplotlib.axes._subplots.AxesSubplot at 0x7f893b0d2e10>"
            ]
          },
          "metadata": {
            "tags": []
          },
          "execution_count": 1372
        },
        {
          "output_type": "display_data",
          "data": {
            "image/png": "[encoded data removed]",
            "text/plain": [
              "<Figure size 432x288 with 1 Axes>"
            ]
          },
          "metadata": {
            "tags": [],
            "needs_background": "light"
          }
        }
      ]
    },
    {
      "cell_type": "code",
      "metadata": {
        "id": "IjgtFEs3Tfst",
        "colab_type": "code",
        "colab": {
          "base_uri": "https://localhost:8080/"
        },
        "outputId": "524257ae-6254-4c22-d975-b6eb62d856e8"
      },
      "source": [
        "sns.boxplot(x=data[\"HP\"])"
      ],
      "execution_count": null,
      "outputs": [
        {
          "output_type": "execute_result",
          "data": {
            "text/plain": [
              "<matplotlib.axes._subplots.AxesSubplot at 0x7f893b4a4860>"
            ]
          },
          "metadata": {
            "tags": []
          },
          "execution_count": 1373
        },
        {
          "output_type": "display_data",
          "data": {
            "image/png": "[encoded data removed]",
            "text/plain": [
              "<Figure size 432x288 with 1 Axes>"
            ]
          },
          "metadata": {
            "tags": [],
            "needs_background": "light"
          }
        }
      ]
    },
    {
      "cell_type": "code",
      "metadata": {
        "id": "P_El826ETzKm",
        "colab_type": "code",
        "colab": {
          "base_uri": "https://localhost:8080/"
        },
        "outputId": "c9f13e8f-d11d-4934-92a0-d352a1c96d36"
      },
      "source": [
        "sns.boxplot(x=data[\"Popularity\"])             #the number of outliers here are less\n"
      ],
      "execution_count": null,
      "outputs": [
        {
          "output_type": "execute_result",
          "data": {
            "text/plain": [
              "<matplotlib.axes._subplots.AxesSubplot at 0x7f893b4fc2e8>"
            ]
          },
          "metadata": {
            "tags": []
          },
          "execution_count": 1374
        },
        {
          "output_type": "display_data",
          "data": {
            "image/png": "[encoded data removed]",
            "text/plain": [
              "<Figure size 432x288 with 1 Axes>"
            ]
          },
          "metadata": {
            "tags": [],
            "needs_background": "light"
          }
        }
      ]
    },
    {
      "cell_type": "code",
      "metadata": {
        "id": "pU_2iOiNVH2N",
        "colab_type": "code",
        "colab": {
          "base_uri": "https://localhost:8080/"
        },
        "outputId": "4a966e7a-3870-435b-8504-78e80880a37f"
      },
      "source": [
        "sns.boxplot(x=data[\"Cylinders\"])"
      ],
      "execution_count": null,
      "outputs": [
        {
          "output_type": "execute_result",
          "data": {
            "text/plain": [
              "<matplotlib.axes._subplots.AxesSubplot at 0x7f89415a0208>"
            ]
          },
          "metadata": {
            "tags": []
          },
          "execution_count": 1375
        },
        {
          "output_type": "display_data",
          "data": {
            "image/png": "[encoded data removed]",
            "text/plain": [
              "<Figure size 432x288 with 1 Axes>"
            ]
          },
          "metadata": {
            "tags": [],
            "needs_background": "light"
          }
        }
      ]
    },
    {
      "cell_type": "markdown",
      "metadata": {
        "id": "9cFmtEgki0EU",
        "colab_type": "text"
      },
      "source": [
        "**5**.1 **Removing** **the** **Outliers**\n",
        "\n",
        "```\n",
        ">The outliers can be removed using Inter Quartile Range(IQR)\n",
        "\n",
        "```"
      ]
    },
    {
      "cell_type": "code",
      "metadata": {
        "id": "lU4PAngQiM-w",
        "colab_type": "code",
        "colab": {
          "base_uri": "https://localhost:8080/"
        },
        "outputId": "cd799a86-0de2-473b-a1e2-2aaceddf40c3"
      },
      "source": [
        "Q1 = data.quantile(0.25)\n",
        "Q3 = data.quantile(0.75)\n",
        "\n",
        "IQR = Q3 - Q1               \n",
        "IQR"
      ],
      "execution_count": null,
      "outputs": [
        {
          "output_type": "execute_result",
          "data": {
            "text/plain": [
              "Year              9.00\n",
              "HP              131.00\n",
              "Cylinders         2.00\n",
              "MPG-H             8.00\n",
              "MPG-C             6.00\n",
              "Popularity     1460.00\n",
              "Price         21491.25\n",
              "dtype: float64"
            ]
          },
          "metadata": {
            "tags": []
          },
          "execution_count": 1376
        }
      ]
    },
    {
      "cell_type": "markdown",
      "metadata": {
        "id": "QmbETGvMssrS",
        "colab_type": "text"
      },
      "source": [
        "\n",
        ">For finding out the Outlier using IQR we have to define a multiplier\n",
        " which is 1.5 ideally that will decide how far below Q1 and above Q3 will be considered as an Outlier\n",
        " \n",
        " >Any value below Q1-1.5*IQR or above Q3+1.5*IQR is an Outlier\n",
        " "
      ]
    },
    {
      "cell_type": "code",
      "metadata": {
        "id": "KR_XXulkuUfD",
        "colab_type": "code",
        "colab": {
          "base_uri": "https://localhost:8080/"
        },
        "outputId": "cbe41e11-26e4-4268-8689-a595d6bf0e7b"
      },
      "source": [
        "#shape of dataset before removing the outliers\n",
        "data.shape"
      ],
      "execution_count": null,
      "outputs": [
        {
          "output_type": "execute_result",
          "data": {
            "text/plain": [
              "(11092, 14)"
            ]
          },
          "metadata": {
            "tags": []
          },
          "execution_count": 1377
        }
      ]
    },
    {
      "cell_type": "code",
      "metadata": {
        "id": "gG69k3Kbs1kc",
        "colab_type": "code",
        "colab": {
          "base_uri": "https://localhost:8080/"
        },
        "outputId": "aec4284a-6024-4480-9226-2e5844409ba7"
      },
      "source": [
        "data = data[~((data < (Q1 - 1.5 * IQR)) |(data > (Q3 + 1.5 * IQR))).any(axis=1)]\n",
        "\n",
        "#shape of dataset after removing the outliers\n",
        "data.shape"
      ],
      "execution_count": null,
      "outputs": [
        {
          "output_type": "execute_result",
          "data": {
            "text/plain": [
              "(8608, 14)"
            ]
          },
          "metadata": {
            "tags": []
          },
          "execution_count": 1378
        }
      ]
    },
    {
      "cell_type": "markdown",
      "metadata": {
        "id": "ocrX_VgYEd-r",
        "colab_type": "text"
      },
      "source": [
        "#**6**. Most **Represented**  and the **Average Price** of Car Brand:\n"
      ]
    },
    {
      "cell_type": "markdown",
      "metadata": {
        "id": "85tj5KYX3gIn",
        "colab_type": "text"
      },
      "source": [
        "**6**.1 **Most Represented Car Brands**"
      ]
    },
    {
      "cell_type": "code",
      "metadata": {
        "id": "IaTZS-igElz7",
        "colab_type": "code",
        "colab": {
          "base_uri": "https://localhost:8080/"
        },
        "outputId": "f2c59d62-a9da-472d-8a94-7ce4704f6af5"
      },
      "source": [
        "# Percentage of car per brand\n",
        "counts = data['Make'].value_counts()*100/sum(data['Make'].value_counts())\n",
        "\n",
        "# Top 10 car brands\n",
        "top_brands = counts.index[:10]\n",
        "    \n",
        "# Plotting\n",
        "plt.figure(figsize=(18,5))                                  \t                       #we adjust the graph size according to our convience, as done\n",
        "plt.barh(top_brands,width=counts[:10])   \n",
        "plt.title('Top 10 Represented Car Brands', weight= 'bold', fontsize= 20)             #we give the title of the graph as \"Top 10 Represented car brands\"\n",
        "plt.show()                         "
      ],
      "execution_count": null,
      "outputs": [
        {
          "output_type": "display_data",
          "data": {
            "image/png": "[encoded data removed]",
            "text/plain": [
              "<Figure size 1296x360 with 1 Axes>"
            ]
          },
          "metadata": {
            "tags": [],
            "needs_background": "light"
          }
        }
      ]
    },
    {
      "cell_type": "markdown",
      "metadata": {
        "id": "Iv7Wuyu9eQzr",
        "colab_type": "text"
      },
      "source": [
        "From the graph, it is clearly given the top 10 car brands\n",
        "\n"
      ]
    },
    {
      "cell_type": "markdown",
      "metadata": {
        "id": "jxIj0saKiFod",
        "colab_type": "text"
      },
      "source": [
        "**6**.2 **Average Price among the top car brands**"
      ]
    },
    {
      "cell_type": "code",
      "metadata": {
        "id": "Q5XoflLacZH6",
        "colab_type": "code",
        "colab": {
          "base_uri": "https://localhost:8080/"
        },
        "outputId": "25f13816-fe6f-442d-f373-4d6d01018d40"
      },
      "source": [
        "avgPrices = data[['Make','Price']].loc[                                    #The loc() function is used to access a group of rows and columns using label's\n",
        "               (data['Make'] == 'Chevrolet')|\n",
        "               (data['Make'] == 'Toyota')|\n",
        "               (data['Make'] == 'Volkswagen')|\n",
        "               (data['Make'] == 'Nissan')|\n",
        "               (data['Make'] == 'GMC')|\n",
        "               (data['Make'] == 'Dodge')|\n",
        "               (data['Make'] == 'Mazda')|\n",
        "               (data['Make'] == 'Honda')|\n",
        "               (data['Make'] == 'Suzuki')|\n",
        "               (data['Make'] == 'infiniti')].groupby('Make').mean()       #groupby() function is used to split the data into groups  \n",
        "                                                                          #To get the mean or average of the data we use mean() function\n",
        "print(avgPrices)"
      ],
      "execution_count": null,
      "outputs": [
        {
          "output_type": "stream",
          "text": [
            "                   Price\n",
            "Make                    \n",
            "Chevrolet   28188.626459\n",
            "Dodge       26076.722353\n",
            "GMC         33261.400853\n",
            "Honda       27381.364611\n",
            "Mazda       20495.820106\n",
            "Nissan      28352.543860\n",
            "Suzuki      18164.098214\n",
            "Toyota      29011.750397\n",
            "Volkswagen  29032.817476\n"
          ],
          "name": "stdout"
        }
      ]
    },
    {
      "cell_type": "markdown",
      "metadata": {
        "id": "h2l_VknG2CK_",
        "colab_type": "text"
      },
      "source": [
        "# **7**.  Plotting of **Correlation Matrix** :"
      ]
    },
    {
      "cell_type": "markdown",
      "metadata": {
        "id": "iIEb3DrnF_9E",
        "colab_type": "text"
      },
      "source": [
        "A correlation matrix is a table showing **correlation coefficients** between variables. Each cell in the table shows the correlation between **two variables**"
      ]
    },
    {
      "cell_type": "code",
      "metadata": {
        "id": "KqdMhYsVFBVL",
        "colab_type": "code",
        "colab": {
          "base_uri": "https://localhost:8080/"
        },
        "outputId": "6fc56daf-8920-4cc7-fd4b-607fa92e99de"
      },
      "source": [
        "#We use corr() function to get the correlation matrix for the datset\n",
        "\n",
        "data.corr()"
      ],
      "execution_count": null,
      "outputs": [
        {
          "output_type": "execute_result",
          "data": {
            "text/html": [
              "<div>\n",
              "<style scoped>\n",
              "    .dataframe tbody tr th:only-of-type {\n",
              "        vertical-align: middle;\n",
              "    }\n",
              "\n",
              "    .dataframe tbody tr th {\n",
              "        vertical-align: top;\n",
              "    }\n",
              "\n",
              "    .dataframe thead th {\n",
              "        text-align: right;\n",
              "    }\n",
              "</style>\n",
              "<table border=\"1\" class=\"dataframe\">\n",
              "  <thead>\n",
              "    <tr style=\"text-align: right;\">\n",
              "      <th></th>\n",
              "      <th>Year</th>\n",
              "      <th>HP</th>\n",
              "      <th>Cylinders</th>\n",
              "      <th>MPG-H</th>\n",
              "      <th>MPG-C</th>\n",
              "      <th>Popularity</th>\n",
              "      <th>Price</th>\n",
              "    </tr>\n",
              "  </thead>\n",
              "  <tbody>\n",
              "    <tr>\n",
              "      <th>Year</th>\n",
              "      <td>1.000000</td>\n",
              "      <td>0.330540</td>\n",
              "      <td>-0.094397</td>\n",
              "      <td>0.359829</td>\n",
              "      <td>0.323613</td>\n",
              "      <td>0.204453</td>\n",
              "      <td>0.591644</td>\n",
              "    </tr>\n",
              "    <tr>\n",
              "      <th>HP</th>\n",
              "      <td>0.330540</td>\n",
              "      <td>1.000000</td>\n",
              "      <td>0.741031</td>\n",
              "      <td>-0.465311</td>\n",
              "      <td>-0.563362</td>\n",
              "      <td>0.105691</td>\n",
              "      <td>0.743497</td>\n",
              "    </tr>\n",
              "    <tr>\n",
              "      <th>Cylinders</th>\n",
              "      <td>-0.094397</td>\n",
              "      <td>0.741031</td>\n",
              "      <td>1.000000</td>\n",
              "      <td>-0.697884</td>\n",
              "      <td>-0.750850</td>\n",
              "      <td>0.025803</td>\n",
              "      <td>0.392174</td>\n",
              "    </tr>\n",
              "    <tr>\n",
              "      <th>MPG-H</th>\n",
              "      <td>0.359829</td>\n",
              "      <td>-0.465311</td>\n",
              "      <td>-0.697884</td>\n",
              "      <td>1.000000</td>\n",
              "      <td>0.937936</td>\n",
              "      <td>0.080857</td>\n",
              "      <td>-0.127772</td>\n",
              "    </tr>\n",
              "    <tr>\n",
              "      <th>MPG-C</th>\n",
              "      <td>0.323613</td>\n",
              "      <td>-0.563362</td>\n",
              "      <td>-0.750850</td>\n",
              "      <td>0.937936</td>\n",
              "      <td>1.000000</td>\n",
              "      <td>0.070320</td>\n",
              "      <td>-0.202410</td>\n",
              "    </tr>\n",
              "    <tr>\n",
              "      <th>Popularity</th>\n",
              "      <td>0.204453</td>\n",
              "      <td>0.105691</td>\n",
              "      <td>0.025803</td>\n",
              "      <td>0.080857</td>\n",
              "      <td>0.070320</td>\n",
              "      <td>1.000000</td>\n",
              "      <td>0.116684</td>\n",
              "    </tr>\n",
              "    <tr>\n",
              "      <th>Price</th>\n",
              "      <td>0.591644</td>\n",
              "      <td>0.743497</td>\n",
              "      <td>0.392174</td>\n",
              "      <td>-0.127772</td>\n",
              "      <td>-0.202410</td>\n",
              "      <td>0.116684</td>\n",
              "      <td>1.000000</td>\n",
              "    </tr>\n",
              "  </tbody>\n",
              "</table>\n",
              "</div>"
            ],
            "text/plain": [
              "                Year        HP  Cylinders  ...     MPG-C  Popularity     Price\n",
              "Year        1.000000  0.330540  -0.094397  ...  0.323613    0.204453  0.591644\n",
              "HP          0.330540  1.000000   0.741031  ... -0.563362    0.105691  0.743497\n",
              "Cylinders  -0.094397  0.741031   1.000000  ... -0.750850    0.025803  0.392174\n",
              "MPG-H       0.359829 -0.465311  -0.697884  ...  0.937936    0.080857 -0.127772\n",
              "MPG-C       0.323613 -0.563362  -0.750850  ...  1.000000    0.070320 -0.202410\n",
              "Popularity  0.204453  0.105691   0.025803  ...  0.070320    1.000000  0.116684\n",
              "Price       0.591644  0.743497   0.392174  ... -0.202410    0.116684  1.000000\n",
              "\n",
              "[7 rows x 7 columns]"
            ]
          },
          "metadata": {
            "tags": []
          },
          "execution_count": 1381
        }
      ]
    },
    {
      "cell_type": "markdown",
      "metadata": {
        "id": "6dZD5Y_fJDB_",
        "colab_type": "text"
      },
      "source": [
        "**Analysing the correlation matrix**:"
      ]
    },
    {
      "cell_type": "markdown",
      "metadata": {
        "id": "jHR9Hv0hJTD-",
        "colab_type": "text"
      },
      "source": [
        "\n",
        "\n",
        "1.   **HIGH CORRELATION:** \n",
        "                       Cylinders     &   Horse Power\n",
        "                       Price         &   Horse Power\n",
        "                       Highway MPG   &   City MPG\n",
        "                       \n",
        "\n",
        "\n",
        "2.   **HIGH ANTICORRELATION**\n",
        "                      Cylinders   &    City MPG\n",
        "                      Horse Power &    Highway MPG\n",
        "\n",
        "                       \n",
        "\n"
      ]
    },
    {
      "cell_type": "markdown",
      "metadata": {
        "id": "lXUD_X9cUAlT",
        "colab_type": "text"
      },
      "source": [
        ">As the number of **Cylinders** increases, the **Horse Power** of the car increases\n",
        "And beacuse of this the **Price** also increases.\n",
        "By this we can  conclude that **Cylinders** and **Price** are also in correlation"
      ]
    },
    {
      "cell_type": "markdown",
      "metadata": {
        "id": "7iHv3OAUxd-5",
        "colab_type": "text"
      },
      "source": [
        ">As the **Cylinders** increases, the fuel counsumed per mile i.e **MPG**  decreases"
      ]
    },
    {
      "cell_type": "markdown",
      "metadata": {
        "id": "q_CaK_DRHTKA",
        "colab_type": "text"
      },
      "source": [
        "There are different ways for visualizing a correlation matrix  :\n",
        "\n",
        "1.   Heatmap\n",
        "2.   Scatter plots\n"
      ]
    },
    {
      "cell_type": "markdown",
      "metadata": {
        "id": "KRqoRf47IiOi",
        "colab_type": "text"
      },
      "source": [
        "**Heatmap**"
      ]
    },
    {
      "cell_type": "code",
      "metadata": {
        "id": "JJk05ZeO2UFF",
        "colab_type": "code",
        "colab": {
          "base_uri": "https://localhost:8080/"
        },
        "outputId": "d4a45d55-ce41-496a-ffb4-dc1dbd5aba20"
      },
      "source": [
        "corrMatrix = data.corr()\n",
        "plt.subplots(figsize = (13,8))                                                    #setting up the size\n",
        "sns.heatmap(corrMatrix, annot=True)                                              \n",
        "plt.title(\"CORRELATION MATRIX\", weight = 'bold', fontsize= 25, loc= 'left' )      #giving title to the plot\n",
        "plt.show()"
      ],
      "execution_count": null,
      "outputs": [
        {
          "output_type": "display_data",
          "data": {
            "image/png": "[encoded data removed]",
            "text/plain": [
              "<Figure size 936x576 with 2 Axes>"
            ]
          },
          "metadata": {
            "tags": [],
            "needs_background": "light"
          }
        }
      ]
    },
    {
      "cell_type": "markdown",
      "metadata": {
        "id": "muIVDwgAwwMG",
        "colab_type": "text"
      },
      "source": [
        "# **8**. Plotting Graphs :"
      ]
    },
    {
      "cell_type": "markdown",
      "metadata": {
        "id": "roydt8yNInfl",
        "colab_type": "text"
      },
      "source": [
        "**Scatter Plot**"
      ]
    },
    {
      "cell_type": "markdown",
      "metadata": {
        "id": "tHXyEtFf2OKk",
        "colab_type": "text"
      },
      "source": [
        ">A scatter plot is a diagram where each value in the data set is represented by a dot .Scatter plots are used to find the correlation between two variables. Here the scatter plots are plotted between Horsepower and Price \n",
        "\n"
      ]
    },
    {
      "cell_type": "code",
      "metadata": {
        "id": "XyuJjrGt461h",
        "colab_type": "code",
        "colab": {
          "base_uri": "https://localhost:8080/"
        },
        "outputId": "6a4ec79b-52bc-44ae-b3f6-6d7d91298b2d"
      },
      "source": [
        "#scatter plotted between Horse Power and Price\n",
        "\n",
        "plt.subplots(figsize=(14,7))\n",
        "plt.scatter(data['HP'],  data['Price'])\n",
        "plt.xlabel('HP')\n",
        "plt.ylabel('Price')\n",
        "plt.title(\"SCATTER PLOT \", weight= 'bold', fontsize=20, loc='left')\n"
      ],
      "execution_count": null,
      "outputs": [
        {
          "output_type": "execute_result",
          "data": {
            "text/plain": [
              "Text(0.0, 1.0, 'SCATTER PLOT ')"
            ]
          },
          "metadata": {
            "tags": []
          },
          "execution_count": 1383
        },
        {
          "output_type": "display_data",
          "data": {
            "image/png": "[encoded data removed]",
            "text/plain": [
              "<Figure size 1008x504 with 1 Axes>"
            ]
          },
          "metadata": {
            "tags": [],
            "needs_background": "light"
          }
        }
      ]
    },
    {
      "cell_type": "markdown",
      "metadata": {
        "id": "XKpCLjh_FTws",
        "colab_type": "text"
      },
      "source": [
        "> It is clearly seen that, as the Horse Power increases the Price of the car also increases"
      ]
    },
    {
      "cell_type": "markdown",
      "metadata": {
        "id": "bMVJ2ALjxuIu",
        "colab_type": "text"
      },
      "source": [
        "**BAR GRAPHS**"
      ]
    },
    {
      "cell_type": "markdown",
      "metadata": {
        "id": "6XVwhrRWx0TW",
        "colab_type": "text"
      },
      "source": [
        ">Bar graphs are easy to understand even by the common people, and that is main motive. So Bar graphs are most desired type"
      ]
    },
    {
      "cell_type": "code",
      "metadata": {
        "id": "Hnt0J2NXy9yV",
        "colab_type": "code",
        "colab": {
          "base_uri": "https://localhost:8080/"
        },
        "outputId": "587f95f3-709a-4d93-dd02-3e01c95de7b1"
      },
      "source": [
        "#bar graph plotted between  Year and  Price\n",
        "sns.barplot(data['Year'], data['Price'])"
      ],
      "execution_count": null,
      "outputs": [
        {
          "output_type": "execute_result",
          "data": {
            "text/plain": [
              "<matplotlib.axes._subplots.AxesSubplot at 0x7f8939b20128>"
            ]
          },
          "metadata": {
            "tags": []
          },
          "execution_count": 1384
        },
        {
          "output_type": "display_data",
          "data": {
            "image/png": "[encoded data removed]",
            "text/plain": [
              "<Figure size 432x288 with 1 Axes>"
            ]
          },
          "metadata": {
            "tags": [],
            "needs_background": "light"
          }
        }
      ]
    },
    {
      "cell_type": "markdown",
      "metadata": {
        "id": "q34ybz282LtV",
        "colab_type": "text"
      },
      "source": [
        ">It is clear that, the cost of cars is increasing as time passes\n",
        "i.e The Price increases as Years is passing"
      ]
    },
    {
      "cell_type": "code",
      "metadata": {
        "id": "Gu9ndST3_YML",
        "colab_type": "code",
        "colab": {
          "base_uri": "https://localhost:8080/"
        },
        "outputId": "bf8ab1c7-dbff-4713-e7d5-58b1c5cb829d"
      },
      "source": [
        "#plot between Popularity and Price\n",
        "\n",
        "sns.barplot(data['Popularity'], data['Price'])"
      ],
      "execution_count": null,
      "outputs": [
        {
          "output_type": "execute_result",
          "data": {
            "text/plain": [
              "<matplotlib.axes._subplots.AxesSubplot at 0x7f8939a1c668>"
            ]
          },
          "metadata": {
            "tags": []
          },
          "execution_count": 1385
        },
        {
          "output_type": "display_data",
          "data": {
            "image/png": "[encoded data removed]",
            "text/plain": [
              "<Figure size 432x288 with 1 Axes>"
            ]
          },
          "metadata": {
            "tags": [],
            "needs_background": "light"
          }
        }
      ]
    },
    {
      "cell_type": "markdown",
      "metadata": {
        "id": "PG_0SmxAClal",
        "colab_type": "text"
      },
      "source": [
        "Here there is variation in the trend , and there is little correlation between Popularity and Price"
      ]
    },
    {
      "cell_type": "code",
      "metadata": {
        "id": "xFUnYU4H8RUf",
        "colab_type": "code",
        "colab": {}
      },
      "source": [
        "#Creating a price range:\n",
        "\n",
        "#A new column by name price range is created\n",
        "data['price_range'] = pd.cut(data['Price'],[0,20000,40000,60000,80000,100000,600000], \n",
        "                                labels = ['<20K','20-39K','40-59K','60-79K','80-99K','>100K'], include_lowest = True)     #setting the range\n",
        "data['price_range'] = data['price_range'].astype(object)"
      ],
      "execution_count": null,
      "outputs": []
    },
    {
      "cell_type": "code",
      "metadata": {
        "id": "-obJKyzj953N",
        "colab_type": "code",
        "colab": {
          "base_uri": "https://localhost:8080/"
        },
        "outputId": "93c1fe7e-20a9-407f-9dea-00cabd708c23"
      },
      "source": [
        "(data['price_range'].value_counts() / len(data) *100).plot.bar(figsize=(14,7))\n",
        "plt.title(\"Price Range Bar Diagram\")\n",
        "plt.ylabel('Percentage Of Vehicles')\n",
        "plt.xlabel('Price Range');"
      ],
      "execution_count": null,
      "outputs": [
        {
          "output_type": "display_data",
          "data": {
            "image/png": "[encoded data removed]",
            "text/plain": [
              "<Figure size 1008x504 with 1 Axes>"
            ]
          },
          "metadata": {
            "tags": [],
            "needs_background": "light"
          }
        }
      ]
    },
    {
      "cell_type": "code",
      "metadata": {
        "id": "7d7z2XTHSxDv",
        "colab_type": "code",
        "colab": {}
      },
      "source": [
        "data.drop(['price_range'],axis=1,inplace=True)"
      ],
      "execution_count": null,
      "outputs": []
    },
    {
      "cell_type": "markdown",
      "metadata": {
        "id": "CS7DvpQK6ZEO",
        "colab_type": "text"
      },
      "source": [
        "**LINE PLOTS**"
      ]
    },
    {
      "cell_type": "markdown",
      "metadata": {
        "id": "eN5eKCLW6fea",
        "colab_type": "text"
      },
      "source": [
        ">Line graphs can give a quick analysis of data. You're able to quickly tell the range, minimum/maximum. "
      ]
    },
    {
      "cell_type": "code",
      "metadata": {
        "id": "EnXmum066We_",
        "colab_type": "code",
        "colab": {
          "base_uri": "https://localhost:8080/"
        },
        "outputId": "c0c26579-42a8-4075-c840-cf152a7ba067"
      },
      "source": [
        "#line graph between Cylinders and Price\n",
        "\n",
        "sns.lineplot(data['Cylinders'], data['Price'])"
      ],
      "execution_count": null,
      "outputs": [
        {
          "output_type": "execute_result",
          "data": {
            "text/plain": [
              "<matplotlib.axes._subplots.AxesSubplot at 0x7f893989e080>"
            ]
          },
          "metadata": {
            "tags": []
          },
          "execution_count": 1389
        },
        {
          "output_type": "display_data",
          "data": {
            "image/png": "[encoded data removed]",
            "text/plain": [
              "<Figure size 432x288 with 1 Axes>"
            ]
          },
          "metadata": {
            "tags": [],
            "needs_background": "light"
          }
        }
      ]
    },
    {
      "cell_type": "markdown",
      "metadata": {
        "id": "MeJ4XPBb8DPU",
        "colab_type": "text"
      },
      "source": [
        "Here also there is an increasing trend seen, as the cylinders increases the is an increase in the Price of the car"
      ]
    },
    {
      "cell_type": "code",
      "metadata": {
        "id": "HopKX6PM8a8K",
        "colab_type": "code",
        "colab": {
          "base_uri": "https://localhost:8080/"
        },
        "outputId": "92d4df42-afe0-4e35-fe2a-77515e3a00ac"
      },
      "source": [
        "#plot between MPG-H\tand Price\n",
        "\n",
        "sns.lineplot(data['MPG-H'], data['Price'])"
      ],
      "execution_count": null,
      "outputs": [
        {
          "output_type": "execute_result",
          "data": {
            "text/plain": [
              "<matplotlib.axes._subplots.AxesSubplot at 0x7f89397ea9e8>"
            ]
          },
          "metadata": {
            "tags": []
          },
          "execution_count": 1390
        },
        {
          "output_type": "display_data",
          "data": {
            "image/png": "[encoded data removed]",
            "text/plain": [
              "<Figure size 432x288 with 1 Axes>"
            ]
          },
          "metadata": {
            "tags": [],
            "needs_background": "light"
          }
        }
      ]
    },
    {
      "cell_type": "markdown",
      "metadata": {
        "id": "4I-IOi5w9VgB",
        "colab_type": "text"
      },
      "source": [
        ">Here, we see a lot of variation in the trend, and there is a decrease in the Price as there is an increase in the Highway MPG"
      ]
    },
    {
      "cell_type": "code",
      "metadata": {
        "id": "zGLtDUhhDBgs",
        "colab_type": "code",
        "colab": {
          "base_uri": "https://localhost:8080/"
        },
        "outputId": "10c38933-69ed-4951-d820-1cee60842733"
      },
      "source": [
        "#plot between MPG-C\tand Price\n",
        "\n",
        "sns.lineplot(data['MPG-C'], data['Price'])"
      ],
      "execution_count": null,
      "outputs": [
        {
          "output_type": "execute_result",
          "data": {
            "text/plain": [
              "<matplotlib.axes._subplots.AxesSubplot at 0x7f8939759860>"
            ]
          },
          "metadata": {
            "tags": []
          },
          "execution_count": 1391
        },
        {
          "output_type": "display_data",
          "data": {
            "image/png": "[encoded data removed]",
            "text/plain": [
              "<Figure size 432x288 with 1 Axes>"
            ]
          },
          "metadata": {
            "tags": [],
            "needs_background": "light"
          }
        }
      ]
    },
    {
      "cell_type": "markdown",
      "metadata": {
        "id": "j2zrO0TpDWpe",
        "colab_type": "text"
      },
      "source": [
        "Here we can see a negative trend i.e as the City MPG increases the Price decreases"
      ]
    },
    {
      "cell_type": "markdown",
      "metadata": {
        "id": "pp2rbPfL_cBt",
        "colab_type": "text"
      },
      "source": [
        "**CONCLUSION:**\n",
        "> Price of the car increases when:\n",
        "              \n",
        "              1. Horse Power increases.                          \n",
        "              2. As Years are passing.\n",
        "              3. Cylinders increases.\n",
        "              4. Highway and City MPG decreases.\n",
        "                      \n",
        "\n",
        "\n"
      ]
    },
    {
      "cell_type": "markdown",
      "metadata": {
        "id": "jvfn1TQWFGmB",
        "colab_type": "text"
      },
      "source": [
        "# **9**. Building a Machine Learning Model:"
      ]
    },
    {
      "cell_type": "code",
      "metadata": {
        "id": "iKCiXOMib6FD",
        "colab_type": "code",
        "colab": {}
      },
      "source": [
        "#importing the required libraries \n",
        "from sklearn.preprocessing import StandardScaler            #It basically helps to normalise the data within a particular range\n",
        "\n",
        "from sklearn.model_selection import train_test_split        #It is used to splot the data into train and test set     \n",
        "\n",
        "from sklearn.preprocessing import LabelEncoder              #It can also be used to transform non-numerical labels to numerical labels\n",
        "\n",
        "from sklearn.preprocessing import OneHotEncoder             #Used to Encode categorical features as a one-hot numeric array\n",
        "\n",
        "from sklearn.linear_model import LinearRegression           #It is used to perform the regression task\n",
        "\n",
        "from sklearn import metrics                                 #It is used for analysing the result parameter"
      ],
      "execution_count": null,
      "outputs": []
    },
    {
      "cell_type": "markdown",
      "metadata": {
        "id": "LPaoXUfzObFt",
        "colab_type": "text"
      },
      "source": [
        "**Encoading:**\n",
        "\n",
        ">Categorical data that needs to be encoded is converted into Numerical type by using LabelEncoder."
      ]
    },
    {
      "cell_type": "code",
      "metadata": {
        "id": "f5Ip3ovqWDAm",
        "colab_type": "code",
        "colab": {
          "base_uri": "https://localhost:8080/",
          "height": 68
        },
        "outputId": "59c6c544-25dd-4bf2-8c46-132ab9c3d0a7"
      },
      "source": [
        " enc= data.select_dtypes(exclude=[np.number]).columns\n",
        "enc"
      ],
      "execution_count": null,
      "outputs": [
        {
          "output_type": "execute_result",
          "data": {
            "text/plain": [
              "Index(['Make', 'Model', 'Engine Fuel Type', 'Transmission', 'Drive Mode',\n",
              "       'Vehicle Size', 'Vehicle Style'],\n",
              "      dtype='object')"
            ]
          },
          "metadata": {
            "tags": []
          },
          "execution_count": 1393
        }
      ]
    },
    {
      "cell_type": "code",
      "metadata": {
        "id": "GjVTHtovOamx",
        "colab_type": "code",
        "colab": {
          "base_uri": "https://localhost:8080/",
          "height": 204
        },
        "outputId": "3dbd8dff-b203-41b5-ecea-b7803d8d3472"
      },
      "source": [
        "label_encoder = LabelEncoder()\n",
        "for i in enc:\n",
        "  data[i] = label_encoader.fit_transform(data[i])\n",
        "\n",
        "data.head(5)"
      ],
      "execution_count": null,
      "outputs": [
        {
          "output_type": "execute_result",
          "data": {
            "text/html": [
              "<div>\n",
              "<style scoped>\n",
              "    .dataframe tbody tr th:only-of-type {\n",
              "        vertical-align: middle;\n",
              "    }\n",
              "\n",
              "    .dataframe tbody tr th {\n",
              "        vertical-align: top;\n",
              "    }\n",
              "\n",
              "    .dataframe thead th {\n",
              "        text-align: right;\n",
              "    }\n",
              "</style>\n",
              "<table border=\"1\" class=\"dataframe\">\n",
              "  <thead>\n",
              "    <tr style=\"text-align: right;\">\n",
              "      <th></th>\n",
              "      <th>Make</th>\n",
              "      <th>Model</th>\n",
              "      <th>Year</th>\n",
              "      <th>Engine Fuel Type</th>\n",
              "      <th>HP</th>\n",
              "      <th>Cylinders</th>\n",
              "      <th>Transmission</th>\n",
              "      <th>Drive Mode</th>\n",
              "      <th>Vehicle Size</th>\n",
              "      <th>Vehicle Style</th>\n",
              "      <th>MPG-H</th>\n",
              "      <th>MPG-C</th>\n",
              "      <th>Popularity</th>\n",
              "      <th>Price</th>\n",
              "    </tr>\n",
              "  </thead>\n",
              "  <tbody>\n",
              "    <tr>\n",
              "      <th>0</th>\n",
              "      <td>3</td>\n",
              "      <td>1</td>\n",
              "      <td>2011</td>\n",
              "      <td>6</td>\n",
              "      <td>335.0</td>\n",
              "      <td>6.0</td>\n",
              "      <td>2</td>\n",
              "      <td>3</td>\n",
              "      <td>0</td>\n",
              "      <td>8</td>\n",
              "      <td>26</td>\n",
              "      <td>19</td>\n",
              "      <td>3916</td>\n",
              "      <td>46135</td>\n",
              "    </tr>\n",
              "    <tr>\n",
              "      <th>1</th>\n",
              "      <td>3</td>\n",
              "      <td>0</td>\n",
              "      <td>2011</td>\n",
              "      <td>6</td>\n",
              "      <td>300.0</td>\n",
              "      <td>6.0</td>\n",
              "      <td>2</td>\n",
              "      <td>3</td>\n",
              "      <td>0</td>\n",
              "      <td>6</td>\n",
              "      <td>28</td>\n",
              "      <td>19</td>\n",
              "      <td>3916</td>\n",
              "      <td>40650</td>\n",
              "    </tr>\n",
              "    <tr>\n",
              "      <th>2</th>\n",
              "      <td>3</td>\n",
              "      <td>0</td>\n",
              "      <td>2011</td>\n",
              "      <td>6</td>\n",
              "      <td>300.0</td>\n",
              "      <td>6.0</td>\n",
              "      <td>2</td>\n",
              "      <td>3</td>\n",
              "      <td>0</td>\n",
              "      <td>8</td>\n",
              "      <td>28</td>\n",
              "      <td>20</td>\n",
              "      <td>3916</td>\n",
              "      <td>36350</td>\n",
              "    </tr>\n",
              "    <tr>\n",
              "      <th>3</th>\n",
              "      <td>3</td>\n",
              "      <td>0</td>\n",
              "      <td>2011</td>\n",
              "      <td>6</td>\n",
              "      <td>230.0</td>\n",
              "      <td>6.0</td>\n",
              "      <td>2</td>\n",
              "      <td>3</td>\n",
              "      <td>0</td>\n",
              "      <td>8</td>\n",
              "      <td>28</td>\n",
              "      <td>18</td>\n",
              "      <td>3916</td>\n",
              "      <td>29450</td>\n",
              "    </tr>\n",
              "    <tr>\n",
              "      <th>4</th>\n",
              "      <td>3</td>\n",
              "      <td>0</td>\n",
              "      <td>2011</td>\n",
              "      <td>6</td>\n",
              "      <td>230.0</td>\n",
              "      <td>6.0</td>\n",
              "      <td>2</td>\n",
              "      <td>3</td>\n",
              "      <td>0</td>\n",
              "      <td>6</td>\n",
              "      <td>28</td>\n",
              "      <td>18</td>\n",
              "      <td>3916</td>\n",
              "      <td>34500</td>\n",
              "    </tr>\n",
              "  </tbody>\n",
              "</table>\n",
              "</div>"
            ],
            "text/plain": [
              "   Make  Model  Year  Engine Fuel Type  ...  MPG-H  MPG-C  Popularity  Price\n",
              "0     3      1  2011                 6  ...     26     19        3916  46135\n",
              "1     3      0  2011                 6  ...     28     19        3916  40650\n",
              "2     3      0  2011                 6  ...     28     20        3916  36350\n",
              "3     3      0  2011                 6  ...     28     18        3916  29450\n",
              "4     3      0  2011                 6  ...     28     18        3916  34500\n",
              "\n",
              "[5 rows x 14 columns]"
            ]
          },
          "metadata": {
            "tags": []
          },
          "execution_count": 1394
        }
      ]
    },
    {
      "cell_type": "code",
      "metadata": {
        "id": "Uo2bDp1XcQ0n",
        "colab_type": "code",
        "colab": {
          "base_uri": "https://localhost:8080/",
          "height": 374
        },
        "outputId": "b22ae804-1dd3-4b4e-f732-5f4dc7915880"
      },
      "source": [
        "data.info()"
      ],
      "execution_count": null,
      "outputs": [
        {
          "output_type": "stream",
          "text": [
            "<class 'pandas.core.frame.DataFrame'>\n",
            "Int64Index: 8608 entries, 0 to 11913\n",
            "Data columns (total 14 columns):\n",
            " #   Column            Non-Null Count  Dtype  \n",
            "---  ------            --------------  -----  \n",
            " 0   Make              8608 non-null   int64  \n",
            " 1   Model             8608 non-null   int64  \n",
            " 2   Year              8608 non-null   int64  \n",
            " 3   Engine Fuel Type  8608 non-null   int64  \n",
            " 4   HP                8608 non-null   float64\n",
            " 5   Cylinders         8608 non-null   float64\n",
            " 6   Transmission      8608 non-null   int64  \n",
            " 7   Drive Mode        8608 non-null   int64  \n",
            " 8   Vehicle Size      8608 non-null   int64  \n",
            " 9   Vehicle Style     8608 non-null   int64  \n",
            " 10  MPG-H             8608 non-null   int64  \n",
            " 11  MPG-C             8608 non-null   int64  \n",
            " 12  Popularity        8608 non-null   int64  \n",
            " 13  Price             8608 non-null   int64  \n",
            "dtypes: float64(2), int64(12)\n",
            "memory usage: 1.3 MB\n"
          ],
          "name": "stdout"
        }
      ]
    },
    {
      "cell_type": "code",
      "metadata": {
        "id": "MnYrxiwi6L2p",
        "colab_type": "code",
        "colab": {}
      },
      "source": [
        "X = data[['Popularity', 'Year', 'HP', 'Cylinders', 'MPG-H', 'MPG-C',\n",
        "          'Vehicle Style','Vehicle Size','Drive Mode', 'Transmission','Engine Fuel Type','Model','Make' ]].values\n",
        "y = data['Price'].values"
      ],
      "execution_count": null,
      "outputs": []
    },
    {
      "cell_type": "markdown",
      "metadata": {
        "id": "obfAywliefdY",
        "colab_type": "text"
      },
      "source": [
        ">**Feature Scaling** is a technique to standardize the independent features present in the data in a fixed range"
      ]
    },
    {
      "cell_type": "code",
      "metadata": {
        "id": "dSD-g9cn7zo3",
        "colab_type": "code",
        "colab": {}
      },
      "source": [
        "# Feature Scaling:\n",
        "\n",
        "std_X = StandardScaler()                           #StandardScaler() function Standardize features by removing the mean and scaling to unit variance\n",
        "std_y = StandardScaler()\n",
        "X = std_X.fit_transform(X)                         \n",
        "y = std_y.fit_transform(y.reshape(-1,1))   \n",
        "       "
      ],
      "execution_count": null,
      "outputs": []
    },
    {
      "cell_type": "markdown",
      "metadata": {
        "id": "hK7ahfmJg8Zu",
        "colab_type": "text"
      },
      "source": [
        "**9**.1 **Splitting The Data:**\n",
        ">We separate a data set into a training set and testing set, most of the data is used for training, and a smaller portion of the data is used for testing"
      ]
    },
    {
      "cell_type": "code",
      "metadata": {
        "id": "274i_VVDcXZ7",
        "colab_type": "code",
        "colab": {
          "base_uri": "https://localhost:8080/",
          "height": 51
        },
        "outputId": "c13690d5-c942-4dde-f5bd-7c5e5da1efe6"
      },
      "source": [
        "X_train, X_test, y_train, y_test = train_test_split (X,y, test_size= 0.2, random_state= 0 )       #test size is taken as 20%\n",
        "\n",
        "print(X_train.shape, y_train.shape)                                           #checking the shape of training and testing set         \n",
        "print(X_test.shape, y_test.shape)                      "
      ],
      "execution_count": null,
      "outputs": [
        {
          "output_type": "stream",
          "text": [
            "(6886, 13) (6886, 1)\n",
            "(1722, 13) (1722, 1)\n"
          ],
          "name": "stdout"
        }
      ]
    },
    {
      "cell_type": "markdown",
      "metadata": {
        "id": "pTj7UMfQhl-s",
        "colab_type": "text"
      },
      "source": [
        "**9**.2 **Building a Machine Learning Model:**"
      ]
    },
    {
      "cell_type": "markdown",
      "metadata": {
        "id": "hGsZbIrBl59p",
        "colab_type": "text"
      },
      "source": [
        ">If response variable is affected by more than one predictor variable, for such cases, the Multiple Linear Regression algorithm is used. Here the Price is effected by many other variables like HP, Cylinders....etc"
      ]
    },
    {
      "cell_type": "code",
      "metadata": {
        "id": "qf-xrzcUhyjc",
        "colab_type": "code",
        "colab": {
          "base_uri": "https://localhost:8080/",
          "height": 34
        },
        "outputId": "d6d90432-7cac-4c2f-f5fd-a3317b2d5807"
      },
      "source": [
        "#Fitting Multiple Linear Regression to the Training set\n",
        "model = LinearRegression()\n",
        "model.fit(X_train,y_train)"
      ],
      "execution_count": null,
      "outputs": [
        {
          "output_type": "execute_result",
          "data": {
            "text/plain": [
              "LinearRegression(copy_X=True, fit_intercept=True, n_jobs=None, normalize=False)"
            ]
          },
          "metadata": {
            "tags": []
          },
          "execution_count": 1399
        }
      ]
    },
    {
      "cell_type": "code",
      "metadata": {
        "id": "9wl9EFdfqe13",
        "colab_type": "code",
        "colab": {
          "base_uri": "https://localhost:8080/",
          "height": 445
        },
        "outputId": "96c67059-86bc-4855-b53c-e211d3619ffc"
      },
      "source": [
        "# Predicting the Test set results\n",
        "y_pred = model.predict(X_test)\n",
        "fig,ax = plt.subplots(figsize=(15,7))\n",
        "plt.scatter(y_test,y_pred)            #plotting graph between the test set and predicted set\n"
      ],
      "execution_count": null,
      "outputs": [
        {
          "output_type": "execute_result",
          "data": {
            "text/plain": [
              "<matplotlib.collections.PathCollection at 0x7f89397c4a90>"
            ]
          },
          "metadata": {
            "tags": []
          },
          "execution_count": 1400
        },
        {
          "output_type": "display_data",
          "data": {
            "image/png": "[encoded data removed]",
            "text/plain": [
              "<Figure size 1080x504 with 1 Axes>"
            ]
          },
          "metadata": {
            "tags": [],
            "needs_background": "light"
          }
        }
      ]
    },
    {
      "cell_type": "code",
      "metadata": {
        "id": "8g05qhTuuwzi",
        "colab_type": "code",
        "colab": {
          "base_uri": "https://localhost:8080/",
          "height": 391
        },
        "outputId": "15c96a71-095a-467c-882a-a5e4a62987a4"
      },
      "source": [
        "fig, ax = plt.subplots(figsize=(12,6))\n",
        "sns.distplot(y_test - y_pred, bins=50)"
      ],
      "execution_count": null,
      "outputs": [
        {
          "output_type": "execute_result",
          "data": {
            "text/plain": [
              "<matplotlib.axes._subplots.AxesSubplot at 0x7f89396a2a58>"
            ]
          },
          "metadata": {
            "tags": []
          },
          "execution_count": 1401
        },
        {
          "output_type": "display_data",
          "data": {
            "image/png": "[encoded data removed]",
            "text/plain": [
              "<Figure size 864x432 with 1 Axes>"
            ]
          },
          "metadata": {
            "tags": [],
            "needs_background": "light"
          }
        }
      ]
    },
    {
      "cell_type": "markdown",
      "metadata": {
        "id": "GKOEo9ZbwcEY",
        "colab_type": "text"
      },
      "source": [
        ">R-Squared value helps us to predict how effective out algorithm is.\n",
        "R-Squared is a statistical measure of fit that indicates how much variation of a dependent variable is explained by the independent variable(s) in a regression model."
      ]
    },
    {
      "cell_type": "code",
      "metadata": {
        "id": "y1_0-37YwcwV",
        "colab_type": "code",
        "colab": {
          "base_uri": "https://localhost:8080/",
          "height": 85
        },
        "outputId": "81b3253c-3a15-42e5-9644-26a4bf232d61"
      },
      "source": [
        "#Analysing the result parameter\n",
        "\n",
        "print('R2 Score:', metrics.r2_score(y_test, y_pred))\n",
        "print('Mean Absolute Error:', metrics.mean_absolute_error(y_test, y_pred))  \n",
        "print('Mean Squared Error:', metrics.mean_squared_error(y_test, y_pred))\n",
        "print('Root Mean Squared Error:', np.sqrt(metrics.mean_squared_error(y_test, y_pred)))\n"
      ],
      "execution_count": null,
      "outputs": [
        {
          "output_type": "stream",
          "text": [
            "R2 Score: 0.6798953801128838\n",
            "Mean Absolute Error: 0.4238319831896466\n",
            "Mean Squared Error: 0.303908348139464\n",
            "Root Mean Squared Error: 0.5512788297581034\n"
          ],
          "name": "stdout"
        }
      ]
    },
    {
      "cell_type": "markdown",
      "metadata": {
        "id": "McfGoWSp0PFa",
        "colab_type": "text"
      },
      "source": [
        "# **10**. Spot Checking Algorithms:"
      ]
    },
    {
      "cell_type": "markdown",
      "metadata": {
        "id": "_tWm592Szbfp",
        "colab_type": "text"
      },
      "source": [
        "**10**.1 **Decision Tree Regression:**\n",
        ">Decision tree regression observes features of an object and trains a model in the structure of a tree to predict data in the future to produce meaningful continuous output"
      ]
    },
    {
      "cell_type": "code",
      "metadata": {
        "id": "v8nhxr8ZzjKX",
        "colab_type": "code",
        "colab": {
          "base_uri": "https://localhost:8080/",
          "height": 119
        },
        "outputId": "c7879055-d1c6-4f3a-b953-abb134d69626"
      },
      "source": [
        "from sklearn.tree import DecisionTreeRegressor            #importing libraries\n",
        "\n",
        "regressor = DecisionTreeRegressor()\n",
        "regressor.fit(X_train,y_train)                            #Fitting Decision Tree Regression to the data set"
      ],
      "execution_count": null,
      "outputs": [
        {
          "output_type": "execute_result",
          "data": {
            "text/plain": [
              "DecisionTreeRegressor(ccp_alpha=0.0, criterion='mse', max_depth=None,\n",
              "                      max_features=None, max_leaf_nodes=None,\n",
              "                      min_impurity_decrease=0.0, min_impurity_split=None,\n",
              "                      min_samples_leaf=1, min_samples_split=2,\n",
              "                      min_weight_fraction_leaf=0.0, presort='deprecated',\n",
              "                      random_state=None, splitter='best')"
            ]
          },
          "metadata": {
            "tags": []
          },
          "execution_count": 1403
        }
      ]
    },
    {
      "cell_type": "code",
      "metadata": {
        "id": "MvRKAE_h-4-j",
        "colab_type": "code",
        "colab": {
          "base_uri": "https://localhost:8080/",
          "height": 51
        },
        "outputId": "964072ad-05f4-4ae3-f9cf-e548b597f77d"
      },
      "source": [
        "#making new prediction with Decision Tree Regression\n",
        "y_pred = regressor.predict(X_test)\n",
        "y_pred"
      ],
      "execution_count": null,
      "outputs": [
        {
          "output_type": "execute_result",
          "data": {
            "text/plain": [
              "array([-0.52291026,  1.35472859,  0.24899327, ...,  0.95360265,\n",
              "       -0.98501877, -1.02266831])"
            ]
          },
          "metadata": {
            "tags": []
          },
          "execution_count": 1404
        }
      ]
    },
    {
      "cell_type": "code",
      "metadata": {
        "id": "adtvpXWE_sne",
        "colab_type": "code",
        "colab": {
          "base_uri": "https://localhost:8080/",
          "height": 391
        },
        "outputId": "3aa63cd8-88c3-416a-99f7-35bd3bf348c3"
      },
      "source": [
        "#visualising the result using scatterplot\n",
        "plt.subplots(figsize=(12,6))\n",
        "plt.scatter(y_test, y_pred)"
      ],
      "execution_count": null,
      "outputs": [
        {
          "output_type": "execute_result",
          "data": {
            "text/plain": [
              "<matplotlib.collections.PathCollection at 0x7f89396c9390>"
            ]
          },
          "metadata": {
            "tags": []
          },
          "execution_count": 1405
        },
        {
          "output_type": "display_data",
          "data": {
            "image/png": "[encoded data removed]",
            "text/plain": [
              "<Figure size 864x432 with 1 Axes>"
            ]
          },
          "metadata": {
            "tags": [],
            "needs_background": "light"
          }
        }
      ]
    },
    {
      "cell_type": "code",
      "metadata": {
        "id": "Xun8HMFgAXP3",
        "colab_type": "code",
        "colab": {
          "base_uri": "https://localhost:8080/",
          "height": 391
        },
        "outputId": "c41ddfe0-879f-4a7a-be82-cb6830a8be50"
      },
      "source": [
        "plt.subplots(figsize=(12,6))\n",
        "sns.distplot(y_test-y_pred, bins= 50)"
      ],
      "execution_count": null,
      "outputs": [
        {
          "output_type": "execute_result",
          "data": {
            "text/plain": [
              "<matplotlib.axes._subplots.AxesSubplot at 0x7f893955c3c8>"
            ]
          },
          "metadata": {
            "tags": []
          },
          "execution_count": 1406
        },
        {
          "output_type": "display_data",
          "data": {
            "image/png": "[encoded data removed]",
            "text/plain": [
              "<Figure size 864x432 with 1 Axes>"
            ]
          },
          "metadata": {
            "tags": [],
            "needs_background": "light"
          }
        }
      ]
    },
    {
      "cell_type": "code",
      "metadata": {
        "id": "7ZcTXsR_FpLA",
        "colab_type": "code",
        "colab": {
          "base_uri": "https://localhost:8080/",
          "height": 85
        },
        "outputId": "4158be5c-aa55-458c-b3ff-d0e0b01364eb"
      },
      "source": [
        "print('R2 Score:', metrics.r2_score(y_test, y_pred))\n",
        "print('Mean Absolute Error:', metrics.mean_absolute_error(y_test, y_pred))  \n",
        "print('Mean Squared Error:', metrics.mean_squared_error(y_test, y_pred))\n",
        "print('Root Mean Squared Error:', np.sqrt(metrics.mean_squared_error(y_test, y_pred)))\n"
      ],
      "execution_count": null,
      "outputs": [
        {
          "output_type": "stream",
          "text": [
            "R2 Score: 0.9348915952000758\n",
            "Mean Absolute Error: 0.17062394008416282\n",
            "Mean Squared Error: 0.061814127392845315\n",
            "Root Mean Squared Error: 0.24862447062355972\n"
          ],
          "name": "stdout"
        }
      ]
    },
    {
      "cell_type": "markdown",
      "metadata": {
        "id": "hGEYUN09OldY",
        "colab_type": "text"
      },
      "source": [
        ">Here by using Decision Tree, we can see a good improvement in the R- square value."
      ]
    },
    {
      "cell_type": "markdown",
      "metadata": {
        "id": "PU1DC3LBRKH3",
        "colab_type": "text"
      },
      "source": [
        "**10**.2 **Random Forest Regression**"
      ]
    },
    {
      "cell_type": "markdown",
      "metadata": {
        "id": "JiSU4M7LO1bq",
        "colab_type": "text"
      },
      "source": [
        ">It is made up of many Decision Trees i.e it is an ensemble of Decision Trees"
      ]
    },
    {
      "cell_type": "code",
      "metadata": {
        "id": "bO1TfpodPYn2",
        "colab_type": "code",
        "colab": {
          "base_uri": "https://localhost:8080/",
          "height": 190
        },
        "outputId": "506007fc-b147-4cee-ad1e-bc8e1e7fd76f"
      },
      "source": [
        "from sklearn.ensemble import RandomForestRegressor        #importing the libraries\n",
        "\n",
        "regressor = RandomForestRegressor()                       \n",
        "regressor.fit(X_train, y_train)                           #Fitting Random Forest Regression to the data set  \n"
      ],
      "execution_count": null,
      "outputs": [
        {
          "output_type": "stream",
          "text": [
            "/usr/local/lib/python3.6/dist-packages/ipykernel_launcher.py:4: DataConversionWarning: A column-vector y was passed when a 1d array was expected. Please change the shape of y to (n_samples,), for example using ravel().\n",
            "  after removing the cwd from sys.path.\n"
          ],
          "name": "stderr"
        },
        {
          "output_type": "execute_result",
          "data": {
            "text/plain": [
              "RandomForestRegressor(bootstrap=True, ccp_alpha=0.0, criterion='mse',\n",
              "                      max_depth=None, max_features='auto', max_leaf_nodes=None,\n",
              "                      max_samples=None, min_impurity_decrease=0.0,\n",
              "                      min_impurity_split=None, min_samples_leaf=1,\n",
              "                      min_samples_split=2, min_weight_fraction_leaf=0.0,\n",
              "                      n_estimators=100, n_jobs=None, oob_score=False,\n",
              "                      random_state=None, verbose=0, warm_start=False)"
            ]
          },
          "metadata": {
            "tags": []
          },
          "execution_count": 1408
        }
      ]
    },
    {
      "cell_type": "code",
      "metadata": {
        "id": "qp7TSLk1S2uS",
        "colab_type": "code",
        "colab": {
          "base_uri": "https://localhost:8080/",
          "height": 51
        },
        "outputId": "28f09c23-510f-4a8b-a2df-85af1fff0d82"
      },
      "source": [
        "#Making new prediction with random forest regression\n",
        "y_pred = regressor.predict(X_test)\n",
        "y_pred"
      ],
      "execution_count": null,
      "outputs": [
        {
          "output_type": "execute_result",
          "data": {
            "text/plain": [
              "array([-0.47459671,  1.45566696,  0.24301377, ...,  0.81023861,\n",
              "       -1.01441237, -1.04041681])"
            ]
          },
          "metadata": {
            "tags": []
          },
          "execution_count": 1409
        }
      ]
    },
    {
      "cell_type": "code",
      "metadata": {
        "id": "7S_6p20CTHMk",
        "colab_type": "code",
        "colab": {
          "base_uri": "https://localhost:8080/",
          "height": 394
        },
        "outputId": "ac4337fc-c6d0-4faf-cf4a-9d70992a3ecd"
      },
      "source": [
        "#Visualising using scatterplot\n",
        "plt.subplots(figsize=(12,6))                      \n",
        "plt.scatter(y_test,y_pred)"
      ],
      "execution_count": null,
      "outputs": [
        {
          "output_type": "execute_result",
          "data": {
            "text/plain": [
              "<matplotlib.collections.PathCollection at 0x7f89394b7cf8>"
            ]
          },
          "metadata": {
            "tags": []
          },
          "execution_count": 1410
        },
        {
          "output_type": "display_data",
          "data": {
            "image/png": "[encoded data removed]",
            "text/plain": [
              "<Figure size 864x432 with 1 Axes>"
            ]
          },
          "metadata": {
            "tags": [],
            "needs_background": "light"
          }
        }
      ]
    },
    {
      "cell_type": "code",
      "metadata": {
        "id": "Hfxuyaf7TNkD",
        "colab_type": "code",
        "colab": {
          "base_uri": "https://localhost:8080/",
          "height": 391
        },
        "outputId": "ac62b977-d1fc-4bf7-9818-fb658d36774d"
      },
      "source": [
        "plt.subplots(figsize=(12,6))\n",
        "sns.distplot(y_test-y_pred, bins = 50)"
      ],
      "execution_count": null,
      "outputs": [
        {
          "output_type": "execute_result",
          "data": {
            "text/plain": [
              "<matplotlib.axes._subplots.AxesSubplot at 0x7f893942ce80>"
            ]
          },
          "metadata": {
            "tags": []
          },
          "execution_count": 1411
        },
        {
          "output_type": "display_data",
          "data": {
            "image/png": "[encoded data removed]",
            "text/plain": [
              "<Figure size 864x432 with 1 Axes>"
            ]
          },
          "metadata": {
            "tags": [],
            "needs_background": "light"
          }
        }
      ]
    },
    {
      "cell_type": "code",
      "metadata": {
        "id": "vt8BscbFTapS",
        "colab_type": "code",
        "colab": {
          "base_uri": "https://localhost:8080/",
          "height": 85
        },
        "outputId": "641138af-be79-489b-a23e-563d76572f36"
      },
      "source": [
        "print('R2 Score:', metrics.r2_score(y_test, y_pred))\n",
        "print('Mean Absolute Error:', metrics.mean_absolute_error(y_test, y_pred))  \n",
        "print('Mean Squared Error:', metrics.mean_squared_error(y_test, y_pred))\n",
        "print('Root Mean Squared Error:', np.sqrt(metrics.mean_squared_error(y_test, y_pred)))\n"
      ],
      "execution_count": null,
      "outputs": [
        {
          "output_type": "stream",
          "text": [
            "R2 Score: 0.9449879482880217\n",
            "Mean Absolute Error: 0.16484705658031204\n",
            "Mean Squared Error: 0.05222861753587273\n",
            "Root Mean Squared Error: 0.22853581237056203\n"
          ],
          "name": "stdout"
        }
      ]
    },
    {
      "cell_type": "markdown",
      "metadata": {
        "id": "uFQWCdgjUw72",
        "colab_type": "text"
      },
      "source": [
        ">By doing Random Forest we can see a slight increase in the R-square score when compared to Decession tree"
      ]
    },
    {
      "cell_type": "markdown",
      "metadata": {
        "id": "MeNlFqhsVk7W",
        "colab_type": "text"
      },
      "source": [
        "**10**.3 **K-Nearest Neighbors**\n",
        ">The KNN algorithm assumes that similar things exist in close proximity. In other words, similar things are near to each other.\n"
      ]
    },
    {
      "cell_type": "code",
      "metadata": {
        "id": "KOH37PaiVHwt",
        "colab_type": "code",
        "colab": {
          "base_uri": "https://localhost:8080/",
          "height": 272
        },
        "outputId": "54683af2-0c34-4b79-be02-401e36b7818d"
      },
      "source": [
        "from sklearn import neighbors\n",
        "rmse_val = []                                                        #to store rmse values for different k\n",
        "for K in range(15):\n",
        "    K = K+1\n",
        "    model = neighbors.KNeighborsRegressor(n_neighbors = K)\n",
        "\n",
        "    model.fit(X_train, y_train)                                      #fit the model\n",
        "    y_pred=model.predict(X_test)                                     #make prediction on test set\n",
        "    error = np.sqrt(mean_squared_error(y_test,y_pred))               #calculate rmse\n",
        "    rmse_val.append(error)                                           #store rmse values\n",
        "    print('RMSE value for k= ' , K , 'is:', error)"
      ],
      "execution_count": null,
      "outputs": [
        {
          "output_type": "stream",
          "text": [
            "RMSE value for k=  1 is: 0.30020190650626727\n",
            "RMSE value for k=  2 is: 0.2873153599360304\n",
            "RMSE value for k=  3 is: 0.2874022854724297\n",
            "RMSE value for k=  4 is: 0.29761262391219445\n",
            "RMSE value for k=  5 is: 0.3036255433084669\n",
            "RMSE value for k=  6 is: 0.31071273880948114\n",
            "RMSE value for k=  7 is: 0.3239718706604873\n",
            "RMSE value for k=  8 is: 0.3372040389117077\n",
            "RMSE value for k=  9 is: 0.34646265634911944\n",
            "RMSE value for k=  10 is: 0.3553027493755336\n",
            "RMSE value for k=  11 is: 0.36631446815598206\n",
            "RMSE value for k=  12 is: 0.3761717657608661\n",
            "RMSE value for k=  13 is: 0.38333445496707924\n",
            "RMSE value for k=  14 is: 0.3907987484054997\n",
            "RMSE value for k=  15 is: 0.3961052604918853\n"
          ],
          "name": "stdout"
        }
      ]
    },
    {
      "cell_type": "code",
      "metadata": {
        "id": "rWA63uUjY9Nw",
        "colab_type": "code",
        "colab": {
          "base_uri": "https://localhost:8080/",
          "height": 284
        },
        "outputId": "0d03dfb0-becb-4d9d-c917-e2dc28c5cfb6"
      },
      "source": [
        "#plotting the rmse values against k values\n",
        "curve = pd.DataFrame(rmse_val)                #elbow curve \n",
        "curve.plot()\n"
      ],
      "execution_count": null,
      "outputs": [
        {
          "output_type": "execute_result",
          "data": {
            "text/plain": [
              "<matplotlib.axes._subplots.AxesSubplot at 0x7f893935fe80>"
            ]
          },
          "metadata": {
            "tags": []
          },
          "execution_count": 1414
        },
        {
          "output_type": "display_data",
          "data": {
            "image/png": "[encoded data removed]",
            "text/plain": [
              "<Figure size 432x288 with 1 Axes>"
            ]
          },
          "metadata": {
            "tags": [],
            "needs_background": "light"
          }
        }
      ]
    },
    {
      "cell_type": "markdown",
      "metadata": {
        "id": "TY4AUvBJZ3Cj",
        "colab_type": "text"
      },
      "source": [
        ">The RMSE value decreases as we increase the k value. At k= 2, the RMSE is approximately 0.2873153, and shoots up on further increasing the k value. We can safely say that k=2 will give us the best result in this case."
      ]
    },
    {
      "cell_type": "code",
      "metadata": {
        "id": "gE0TPZTxaB1U",
        "colab_type": "code",
        "colab": {
          "base_uri": "https://localhost:8080/",
          "height": 85
        },
        "outputId": "a67818b7-e1ed-41b6-eb3c-91ceec72d26b"
      },
      "source": [
        "print('R2 Score:', metrics.r2_score(y_test, y_pred))\n",
        "print('Mean Absolute Error:', metrics.mean_absolute_error(y_test, y_pred))  \n",
        "print('Mean Squared Error:', metrics.mean_squared_error(y_test, y_pred))\n",
        "print('Root Mean Squared Error:', np.sqrt(metrics.mean_squared_error(y_test, y_pred)))\n"
      ],
      "execution_count": null,
      "outputs": [
        {
          "output_type": "stream",
          "text": [
            "R2 Score: 0.8347389406470227\n",
            "Mean Absolute Error: 0.2792851161187554\n",
            "Mean Squared Error: 0.15689937738934434\n",
            "Root Mean Squared Error: 0.3961052604918853\n"
          ],
          "name": "stdout"
        }
      ]
    },
    {
      "cell_type": "markdown",
      "metadata": {
        "id": "lQWb-Rvfb6FP",
        "colab_type": "text"
      },
      "source": [
        ">Using K-NN the R-Square value is fair, but it is lower than that of Random Forest"
      ]
    },
    {
      "cell_type": "markdown",
      "metadata": {
        "id": "dEXoizF9cbYU",
        "colab_type": "text"
      },
      "source": [
        "**10**.4  **Support Vector Machine - Regression (SVR)**:\n",
        ">SVM works relatively well when there is clear margin of separation between classes.\n",
        "SVM is more effective in high dimensional spaces."
      ]
    },
    {
      "cell_type": "code",
      "metadata": {
        "id": "uPCAbkDpbsSO",
        "colab_type": "code",
        "colab": {
          "base_uri": "https://localhost:8080/",
          "height": 105
        },
        "outputId": "ac2538bb-dc16-43d4-befc-d0716eb52e17"
      },
      "source": [
        "#importing the libraries \n",
        "from sklearn.svm import SVR\n",
        "\n",
        "regressor = SVR(kernel = 'rbf')\n",
        "regressor.fit(X_train, y_train)"
      ],
      "execution_count": null,
      "outputs": [
        {
          "output_type": "stream",
          "text": [
            "/usr/local/lib/python3.6/dist-packages/sklearn/utils/validation.py:760: DataConversionWarning: A column-vector y was passed when a 1d array was expected. Please change the shape of y to (n_samples, ), for example using ravel().\n",
            "  y = column_or_1d(y, warn=True)\n"
          ],
          "name": "stderr"
        },
        {
          "output_type": "execute_result",
          "data": {
            "text/plain": [
              "SVR(C=1.0, cache_size=200, coef0=0.0, degree=3, epsilon=0.1, gamma='scale',\n",
              "    kernel='rbf', max_iter=-1, shrinking=True, tol=0.001, verbose=False)"
            ]
          },
          "metadata": {
            "tags": []
          },
          "execution_count": 1422
        }
      ]
    },
    {
      "cell_type": "code",
      "metadata": {
        "id": "3OlYqLOSpL4q",
        "colab_type": "code",
        "colab": {
          "base_uri": "https://localhost:8080/",
          "height": 51
        },
        "outputId": "744b9103-9344-4232-fff3-0037bc2f1f2a"
      },
      "source": [
        "#Predicting a new result\n",
        "y_pred = regressor.predict(X_test)\n",
        "y_pred"
      ],
      "execution_count": null,
      "outputs": [
        {
          "output_type": "execute_result",
          "data": {
            "text/plain": [
              "array([-0.29238426,  1.71657146,  0.1035014 , ...,  0.87131092,\n",
              "       -1.17346361, -0.98298458])"
            ]
          },
          "metadata": {
            "tags": []
          },
          "execution_count": 1423
        }
      ]
    },
    {
      "cell_type": "code",
      "metadata": {
        "id": "sGWR4MQ0pwZ4",
        "colab_type": "code",
        "colab": {
          "base_uri": "https://localhost:8080/",
          "height": 391
        },
        "outputId": "47641f9d-72c3-4092-a569-c303ab4071d5"
      },
      "source": [
        "#Visualising using scatterplot\n",
        "plt.subplots(figsize=(12,6))                      \n",
        "plt.scatter(y_test,y_pred)"
      ],
      "execution_count": null,
      "outputs": [
        {
          "output_type": "execute_result",
          "data": {
            "text/plain": [
              "<matplotlib.collections.PathCollection at 0x7f893f311d68>"
            ]
          },
          "metadata": {
            "tags": []
          },
          "execution_count": 1424
        },
        {
          "output_type": "display_data",
          "data": {
            "image/png": "[encoded data removed]",
            "text/plain": [
              "<Figure size 864x432 with 1 Axes>"
            ]
          },
          "metadata": {
            "tags": [],
            "needs_background": "light"
          }
        }
      ]
    },
    {
      "cell_type": "code",
      "metadata": {
        "id": "xou2hYeLqDSq",
        "colab_type": "code",
        "colab": {
          "base_uri": "https://localhost:8080/",
          "height": 391
        },
        "outputId": "2515297c-b9e5-463b-cf10-da2337208589"
      },
      "source": [
        "plt.subplots(figsize=(12,6))\n",
        "sns.distplot(y_test-y_pred, bins= 50)"
      ],
      "execution_count": null,
      "outputs": [
        {
          "output_type": "execute_result",
          "data": {
            "text/plain": [
              "<matplotlib.axes._subplots.AxesSubplot at 0x7f893912aef0>"
            ]
          },
          "metadata": {
            "tags": []
          },
          "execution_count": 1425
        },
        {
          "output_type": "display_data",
          "data": {
            "image/png": "[encoded data removed]",
            "text/plain": [
              "<Figure size 864x432 with 1 Axes>"
            ]
          },
          "metadata": {
            "tags": [],
            "needs_background": "light"
          }
        }
      ]
    },
    {
      "cell_type": "code",
      "metadata": {
        "id": "Haq4h31jqb8P",
        "colab_type": "code",
        "colab": {
          "base_uri": "https://localhost:8080/",
          "height": 85
        },
        "outputId": "0bb33277-085c-471b-b177-6f91ca2f8af5"
      },
      "source": [
        "print('R2 Score:', metrics.r2_score(y_test, y_pred))\n",
        "print('Mean Absolute Error:', metrics.mean_absolute_error(y_test, y_pred))  \n",
        "print('Mean Squared Error:', metrics.mean_squared_error(y_test, y_pred))\n",
        "print('Root Mean Squared Error:', np.sqrt(metrics.mean_squared_error(y_test, y_pred)))\n"
      ],
      "execution_count": null,
      "outputs": [
        {
          "output_type": "stream",
          "text": [
            "R2 Score: 0.8837541313119542\n",
            "Mean Absolute Error: 0.23299115693944455\n",
            "Mean Squared Error: 0.11036419887810223\n",
            "Root Mean Squared Error: 0.3322110757908325\n"
          ],
          "name": "stdout"
        }
      ]
    },
    {
      "cell_type": "markdown",
      "metadata": {
        "id": "zSLR1nF23Fyu",
        "colab_type": "text"
      },
      "source": [
        ">The R-Square value of SVM algorithum is slightly better than K-NN algorithm"
      ]
    },
    {
      "cell_type": "markdown",
      "metadata": {
        "id": "JYlkAY4W4N-I",
        "colab_type": "text"
      },
      "source": [
        "**INSIGHTS:**\n",
        "\n",
        ">R-squared is always between 0 and 100%:\n",
        "\n",
        ">0% indicates that the model explains none of the variability of the response data around its mean.\n",
        ">100% indicates that the model explains all the variability of the response data around its mean.\n",
        "\n",
        ">In general, the higher the R-squared, the better the model fits your data\n",
        "\n",
        ">After trying some algorithms, we have observed that, **Random Forest** has given better results when compared with the other algorithms and it best fits the data"
      ]
    }
  ]
}